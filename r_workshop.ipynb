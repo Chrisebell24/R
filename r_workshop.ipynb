{
 "cells": [
  {
   "cell_type": "markdown",
   "metadata": {},
   "source": [
    "## General \n",
    "\n",
    "r is sometime better for statistical packages. R is still better than Python on the statistics heavy stuff. "
   ]
  },
  {
   "cell_type": "code",
   "execution_count": null,
   "metadata": {
    "collapsed": true
   },
   "outputs": [],
   "source": [
    "# comments in R are made with the #"
   ]
  },
  {
   "cell_type": "markdown",
   "metadata": {},
   "source": [
    "To allow images, use the following. This is Jupyter Notebook specific"
   ]
  },
  {
   "cell_type": "markdown",
   "metadata": {},
   "source": [
    "## Installing Packages\n",
    "\n",
    "Installing packages can be done in Jupyter Notebook. They are stored on the CRAN repository. You only need to install a specific package once, but you will need to load them."
   ]
  },
  {
   "cell_type": "code",
   "execution_count": null,
   "metadata": {},
   "outputs": [],
   "source": [
    "install.packages('ggplot2')"
   ]
  },
  {
   "cell_type": "code",
   "execution_count": null,
   "metadata": {},
   "outputs": [],
   "source": [
    "install.packages('dplyr')"
   ]
  },
  {
   "cell_type": "code",
   "execution_count": null,
   "metadata": {},
   "outputs": [],
   "source": [
    "install.packages('rmarkdown')"
   ]
  },
  {
   "cell_type": "markdown",
   "metadata": {},
   "source": [
    "To load a library, use library(package_name)"
   ]
  },
  {
   "cell_type": "code",
   "execution_count": null,
   "metadata": {},
   "outputs": [],
   "source": [
    "library(ggplot2)\n",
    "library(dplyr)"
   ]
  },
  {
   "cell_type": "markdown",
   "metadata": {},
   "source": [
    "You might get a message the says\n",
    "\n",
    "\"The following objects are masked from...\"\n",
    "\n",
    "This means a function may have been loaded multiple times. If you want to run a specific function from a package, you can use package_name::function_name"
   ]
  },
  {
   "cell_type": "markdown",
   "metadata": {},
   "source": [
    "## Help\n",
    "Using stackoverflow.com for troubleshooting is a good idea. If you do not know what a function does, you can always type a line of code with a ? in front of a line of code to bring up the R documentation. To search for a specific keyword in the R documentation, you can use ?? in front of your search term"
   ]
  },
  {
   "cell_type": "code",
   "execution_count": null,
   "metadata": {
    "collapsed": true
   },
   "outputs": [],
   "source": [
    "?sqrt"
   ]
  },
  {
   "cell_type": "code",
   "execution_count": null,
   "metadata": {},
   "outputs": [],
   "source": [
    "??'square root'"
   ]
  },
  {
   "cell_type": "markdown",
   "metadata": {},
   "source": [
    "To remove a package or variable, you can use rm"
   ]
  },
  {
   "cell_type": "code",
   "execution_count": null,
   "metadata": {},
   "outputs": [],
   "source": [
    "a = 3\n",
    "a"
   ]
  },
  {
   "cell_type": "code",
   "execution_count": null,
   "metadata": {
    "collapsed": true
   },
   "outputs": [],
   "source": [
    "rm(a)"
   ]
  },
  {
   "cell_type": "code",
   "execution_count": null,
   "metadata": {},
   "outputs": [],
   "source": [
    "a"
   ]
  },
  {
   "cell_type": "markdown",
   "metadata": {},
   "source": [
    "## Basic Operations"
   ]
  },
  {
   "cell_type": "markdown",
   "metadata": {},
   "source": [
    "You can use exponents multiple different ways"
   ]
  },
  {
   "cell_type": "code",
   "execution_count": null,
   "metadata": {},
   "outputs": [],
   "source": [
    "2**3"
   ]
  },
  {
   "cell_type": "code",
   "execution_count": null,
   "metadata": {},
   "outputs": [],
   "source": [
    "2^3"
   ]
  },
  {
   "cell_type": "markdown",
   "metadata": {},
   "source": [
    "It also understands e notation"
   ]
  },
  {
   "cell_type": "code",
   "execution_count": null,
   "metadata": {},
   "outputs": [],
   "source": [
    "2e8"
   ]
  },
  {
   "cell_type": "markdown",
   "metadata": {},
   "source": [
    "## Basic Functions"
   ]
  },
  {
   "cell_type": "code",
   "execution_count": null,
   "metadata": {},
   "outputs": [],
   "source": [
    "abs(-5)"
   ]
  },
  {
   "cell_type": "code",
   "execution_count": null,
   "metadata": {},
   "outputs": [],
   "source": [
    "sqrt(100)"
   ]
  },
  {
   "cell_type": "markdown",
   "metadata": {},
   "source": [
    "## Boolean operations"
   ]
  },
  {
   "cell_type": "markdown",
   "metadata": {},
   "source": [
    "Can use basic operations to get boolean TRUE and FALSE values"
   ]
  },
  {
   "cell_type": "code",
   "execution_count": null,
   "metadata": {},
   "outputs": [],
   "source": [
    "1 < 2"
   ]
  },
  {
   "cell_type": "code",
   "execution_count": null,
   "metadata": {},
   "outputs": [],
   "source": [
    "(1 < 2) && (3 != 2)"
   ]
  },
  {
   "cell_type": "code",
   "execution_count": null,
   "metadata": {},
   "outputs": [],
   "source": [
    "(1 > 2) || (3 == 3)"
   ]
  },
  {
   "cell_type": "code",
   "execution_count": null,
   "metadata": {},
   "outputs": [],
   "source": [
    "(1 > 2) || (3 != 3)"
   ]
  },
  {
   "cell_type": "code",
   "execution_count": null,
   "metadata": {},
   "outputs": [],
   "source": [
    "2 >= 2"
   ]
  },
  {
   "cell_type": "markdown",
   "metadata": {},
   "source": [
    "Equals is =="
   ]
  },
  {
   "cell_type": "code",
   "execution_count": null,
   "metadata": {},
   "outputs": [],
   "source": [
    "1 == 1"
   ]
  },
  {
   "cell_type": "markdown",
   "metadata": {},
   "source": [
    "Not equal is !="
   ]
  },
  {
   "cell_type": "code",
   "execution_count": null,
   "metadata": {},
   "outputs": [],
   "source": [
    "1 != 2"
   ]
  },
  {
   "cell_type": "markdown",
   "metadata": {},
   "source": [
    "Throws an error when equal sign is first in greater (less) than or equal to"
   ]
  },
  {
   "cell_type": "code",
   "execution_count": null,
   "metadata": {},
   "outputs": [],
   "source": [
    "2 => 2"
   ]
  },
  {
   "cell_type": "markdown",
   "metadata": {},
   "source": [
    "T and F mean TRUE and FALSE respectively"
   ]
  },
  {
   "cell_type": "code",
   "execution_count": null,
   "metadata": {},
   "outputs": [],
   "source": [
    "T"
   ]
  },
  {
   "cell_type": "code",
   "execution_count": null,
   "metadata": {},
   "outputs": [],
   "source": [
    "F"
   ]
  },
  {
   "cell_type": "markdown",
   "metadata": {},
   "source": [
    "## Other Special Values"
   ]
  },
  {
   "cell_type": "code",
   "execution_count": null,
   "metadata": {},
   "outputs": [],
   "source": [
    "pi"
   ]
  },
  {
   "cell_type": "markdown",
   "metadata": {},
   "source": [
    "Infinity"
   ]
  },
  {
   "cell_type": "code",
   "execution_count": null,
   "metadata": {},
   "outputs": [],
   "source": [
    "Inf"
   ]
  },
  {
   "cell_type": "code",
   "execution_count": null,
   "metadata": {},
   "outputs": [],
   "source": [
    "-Inf"
   ]
  },
  {
   "cell_type": "code",
   "execution_count": null,
   "metadata": {},
   "outputs": [],
   "source": [
    "1/0"
   ]
  },
  {
   "cell_type": "markdown",
   "metadata": {},
   "source": [
    "Not a number NaN can be made which means that something in your code is broken. Once, you go NaN you never go back."
   ]
  },
  {
   "cell_type": "code",
   "execution_count": null,
   "metadata": {},
   "outputs": [],
   "source": [
    "NaN"
   ]
  },
  {
   "cell_type": "code",
   "execution_count": null,
   "metadata": {},
   "outputs": [],
   "source": [
    "0/0"
   ]
  },
  {
   "cell_type": "code",
   "execution_count": null,
   "metadata": {},
   "outputs": [],
   "source": [
    "0/0 * 100"
   ]
  },
  {
   "cell_type": "code",
   "execution_count": null,
   "metadata": {},
   "outputs": [],
   "source": [
    "0/0 + 100"
   ]
  },
  {
   "cell_type": "markdown",
   "metadata": {},
   "source": [
    "Missing values are represented by NA. This generally could be made from missing data."
   ]
  },
  {
   "cell_type": "code",
   "execution_count": null,
   "metadata": {},
   "outputs": [],
   "source": [
    "NA"
   ]
  },
  {
   "cell_type": "markdown",
   "metadata": {},
   "source": [
    "Nothing is Null"
   ]
  },
  {
   "cell_type": "code",
   "execution_count": null,
   "metadata": {},
   "outputs": [],
   "source": [
    "NULL"
   ]
  },
  {
   "cell_type": "markdown",
   "metadata": {},
   "source": [
    "## Strings"
   ]
  },
  {
   "cell_type": "markdown",
   "metadata": {},
   "source": [
    "Classic example of strings"
   ]
  },
  {
   "cell_type": "code",
   "execution_count": null,
   "metadata": {},
   "outputs": [],
   "source": [
    "\"Hello world\""
   ]
  },
  {
   "cell_type": "code",
   "execution_count": null,
   "metadata": {},
   "outputs": [],
   "source": [
    "'Hello world'"
   ]
  },
  {
   "cell_type": "code",
   "execution_count": 8,
   "metadata": {},
   "outputs": [
    {
     "data": {
      "text/html": [
       "'Hello World'"
      ],
      "text/latex": [
       "'Hello World'"
      ],
      "text/markdown": [
       "'Hello World'"
      ],
      "text/plain": [
       "[1] \"Hello World\""
      ]
     },
     "metadata": {},
     "output_type": "display_data"
    }
   ],
   "source": [
    "paste(\"Hello\",\"World\")"
   ]
  },
  {
   "cell_type": "code",
   "execution_count": 9,
   "metadata": {},
   "outputs": [
    {
     "data": {
      "text/html": [
       "'Hello World!'"
      ],
      "text/latex": [
       "'Hello World!'"
      ],
      "text/markdown": [
       "'Hello World!'"
      ],
      "text/plain": [
       "[1] \"Hello World!\""
      ]
     },
     "metadata": {},
     "output_type": "display_data"
    }
   ],
   "source": [
    "paste(\"Hello\",\" \",\"World\",\"!\", sep=\"\")"
   ]
  },
  {
   "cell_type": "markdown",
   "metadata": {},
   "source": [
    "## Numbers"
   ]
  },
  {
   "cell_type": "code",
   "execution_count": null,
   "metadata": {},
   "outputs": [],
   "source": [
    "1.0"
   ]
  },
  {
   "cell_type": "code",
   "execution_count": null,
   "metadata": {},
   "outputs": [],
   "source": [
    "1"
   ]
  },
  {
   "cell_type": "code",
   "execution_count": null,
   "metadata": {},
   "outputs": [],
   "source": [
    "# modulus\n",
    "6 %% 4"
   ]
  },
  {
   "cell_type": "code",
   "execution_count": null,
   "metadata": {},
   "outputs": [],
   "source": [
    "# integer division\n",
    "6 %/% 4"
   ]
  },
  {
   "cell_type": "markdown",
   "metadata": {},
   "source": [
    "## log is base e"
   ]
  },
  {
   "cell_type": "markdown",
   "metadata": {},
   "source": [
    "log 10 is not 1"
   ]
  },
  {
   "cell_type": "code",
   "execution_count": null,
   "metadata": {},
   "outputs": [],
   "source": [
    "log(10)"
   ]
  },
  {
   "cell_type": "markdown",
   "metadata": {},
   "source": [
    "Need to use log10"
   ]
  },
  {
   "cell_type": "code",
   "execution_count": null,
   "metadata": {},
   "outputs": [],
   "source": [
    "log10(10)"
   ]
  },
  {
   "cell_type": "markdown",
   "metadata": {},
   "source": [
    "## Is Checks"
   ]
  },
  {
   "cell_type": "code",
   "execution_count": null,
   "metadata": {},
   "outputs": [],
   "source": [
    "is.nan(NaN)"
   ]
  },
  {
   "cell_type": "code",
   "execution_count": null,
   "metadata": {},
   "outputs": [],
   "source": [
    "is.finite(100)"
   ]
  },
  {
   "cell_type": "code",
   "execution_count": null,
   "metadata": {},
   "outputs": [],
   "source": [
    "is.finite('not finite')"
   ]
  },
  {
   "cell_type": "markdown",
   "metadata": {},
   "source": [
    "## Assignment"
   ]
  },
  {
   "cell_type": "markdown",
   "metadata": {},
   "source": [
    "Assignment can be stored with one equal sign ="
   ]
  },
  {
   "cell_type": "code",
   "execution_count": 15,
   "metadata": {},
   "outputs": [
    {
     "data": {
      "text/html": [
       "10"
      ],
      "text/latex": [
       "10"
      ],
      "text/markdown": [
       "10"
      ],
      "text/plain": [
       "[1] 10"
      ]
     },
     "metadata": {},
     "output_type": "display_data"
    }
   ],
   "source": [
    "a = 10\n",
    "a"
   ]
  },
  {
   "cell_type": "markdown",
   "metadata": {},
   "source": [
    "You can also use an arrow -> or <- to indicate direction. This is considered a better practice, but it is more unique to R if you are coming from different languages."
   ]
  },
  {
   "cell_type": "code",
   "execution_count": 16,
   "metadata": {},
   "outputs": [
    {
     "data": {
      "text/html": [
       "2"
      ],
      "text/latex": [
       "2"
      ],
      "text/markdown": [
       "2"
      ],
      "text/plain": [
       "[1] 2"
      ]
     },
     "metadata": {},
     "output_type": "display_data"
    }
   ],
   "source": [
    "b <- 2\n",
    "b"
   ]
  },
  {
   "cell_type": "code",
   "execution_count": 17,
   "metadata": {},
   "outputs": [
    {
     "data": {
      "text/html": [
       "5"
      ],
      "text/latex": [
       "5"
      ],
      "text/markdown": [
       "5"
      ],
      "text/plain": [
       "[1] 5"
      ]
     },
     "metadata": {},
     "output_type": "display_data"
    }
   ],
   "source": [
    "5 -> d\n",
    "d"
   ]
  },
  {
   "cell_type": "code",
   "execution_count": 18,
   "metadata": {},
   "outputs": [
    {
     "data": {
      "text/html": [
       "17"
      ],
      "text/latex": [
       "17"
      ],
      "text/markdown": [
       "17"
      ],
      "text/plain": [
       "[1] 17"
      ]
     },
     "metadata": {},
     "output_type": "display_data"
    }
   ],
   "source": [
    "a + b + d"
   ]
  },
  {
   "cell_type": "markdown",
   "metadata": {},
   "source": [
    "## Variable Names"
   ]
  },
  {
   "cell_type": "markdown",
   "metadata": {},
   "source": [
    "Note: DO NOT use c, q, t, data, df, time, or date for variable names"
   ]
  },
  {
   "cell_type": "code",
   "execution_count": null,
   "metadata": {
    "collapsed": true
   },
   "outputs": [],
   "source": [
    "?reserved"
   ]
  },
  {
   "cell_type": "markdown",
   "metadata": {},
   "source": [
    "The following are all valid for making one variable\n",
    "\n",
    "car.model\n",
    "\n",
    "car_model\n",
    "\n",
    "CarModel"
   ]
  },
  {
   "cell_type": "code",
   "execution_count": null,
   "metadata": {},
   "outputs": [],
   "source": [
    "car.model <- 'mustang'\n",
    "car.model"
   ]
  },
  {
   "cell_type": "code",
   "execution_count": null,
   "metadata": {},
   "outputs": [],
   "source": [
    "car_model <- 'camero'\n",
    "car_model"
   ]
  },
  {
   "cell_type": "code",
   "execution_count": null,
   "metadata": {},
   "outputs": [],
   "source": [
    "CarModel <- 'sonata'\n",
    "CarModel"
   ]
  },
  {
   "cell_type": "markdown",
   "metadata": {},
   "source": [
    "There are some reserved keywords such as TRUE or FALSE that are not allowed to be variables"
   ]
  },
  {
   "cell_type": "markdown",
   "metadata": {},
   "source": [
    "R is weak typed. This means that you can switch data types of your variables."
   ]
  },
  {
   "cell_type": "code",
   "execution_count": 2,
   "metadata": {},
   "outputs": [
    {
     "data": {
      "text/html": [
       "7"
      ],
      "text/latex": [
       "7"
      ],
      "text/markdown": [
       "7"
      ],
      "text/plain": [
       "[1] 7"
      ]
     },
     "metadata": {},
     "output_type": "display_data"
    }
   ],
   "source": [
    "x <- 7\n",
    "x"
   ]
  },
  {
   "cell_type": "code",
   "execution_count": 3,
   "metadata": {},
   "outputs": [
    {
     "data": {
      "text/html": [
       "'seven'"
      ],
      "text/latex": [
       "'seven'"
      ],
      "text/markdown": [
       "'seven'"
      ],
      "text/plain": [
       "[1] \"seven\""
      ]
     },
     "metadata": {},
     "output_type": "display_data"
    }
   ],
   "source": [
    "x <- 'seven'\n",
    "x"
   ]
  },
  {
   "cell_type": "markdown",
   "metadata": {},
   "source": [
    "## Vector\n",
    "A vector is a collection of values of the same type. To create a vector, you can use c(), numeric(), :, seq, or rep."
   ]
  },
  {
   "cell_type": "code",
   "execution_count": 23,
   "metadata": {},
   "outputs": [
    {
     "data": {
      "text/html": [
       "1.5"
      ],
      "text/latex": [
       "1.5"
      ],
      "text/markdown": [
       "1.5"
      ],
      "text/plain": [
       "[1] 1.5"
      ]
     },
     "metadata": {},
     "output_type": "display_data"
    }
   ],
   "source": [
    "mean(c(1,2))"
   ]
  },
  {
   "cell_type": "markdown",
   "metadata": {},
   "source": [
    "Using a different type will try to force it to a different one if it can"
   ]
  },
  {
   "cell_type": "code",
   "execution_count": 24,
   "metadata": {},
   "outputs": [
    {
     "data": {
      "text/html": [
       "<ol class=list-inline>\n",
       "\t<li>'1'</li>\n",
       "\t<li>'2'</li>\n",
       "\t<li>'3'</li>\n",
       "</ol>\n"
      ],
      "text/latex": [
       "\\begin{enumerate*}\n",
       "\\item '1'\n",
       "\\item '2'\n",
       "\\item '3'\n",
       "\\end{enumerate*}\n"
      ],
      "text/markdown": [
       "1. '1'\n",
       "2. '2'\n",
       "3. '3'\n",
       "\n",
       "\n"
      ],
      "text/plain": [
       "[1] \"1\" \"2\" \"3\""
      ]
     },
     "metadata": {},
     "output_type": "display_data"
    }
   ],
   "source": [
    "c('1',2,3)"
   ]
  },
  {
   "cell_type": "markdown",
   "metadata": {},
   "source": [
    "Ignores NULL"
   ]
  },
  {
   "cell_type": "code",
   "execution_count": 27,
   "metadata": {},
   "outputs": [
    {
     "data": {
      "text/html": [
       "<ol class=list-inline>\n",
       "\t<li>2</li>\n",
       "\t<li>3</li>\n",
       "\t<li>4</li>\n",
       "</ol>\n"
      ],
      "text/latex": [
       "\\begin{enumerate*}\n",
       "\\item 2\n",
       "\\item 3\n",
       "\\item 4\n",
       "\\end{enumerate*}\n"
      ],
      "text/markdown": [
       "1. 2\n",
       "2. 3\n",
       "3. 4\n",
       "\n",
       "\n"
      ],
      "text/plain": [
       "[1] 2 3 4"
      ]
     },
     "metadata": {},
     "output_type": "display_data"
    }
   ],
   "source": [
    "c(2,3,4, NULL)"
   ]
  },
  {
   "cell_type": "code",
   "execution_count": 32,
   "metadata": {},
   "outputs": [
    {
     "data": {
      "text/html": [
       "<ol class=list-inline>\n",
       "\t<li>0</li>\n",
       "\t<li>0</li>\n",
       "</ol>\n"
      ],
      "text/latex": [
       "\\begin{enumerate*}\n",
       "\\item 0\n",
       "\\item 0\n",
       "\\end{enumerate*}\n"
      ],
      "text/markdown": [
       "1. 0\n",
       "2. 0\n",
       "\n",
       "\n"
      ],
      "text/plain": [
       "[1] 0 0"
      ]
     },
     "metadata": {},
     "output_type": "display_data"
    }
   ],
   "source": [
    "numeric(length=2)"
   ]
  },
  {
   "cell_type": "markdown",
   "metadata": {},
   "source": [
    "rep gives you a repeating vector"
   ]
  },
  {
   "cell_type": "code",
   "execution_count": 40,
   "metadata": {},
   "outputs": [
    {
     "data": {
      "text/html": [
       "<ol class=list-inline>\n",
       "\t<li>1</li>\n",
       "\t<li>1</li>\n",
       "\t<li>1</li>\n",
       "\t<li>1</li>\n",
       "\t<li>1</li>\n",
       "</ol>\n"
      ],
      "text/latex": [
       "\\begin{enumerate*}\n",
       "\\item 1\n",
       "\\item 1\n",
       "\\item 1\n",
       "\\item 1\n",
       "\\item 1\n",
       "\\end{enumerate*}\n"
      ],
      "text/markdown": [
       "1. 1\n",
       "2. 1\n",
       "3. 1\n",
       "4. 1\n",
       "5. 1\n",
       "\n",
       "\n"
      ],
      "text/plain": [
       "[1] 1 1 1 1 1"
      ]
     },
     "metadata": {},
     "output_type": "display_data"
    }
   ],
   "source": [
    "rep(1, 5)"
   ]
  },
  {
   "cell_type": "markdown",
   "metadata": {},
   "source": [
    "A sequence increaing or decreaing"
   ]
  },
  {
   "cell_type": "code",
   "execution_count": 42,
   "metadata": {},
   "outputs": [
    {
     "data": {
      "text/html": [
       "<ol class=list-inline>\n",
       "\t<li>3</li>\n",
       "\t<li>4</li>\n",
       "\t<li>5</li>\n",
       "\t<li>6</li>\n",
       "\t<li>7</li>\n",
       "</ol>\n"
      ],
      "text/latex": [
       "\\begin{enumerate*}\n",
       "\\item 3\n",
       "\\item 4\n",
       "\\item 5\n",
       "\\item 6\n",
       "\\item 7\n",
       "\\end{enumerate*}\n"
      ],
      "text/markdown": [
       "1. 3\n",
       "2. 4\n",
       "3. 5\n",
       "4. 6\n",
       "5. 7\n",
       "\n",
       "\n"
      ],
      "text/plain": [
       "[1] 3 4 5 6 7"
      ]
     },
     "metadata": {},
     "output_type": "display_data"
    }
   ],
   "source": [
    "3:7"
   ]
  },
  {
   "cell_type": "code",
   "execution_count": 41,
   "metadata": {},
   "outputs": [
    {
     "data": {
      "text/html": [
       "<ol class=list-inline>\n",
       "\t<li>7</li>\n",
       "\t<li>6</li>\n",
       "\t<li>5</li>\n",
       "\t<li>4</li>\n",
       "\t<li>3</li>\n",
       "</ol>\n"
      ],
      "text/latex": [
       "\\begin{enumerate*}\n",
       "\\item 7\n",
       "\\item 6\n",
       "\\item 5\n",
       "\\item 4\n",
       "\\item 3\n",
       "\\end{enumerate*}\n"
      ],
      "text/markdown": [
       "1. 7\n",
       "2. 6\n",
       "3. 5\n",
       "4. 4\n",
       "5. 3\n",
       "\n",
       "\n"
      ],
      "text/plain": [
       "[1] 7 6 5 4 3"
      ]
     },
     "metadata": {},
     "output_type": "display_data"
    }
   ],
   "source": [
    "7:3"
   ]
  },
  {
   "cell_type": "markdown",
   "metadata": {},
   "source": [
    "A basic sequence going from 1 to the number uses the seq() function"
   ]
  },
  {
   "cell_type": "code",
   "execution_count": 43,
   "metadata": {},
   "outputs": [
    {
     "data": {
      "text/html": [
       "<ol class=list-inline>\n",
       "\t<li>1</li>\n",
       "\t<li>2</li>\n",
       "\t<li>3</li>\n",
       "\t<li>4</li>\n",
       "\t<li>5</li>\n",
       "\t<li>6</li>\n",
       "\t<li>7</li>\n",
       "\t<li>8</li>\n",
       "\t<li>9</li>\n",
       "\t<li>10</li>\n",
       "</ol>\n"
      ],
      "text/latex": [
       "\\begin{enumerate*}\n",
       "\\item 1\n",
       "\\item 2\n",
       "\\item 3\n",
       "\\item 4\n",
       "\\item 5\n",
       "\\item 6\n",
       "\\item 7\n",
       "\\item 8\n",
       "\\item 9\n",
       "\\item 10\n",
       "\\end{enumerate*}\n"
      ],
      "text/markdown": [
       "1. 1\n",
       "2. 2\n",
       "3. 3\n",
       "4. 4\n",
       "5. 5\n",
       "6. 6\n",
       "7. 7\n",
       "8. 8\n",
       "9. 9\n",
       "10. 10\n",
       "\n",
       "\n"
      ],
      "text/plain": [
       " [1]  1  2  3  4  5  6  7  8  9 10"
      ]
     },
     "metadata": {},
     "output_type": "display_data"
    }
   ],
   "source": [
    "seq(10)"
   ]
  },
  {
   "cell_type": "markdown",
   "metadata": {},
   "source": [
    "c can append vectors together"
   ]
  },
  {
   "cell_type": "code",
   "execution_count": 44,
   "metadata": {},
   "outputs": [
    {
     "data": {
      "text/html": [
       "<ol class=list-inline>\n",
       "\t<li>1</li>\n",
       "\t<li>2</li>\n",
       "\t<li>3</li>\n",
       "\t<li>4</li>\n",
       "\t<li>5</li>\n",
       "\t<li>6</li>\n",
       "\t<li>7</li>\n",
       "\t<li>8</li>\n",
       "\t<li>9</li>\n",
       "\t<li>10</li>\n",
       "\t<li>11</li>\n",
       "\t<li>12</li>\n",
       "</ol>\n"
      ],
      "text/latex": [
       "\\begin{enumerate*}\n",
       "\\item 1\n",
       "\\item 2\n",
       "\\item 3\n",
       "\\item 4\n",
       "\\item 5\n",
       "\\item 6\n",
       "\\item 7\n",
       "\\item 8\n",
       "\\item 9\n",
       "\\item 10\n",
       "\\item 11\n",
       "\\item 12\n",
       "\\end{enumerate*}\n"
      ],
      "text/markdown": [
       "1. 1\n",
       "2. 2\n",
       "3. 3\n",
       "4. 4\n",
       "5. 5\n",
       "6. 6\n",
       "7. 7\n",
       "8. 8\n",
       "9. 9\n",
       "10. 10\n",
       "11. 11\n",
       "12. 12\n",
       "\n",
       "\n"
      ],
      "text/plain": [
       " [1]  1  2  3  4  5  6  7  8  9 10 11 12"
      ]
     },
     "metadata": {},
     "output_type": "display_data"
    }
   ],
   "source": [
    "c(seq(10), 11, 12)"
   ]
  },
  {
   "cell_type": "code",
   "execution_count": 45,
   "metadata": {},
   "outputs": [
    {
     "data": {
      "text/html": [
       "<ol class=list-inline>\n",
       "\t<li>1</li>\n",
       "\t<li>2</li>\n",
       "\t<li>3</li>\n",
       "\t<li>4</li>\n",
       "\t<li>5</li>\n",
       "\t<li>6</li>\n",
       "\t<li>7</li>\n",
       "\t<li>8</li>\n",
       "\t<li>9</li>\n",
       "\t<li>10</li>\n",
       "\t<li>11</li>\n",
       "\t<li>12</li>\n",
       "\t<li>13</li>\n",
       "\t<li>14</li>\n",
       "\t<li>15</li>\n",
       "\t<li>16</li>\n",
       "\t<li>17</li>\n",
       "\t<li>18</li>\n",
       "\t<li>19</li>\n",
       "\t<li>20</li>\n",
       "</ol>\n"
      ],
      "text/latex": [
       "\\begin{enumerate*}\n",
       "\\item 1\n",
       "\\item 2\n",
       "\\item 3\n",
       "\\item 4\n",
       "\\item 5\n",
       "\\item 6\n",
       "\\item 7\n",
       "\\item 8\n",
       "\\item 9\n",
       "\\item 10\n",
       "\\item 11\n",
       "\\item 12\n",
       "\\item 13\n",
       "\\item 14\n",
       "\\item 15\n",
       "\\item 16\n",
       "\\item 17\n",
       "\\item 18\n",
       "\\item 19\n",
       "\\item 20\n",
       "\\end{enumerate*}\n"
      ],
      "text/markdown": [
       "1. 1\n",
       "2. 2\n",
       "3. 3\n",
       "4. 4\n",
       "5. 5\n",
       "6. 6\n",
       "7. 7\n",
       "8. 8\n",
       "9. 9\n",
       "10. 10\n",
       "11. 11\n",
       "12. 12\n",
       "13. 13\n",
       "14. 14\n",
       "15. 15\n",
       "16. 16\n",
       "17. 17\n",
       "18. 18\n",
       "19. 19\n",
       "20. 20\n",
       "\n",
       "\n"
      ],
      "text/plain": [
       " [1]  1  2  3  4  5  6  7  8  9 10 11 12 13 14 15 16 17 18 19 20"
      ]
     },
     "metadata": {},
     "output_type": "display_data"
    }
   ],
   "source": [
    "c(seq(10), 11:20)"
   ]
  },
  {
   "cell_type": "markdown",
   "metadata": {},
   "source": [
    "To get a specific index you can use brackets for a list"
   ]
  },
  {
   "cell_type": "code",
   "execution_count": 47,
   "metadata": {},
   "outputs": [
    {
     "data": {
      "text/html": [
       "5"
      ],
      "text/latex": [
       "5"
      ],
      "text/markdown": [
       "5"
      ],
      "text/plain": [
       "[1] 5"
      ]
     },
     "metadata": {},
     "output_type": "display_data"
    }
   ],
   "source": [
    "seq(10)[5]"
   ]
  },
  {
   "cell_type": "markdown",
   "metadata": {},
   "source": [
    "you can return multiple values with an index vector"
   ]
  },
  {
   "cell_type": "code",
   "execution_count": 52,
   "metadata": {},
   "outputs": [
    {
     "data": {
      "text/html": [
       "<ol class=list-inline>\n",
       "\t<li>2</li>\n",
       "\t<li>3</li>\n",
       "</ol>\n"
      ],
      "text/latex": [
       "\\begin{enumerate*}\n",
       "\\item 2\n",
       "\\item 3\n",
       "\\end{enumerate*}\n"
      ],
      "text/markdown": [
       "1. 2\n",
       "2. 3\n",
       "\n",
       "\n"
      ],
      "text/plain": [
       "[1] 2 3"
      ]
     },
     "metadata": {},
     "output_type": "display_data"
    }
   ],
   "source": [
    "2:3"
   ]
  },
  {
   "cell_type": "code",
   "execution_count": 53,
   "metadata": {
    "collapsed": true
   },
   "outputs": [],
   "source": [
    "my_vector <- c('a','b','c','d','e','f')"
   ]
  },
  {
   "cell_type": "code",
   "execution_count": 56,
   "metadata": {},
   "outputs": [
    {
     "data": {
      "text/html": [
       "<ol class=list-inline>\n",
       "\t<li>'a'</li>\n",
       "\t<li>'b'</li>\n",
       "\t<li>'c'</li>\n",
       "\t<li>'d'</li>\n",
       "\t<li>'e'</li>\n",
       "\t<li>'f'</li>\n",
       "</ol>\n"
      ],
      "text/latex": [
       "\\begin{enumerate*}\n",
       "\\item 'a'\n",
       "\\item 'b'\n",
       "\\item 'c'\n",
       "\\item 'd'\n",
       "\\item 'e'\n",
       "\\item 'f'\n",
       "\\end{enumerate*}\n"
      ],
      "text/markdown": [
       "1. 'a'\n",
       "2. 'b'\n",
       "3. 'c'\n",
       "4. 'd'\n",
       "5. 'e'\n",
       "6. 'f'\n",
       "\n",
       "\n"
      ],
      "text/plain": [
       "[1] \"a\" \"b\" \"c\" \"d\" \"e\" \"f\""
      ]
     },
     "metadata": {},
     "output_type": "display_data"
    }
   ],
   "source": [
    "my_vector"
   ]
  },
  {
   "cell_type": "markdown",
   "metadata": {},
   "source": [
    "Order for indexing matters"
   ]
  },
  {
   "cell_type": "code",
   "execution_count": 54,
   "metadata": {},
   "outputs": [
    {
     "data": {
      "text/html": [
       "<ol class=list-inline>\n",
       "\t<li>'b'</li>\n",
       "\t<li>'c'</li>\n",
       "</ol>\n"
      ],
      "text/latex": [
       "\\begin{enumerate*}\n",
       "\\item 'b'\n",
       "\\item 'c'\n",
       "\\end{enumerate*}\n"
      ],
      "text/markdown": [
       "1. 'b'\n",
       "2. 'c'\n",
       "\n",
       "\n"
      ],
      "text/plain": [
       "[1] \"b\" \"c\""
      ]
     },
     "metadata": {},
     "output_type": "display_data"
    }
   ],
   "source": [
    "my_vector[2:3]"
   ]
  },
  {
   "cell_type": "code",
   "execution_count": 55,
   "metadata": {},
   "outputs": [
    {
     "data": {
      "text/html": [
       "<ol class=list-inline>\n",
       "\t<li>'c'</li>\n",
       "\t<li>'b'</li>\n",
       "</ol>\n"
      ],
      "text/latex": [
       "\\begin{enumerate*}\n",
       "\\item 'c'\n",
       "\\item 'b'\n",
       "\\end{enumerate*}\n"
      ],
      "text/markdown": [
       "1. 'c'\n",
       "2. 'b'\n",
       "\n",
       "\n"
      ],
      "text/plain": [
       "[1] \"c\" \"b\""
      ]
     },
     "metadata": {},
     "output_type": "display_data"
    }
   ],
   "source": [
    "my_vector[3:2]"
   ]
  },
  {
   "cell_type": "markdown",
   "metadata": {},
   "source": [
    "Negative index omits a particular number"
   ]
  },
  {
   "cell_type": "code",
   "execution_count": 58,
   "metadata": {},
   "outputs": [
    {
     "data": {
      "text/html": [
       "<ol class=list-inline>\n",
       "\t<li>'a'</li>\n",
       "\t<li>'b'</li>\n",
       "\t<li>'d'</li>\n",
       "\t<li>'e'</li>\n",
       "\t<li>'f'</li>\n",
       "</ol>\n"
      ],
      "text/latex": [
       "\\begin{enumerate*}\n",
       "\\item 'a'\n",
       "\\item 'b'\n",
       "\\item 'd'\n",
       "\\item 'e'\n",
       "\\item 'f'\n",
       "\\end{enumerate*}\n"
      ],
      "text/markdown": [
       "1. 'a'\n",
       "2. 'b'\n",
       "3. 'd'\n",
       "4. 'e'\n",
       "5. 'f'\n",
       "\n",
       "\n"
      ],
      "text/plain": [
       "[1] \"a\" \"b\" \"d\" \"e\" \"f\""
      ]
     },
     "metadata": {},
     "output_type": "display_data"
    }
   ],
   "source": [
    "my_vector[-3]"
   ]
  },
  {
   "cell_type": "code",
   "execution_count": 59,
   "metadata": {},
   "outputs": [
    {
     "data": {
      "text/html": [
       "<ol class=list-inline>\n",
       "\t<li>'a'</li>\n",
       "\t<li>'b'</li>\n",
       "\t<li>'d'</li>\n",
       "\t<li>'f'</li>\n",
       "</ol>\n"
      ],
      "text/latex": [
       "\\begin{enumerate*}\n",
       "\\item 'a'\n",
       "\\item 'b'\n",
       "\\item 'd'\n",
       "\\item 'f'\n",
       "\\end{enumerate*}\n"
      ],
      "text/markdown": [
       "1. 'a'\n",
       "2. 'b'\n",
       "3. 'd'\n",
       "4. 'f'\n",
       "\n",
       "\n"
      ],
      "text/plain": [
       "[1] \"a\" \"b\" \"d\" \"f\""
      ]
     },
     "metadata": {},
     "output_type": "display_data"
    }
   ],
   "source": [
    "my_vector[c(-3, -5)]"
   ]
  },
  {
   "cell_type": "markdown",
   "metadata": {},
   "source": [
    "You can also use boolean indexing"
   ]
  },
  {
   "cell_type": "code",
   "execution_count": 62,
   "metadata": {},
   "outputs": [
    {
     "data": {
      "text/html": [
       "<ol class=list-inline>\n",
       "\t<li>TRUE</li>\n",
       "\t<li>TRUE</li>\n",
       "\t<li>TRUE</li>\n",
       "\t<li>TRUE</li>\n",
       "\t<li>TRUE</li>\n",
       "\t<li>TRUE</li>\n",
       "</ol>\n"
      ],
      "text/latex": [
       "\\begin{enumerate*}\n",
       "\\item TRUE\n",
       "\\item TRUE\n",
       "\\item TRUE\n",
       "\\item TRUE\n",
       "\\item TRUE\n",
       "\\item TRUE\n",
       "\\end{enumerate*}\n"
      ],
      "text/markdown": [
       "1. TRUE\n",
       "2. TRUE\n",
       "3. TRUE\n",
       "4. TRUE\n",
       "5. TRUE\n",
       "6. TRUE\n",
       "\n",
       "\n"
      ],
      "text/plain": [
       "[1] TRUE TRUE TRUE TRUE TRUE TRUE"
      ]
     },
     "metadata": {},
     "output_type": "display_data"
    }
   ],
   "source": [
    "true_vector = rep(TRUE, 6)\n",
    "true_vector"
   ]
  },
  {
   "cell_type": "code",
   "execution_count": 63,
   "metadata": {},
   "outputs": [
    {
     "data": {
      "text/html": [
       "<ol class=list-inline>\n",
       "\t<li>'a'</li>\n",
       "\t<li>'b'</li>\n",
       "\t<li>'c'</li>\n",
       "\t<li>'d'</li>\n",
       "\t<li>'e'</li>\n",
       "\t<li>'f'</li>\n",
       "</ol>\n"
      ],
      "text/latex": [
       "\\begin{enumerate*}\n",
       "\\item 'a'\n",
       "\\item 'b'\n",
       "\\item 'c'\n",
       "\\item 'd'\n",
       "\\item 'e'\n",
       "\\item 'f'\n",
       "\\end{enumerate*}\n"
      ],
      "text/markdown": [
       "1. 'a'\n",
       "2. 'b'\n",
       "3. 'c'\n",
       "4. 'd'\n",
       "5. 'e'\n",
       "6. 'f'\n",
       "\n",
       "\n"
      ],
      "text/plain": [
       "[1] \"a\" \"b\" \"c\" \"d\" \"e\" \"f\""
      ]
     },
     "metadata": {},
     "output_type": "display_data"
    }
   ],
   "source": [
    "my_vector[true_vector]"
   ]
  },
  {
   "cell_type": "markdown",
   "metadata": {},
   "source": [
    "To change a value in a vector, just refer to it"
   ]
  },
  {
   "cell_type": "code",
   "execution_count": 66,
   "metadata": {},
   "outputs": [
    {
     "data": {
      "text/html": [
       "<ol class=list-inline>\n",
       "\t<li>'aa'</li>\n",
       "\t<li>'b'</li>\n",
       "\t<li>'c'</li>\n",
       "\t<li>'d'</li>\n",
       "\t<li>'e'</li>\n",
       "\t<li>'f'</li>\n",
       "</ol>\n"
      ],
      "text/latex": [
       "\\begin{enumerate*}\n",
       "\\item 'aa'\n",
       "\\item 'b'\n",
       "\\item 'c'\n",
       "\\item 'd'\n",
       "\\item 'e'\n",
       "\\item 'f'\n",
       "\\end{enumerate*}\n"
      ],
      "text/markdown": [
       "1. 'aa'\n",
       "2. 'b'\n",
       "3. 'c'\n",
       "4. 'd'\n",
       "5. 'e'\n",
       "6. 'f'\n",
       "\n",
       "\n"
      ],
      "text/plain": [
       "[1] \"aa\" \"b\"  \"c\"  \"d\"  \"e\"  \"f\" "
      ]
     },
     "metadata": {},
     "output_type": "display_data"
    }
   ],
   "source": [
    "my_vector[1] <- 'aa'\n",
    "my_vector"
   ]
  },
  {
   "cell_type": "code",
   "execution_count": 68,
   "metadata": {
    "collapsed": true
   },
   "outputs": [],
   "source": [
    "# changing it back\n",
    "my_vector[1] <- 'a'"
   ]
  },
  {
   "cell_type": "markdown",
   "metadata": {},
   "source": [
    "Recycling to get every other element"
   ]
  },
  {
   "cell_type": "code",
   "execution_count": 69,
   "metadata": {},
   "outputs": [
    {
     "data": {
      "text/html": [
       "<ol class=list-inline>\n",
       "\t<li>'a'</li>\n",
       "\t<li>'c'</li>\n",
       "\t<li>'e'</li>\n",
       "</ol>\n"
      ],
      "text/latex": [
       "\\begin{enumerate*}\n",
       "\\item 'a'\n",
       "\\item 'c'\n",
       "\\item 'e'\n",
       "\\end{enumerate*}\n"
      ],
      "text/markdown": [
       "1. 'a'\n",
       "2. 'c'\n",
       "3. 'e'\n",
       "\n",
       "\n"
      ],
      "text/plain": [
       "[1] \"a\" \"c\" \"e\""
      ]
     },
     "metadata": {},
     "output_type": "display_data"
    }
   ],
   "source": [
    "my_vector[c(TRUE, FALSE)]"
   ]
  },
  {
   "cell_type": "code",
   "execution_count": 70,
   "metadata": {},
   "outputs": [
    {
     "data": {
      "text/html": [
       "<ol class=list-inline>\n",
       "\t<li>'b'</li>\n",
       "\t<li>'d'</li>\n",
       "\t<li>'f'</li>\n",
       "</ol>\n"
      ],
      "text/latex": [
       "\\begin{enumerate*}\n",
       "\\item 'b'\n",
       "\\item 'd'\n",
       "\\item 'f'\n",
       "\\end{enumerate*}\n"
      ],
      "text/markdown": [
       "1. 'b'\n",
       "2. 'd'\n",
       "3. 'f'\n",
       "\n",
       "\n"
      ],
      "text/plain": [
       "[1] \"b\" \"d\" \"f\""
      ]
     },
     "metadata": {},
     "output_type": "display_data"
    }
   ],
   "source": [
    "my_vector[c(FALSE, TRUE)]"
   ]
  },
  {
   "cell_type": "markdown",
   "metadata": {},
   "source": [
    "Vectorized Math"
   ]
  },
  {
   "cell_type": "code",
   "execution_count": 74,
   "metadata": {
    "collapsed": true
   },
   "outputs": [],
   "source": [
    "x <- c(2,2,2)\n",
    "y <- c(10,20,30)"
   ]
  },
  {
   "cell_type": "code",
   "execution_count": 75,
   "metadata": {},
   "outputs": [
    {
     "data": {
      "text/html": [
       "<ol class=list-inline>\n",
       "\t<li>12</li>\n",
       "\t<li>22</li>\n",
       "\t<li>32</li>\n",
       "</ol>\n"
      ],
      "text/latex": [
       "\\begin{enumerate*}\n",
       "\\item 12\n",
       "\\item 22\n",
       "\\item 32\n",
       "\\end{enumerate*}\n"
      ],
      "text/markdown": [
       "1. 12\n",
       "2. 22\n",
       "3. 32\n",
       "\n",
       "\n"
      ],
      "text/plain": [
       "[1] 12 22 32"
      ]
     },
     "metadata": {},
     "output_type": "display_data"
    }
   ],
   "source": [
    "x + y"
   ]
  },
  {
   "cell_type": "code",
   "execution_count": 76,
   "metadata": {},
   "outputs": [
    {
     "data": {
      "text/html": [
       "<ol class=list-inline>\n",
       "\t<li>20</li>\n",
       "\t<li>40</li>\n",
       "\t<li>60</li>\n",
       "</ol>\n"
      ],
      "text/latex": [
       "\\begin{enumerate*}\n",
       "\\item 20\n",
       "\\item 40\n",
       "\\item 60\n",
       "\\end{enumerate*}\n"
      ],
      "text/markdown": [
       "1. 20\n",
       "2. 40\n",
       "3. 60\n",
       "\n",
       "\n"
      ],
      "text/plain": [
       "[1] 20 40 60"
      ]
     },
     "metadata": {},
     "output_type": "display_data"
    }
   ],
   "source": [
    "x * y"
   ]
  },
  {
   "cell_type": "code",
   "execution_count": 80,
   "metadata": {},
   "outputs": [
    {
     "data": {
      "text/html": [
       "<ol class=list-inline>\n",
       "\t<li>20</li>\n",
       "\t<li>40</li>\n",
       "\t<li>60</li>\n",
       "</ol>\n"
      ],
      "text/latex": [
       "\\begin{enumerate*}\n",
       "\\item 20\n",
       "\\item 40\n",
       "\\item 60\n",
       "\\end{enumerate*}\n"
      ],
      "text/markdown": [
       "1. 20\n",
       "2. 40\n",
       "3. 60\n",
       "\n",
       "\n"
      ],
      "text/plain": [
       "[1] 20 40 60"
      ]
     },
     "metadata": {},
     "output_type": "display_data"
    }
   ],
   "source": [
    "y * 2"
   ]
  },
  {
   "cell_type": "code",
   "execution_count": 77,
   "metadata": {},
   "outputs": [
    {
     "data": {
      "text/html": [
       "<ol class=list-inline>\n",
       "\t<li>100</li>\n",
       "\t<li>400</li>\n",
       "\t<li>900</li>\n",
       "</ol>\n"
      ],
      "text/latex": [
       "\\begin{enumerate*}\n",
       "\\item 100\n",
       "\\item 400\n",
       "\\item 900\n",
       "\\end{enumerate*}\n"
      ],
      "text/markdown": [
       "1. 100\n",
       "2. 400\n",
       "3. 900\n",
       "\n",
       "\n"
      ],
      "text/plain": [
       "[1] 100 400 900"
      ]
     },
     "metadata": {},
     "output_type": "display_data"
    }
   ],
   "source": [
    "y ^ 2"
   ]
  },
  {
   "cell_type": "code",
   "execution_count": 79,
   "metadata": {},
   "outputs": [
    {
     "data": {
      "text/html": [
       "<ol class=list-inline>\n",
       "\t<li>100</li>\n",
       "\t<li>400</li>\n",
       "\t<li>900</li>\n",
       "</ol>\n"
      ],
      "text/latex": [
       "\\begin{enumerate*}\n",
       "\\item 100\n",
       "\\item 400\n",
       "\\item 900\n",
       "\\end{enumerate*}\n"
      ],
      "text/markdown": [
       "1. 100\n",
       "2. 400\n",
       "3. 900\n",
       "\n",
       "\n"
      ],
      "text/plain": [
       "[1] 100 400 900"
      ]
     },
     "metadata": {},
     "output_type": "display_data"
    }
   ],
   "source": [
    "y ^ 2"
   ]
  },
  {
   "cell_type": "markdown",
   "metadata": {},
   "source": [
    "If vectors are not the same length and you try a recycling method, you will get a warning message, but not an error."
   ]
  },
  {
   "cell_type": "code",
   "execution_count": 82,
   "metadata": {},
   "outputs": [
    {
     "name": "stderr",
     "output_type": "stream",
     "text": [
      "Warning message in x * c(3, 4):\n",
      "“longer object length is not a multiple of shorter object length”"
     ]
    },
    {
     "data": {
      "text/html": [
       "<ol class=list-inline>\n",
       "\t<li>6</li>\n",
       "\t<li>8</li>\n",
       "\t<li>6</li>\n",
       "</ol>\n"
      ],
      "text/latex": [
       "\\begin{enumerate*}\n",
       "\\item 6\n",
       "\\item 8\n",
       "\\item 6\n",
       "\\end{enumerate*}\n"
      ],
      "text/markdown": [
       "1. 6\n",
       "2. 8\n",
       "3. 6\n",
       "\n",
       "\n"
      ],
      "text/plain": [
       "[1] 6 8 6"
      ]
     },
     "metadata": {},
     "output_type": "display_data"
    }
   ],
   "source": [
    "x * c(3,4)"
   ]
  },
  {
   "cell_type": "markdown",
   "metadata": {},
   "source": [
    "Use boolean indexing to grab slices of vectors"
   ]
  },
  {
   "cell_type": "code",
   "execution_count": 87,
   "metadata": {},
   "outputs": [],
   "source": [
    "z <- c(10,5,10,5,10)"
   ]
  },
  {
   "cell_type": "code",
   "execution_count": 88,
   "metadata": {},
   "outputs": [
    {
     "data": {
      "text/html": [
       "<ol class=list-inline>\n",
       "\t<li>10</li>\n",
       "\t<li>10</li>\n",
       "\t<li>10</li>\n",
       "</ol>\n"
      ],
      "text/latex": [
       "\\begin{enumerate*}\n",
       "\\item 10\n",
       "\\item 10\n",
       "\\item 10\n",
       "\\end{enumerate*}\n"
      ],
      "text/markdown": [
       "1. 10\n",
       "2. 10\n",
       "3. 10\n",
       "\n",
       "\n"
      ],
      "text/plain": [
       "[1] 10 10 10"
      ]
     },
     "metadata": {},
     "output_type": "display_data"
    }
   ],
   "source": [
    "z[z>5]"
   ]
  },
  {
   "cell_type": "markdown",
   "metadata": {},
   "source": [
    "Get the length of a vector"
   ]
  },
  {
   "cell_type": "code",
   "execution_count": 89,
   "metadata": {},
   "outputs": [
    {
     "data": {
      "text/html": [
       "100"
      ],
      "text/latex": [
       "100"
      ],
      "text/markdown": [
       "100"
      ],
      "text/plain": [
       "[1] 100"
      ]
     },
     "metadata": {},
     "output_type": "display_data"
    }
   ],
   "source": [
    "length(seq(100))"
   ]
  },
  {
   "cell_type": "markdown",
   "metadata": {},
   "source": [
    "to append to a vector, the fastest way is to do the following"
   ]
  },
  {
   "cell_type": "code",
   "execution_count": 168,
   "metadata": {},
   "outputs": [
    {
     "data": {
      "text/html": [
       "<ol class=list-inline>\n",
       "\t<li>1</li>\n",
       "\t<li>2</li>\n",
       "\t<li>3</li>\n",
       "\t<li>4</li>\n",
       "\t<li>5</li>\n",
       "\t<li>6</li>\n",
       "\t<li>7</li>\n",
       "\t<li>8</li>\n",
       "\t<li>9</li>\n",
       "\t<li>10</li>\n",
       "\t<li>11</li>\n",
       "</ol>\n"
      ],
      "text/latex": [
       "\\begin{enumerate*}\n",
       "\\item 1\n",
       "\\item 2\n",
       "\\item 3\n",
       "\\item 4\n",
       "\\item 5\n",
       "\\item 6\n",
       "\\item 7\n",
       "\\item 8\n",
       "\\item 9\n",
       "\\item 10\n",
       "\\item 11\n",
       "\\end{enumerate*}\n"
      ],
      "text/markdown": [
       "1. 1\n",
       "2. 2\n",
       "3. 3\n",
       "4. 4\n",
       "5. 5\n",
       "6. 6\n",
       "7. 7\n",
       "8. 8\n",
       "9. 9\n",
       "10. 10\n",
       "11. 11\n",
       "\n",
       "\n"
      ],
      "text/plain": [
       " [1]  1  2  3  4  5  6  7  8  9 10 11"
      ]
     },
     "metadata": {},
     "output_type": "display_data"
    }
   ],
   "source": [
    "x <- seq(10)\n",
    "x[length(x)+1] <- 11\n",
    "x"
   ]
  },
  {
   "cell_type": "markdown",
   "metadata": {},
   "source": [
    "Get the beginning numbers of a vector with head"
   ]
  },
  {
   "cell_type": "code",
   "execution_count": 90,
   "metadata": {},
   "outputs": [
    {
     "data": {
      "text/html": [
       "<ol class=list-inline>\n",
       "\t<li>1</li>\n",
       "\t<li>2</li>\n",
       "\t<li>3</li>\n",
       "</ol>\n"
      ],
      "text/latex": [
       "\\begin{enumerate*}\n",
       "\\item 1\n",
       "\\item 2\n",
       "\\item 3\n",
       "\\end{enumerate*}\n"
      ],
      "text/markdown": [
       "1. 1\n",
       "2. 2\n",
       "3. 3\n",
       "\n",
       "\n"
      ],
      "text/plain": [
       "[1] 1 2 3"
      ]
     },
     "metadata": {},
     "output_type": "display_data"
    }
   ],
   "source": [
    "head(seq(10), 3)"
   ]
  },
  {
   "cell_type": "markdown",
   "metadata": {},
   "source": [
    "Get the ending numbers of a vector with tail"
   ]
  },
  {
   "cell_type": "code",
   "execution_count": 91,
   "metadata": {},
   "outputs": [
    {
     "data": {
      "text/html": [
       "<ol class=list-inline>\n",
       "\t<li>8</li>\n",
       "\t<li>9</li>\n",
       "\t<li>10</li>\n",
       "</ol>\n"
      ],
      "text/latex": [
       "\\begin{enumerate*}\n",
       "\\item 8\n",
       "\\item 9\n",
       "\\item 10\n",
       "\\end{enumerate*}\n"
      ],
      "text/markdown": [
       "1. 8\n",
       "2. 9\n",
       "3. 10\n",
       "\n",
       "\n"
      ],
      "text/plain": [
       "[1]  8  9 10"
      ]
     },
     "metadata": {},
     "output_type": "display_data"
    }
   ],
   "source": [
    "tail(seq(10), 3)"
   ]
  },
  {
   "cell_type": "markdown",
   "metadata": {},
   "source": [
    "Get the minimum element index with which.min. Maximim with which.max"
   ]
  },
  {
   "cell_type": "code",
   "execution_count": 96,
   "metadata": {},
   "outputs": [
    {
     "data": {
      "text/html": [
       "3"
      ],
      "text/latex": [
       "3"
      ],
      "text/markdown": [
       "3"
      ],
      "text/plain": [
       "[1] 3"
      ]
     },
     "metadata": {},
     "output_type": "display_data"
    }
   ],
   "source": [
    "which.min(c(7,10,5,8))"
   ]
  },
  {
   "cell_type": "code",
   "execution_count": 97,
   "metadata": {},
   "outputs": [
    {
     "data": {
      "text/html": [
       "2"
      ],
      "text/latex": [
       "2"
      ],
      "text/markdown": [
       "2"
      ],
      "text/plain": [
       "[1] 2"
      ]
     },
     "metadata": {},
     "output_type": "display_data"
    }
   ],
   "source": [
    "which.max(c(7,10,5,8))"
   ]
  },
  {
   "cell_type": "markdown",
   "metadata": {},
   "source": [
    "Can use normal functions to get the value, not the index"
   ]
  },
  {
   "cell_type": "code",
   "execution_count": 98,
   "metadata": {},
   "outputs": [
    {
     "data": {
      "text/html": [
       "5"
      ],
      "text/latex": [
       "5"
      ],
      "text/markdown": [
       "5"
      ],
      "text/plain": [
       "[1] 5"
      ]
     },
     "metadata": {},
     "output_type": "display_data"
    }
   ],
   "source": [
    "min(c(7,10,5,8))"
   ]
  },
  {
   "cell_type": "code",
   "execution_count": 99,
   "metadata": {},
   "outputs": [
    {
     "data": {
      "text/html": [
       "10"
      ],
      "text/latex": [
       "10"
      ],
      "text/markdown": [
       "10"
      ],
      "text/plain": [
       "[1] 10"
      ]
     },
     "metadata": {},
     "output_type": "display_data"
    }
   ],
   "source": [
    "max(c(7,10,5,8))"
   ]
  },
  {
   "cell_type": "markdown",
   "metadata": {},
   "source": [
    "Can sort, order and rank"
   ]
  },
  {
   "cell_type": "code",
   "execution_count": 100,
   "metadata": {
    "collapsed": true
   },
   "outputs": [],
   "source": [
    "x <- c(1,6,2,34,6,3,2,5,57,3,24,24,24,6,8,68,67)"
   ]
  },
  {
   "cell_type": "code",
   "execution_count": 101,
   "metadata": {},
   "outputs": [
    {
     "data": {
      "text/html": [
       "<ol class=list-inline>\n",
       "\t<li>1</li>\n",
       "\t<li>2</li>\n",
       "\t<li>2</li>\n",
       "\t<li>3</li>\n",
       "\t<li>3</li>\n",
       "\t<li>5</li>\n",
       "\t<li>6</li>\n",
       "\t<li>6</li>\n",
       "\t<li>6</li>\n",
       "\t<li>8</li>\n",
       "\t<li>24</li>\n",
       "\t<li>24</li>\n",
       "\t<li>24</li>\n",
       "\t<li>34</li>\n",
       "\t<li>57</li>\n",
       "\t<li>67</li>\n",
       "\t<li>68</li>\n",
       "</ol>\n"
      ],
      "text/latex": [
       "\\begin{enumerate*}\n",
       "\\item 1\n",
       "\\item 2\n",
       "\\item 2\n",
       "\\item 3\n",
       "\\item 3\n",
       "\\item 5\n",
       "\\item 6\n",
       "\\item 6\n",
       "\\item 6\n",
       "\\item 8\n",
       "\\item 24\n",
       "\\item 24\n",
       "\\item 24\n",
       "\\item 34\n",
       "\\item 57\n",
       "\\item 67\n",
       "\\item 68\n",
       "\\end{enumerate*}\n"
      ],
      "text/markdown": [
       "1. 1\n",
       "2. 2\n",
       "3. 2\n",
       "4. 3\n",
       "5. 3\n",
       "6. 5\n",
       "7. 6\n",
       "8. 6\n",
       "9. 6\n",
       "10. 8\n",
       "11. 24\n",
       "12. 24\n",
       "13. 24\n",
       "14. 34\n",
       "15. 57\n",
       "16. 67\n",
       "17. 68\n",
       "\n",
       "\n"
      ],
      "text/plain": [
       " [1]  1  2  2  3  3  5  6  6  6  8 24 24 24 34 57 67 68"
      ]
     },
     "metadata": {},
     "output_type": "display_data"
    }
   ],
   "source": [
    "sort(x)"
   ]
  },
  {
   "cell_type": "code",
   "execution_count": 102,
   "metadata": {},
   "outputs": [
    {
     "data": {
      "text/html": [
       "<ol class=list-inline>\n",
       "\t<li>1</li>\n",
       "\t<li>3</li>\n",
       "\t<li>7</li>\n",
       "\t<li>6</li>\n",
       "\t<li>10</li>\n",
       "\t<li>8</li>\n",
       "\t<li>2</li>\n",
       "\t<li>5</li>\n",
       "\t<li>14</li>\n",
       "\t<li>15</li>\n",
       "\t<li>11</li>\n",
       "\t<li>12</li>\n",
       "\t<li>13</li>\n",
       "\t<li>4</li>\n",
       "\t<li>9</li>\n",
       "\t<li>17</li>\n",
       "\t<li>16</li>\n",
       "</ol>\n"
      ],
      "text/latex": [
       "\\begin{enumerate*}\n",
       "\\item 1\n",
       "\\item 3\n",
       "\\item 7\n",
       "\\item 6\n",
       "\\item 10\n",
       "\\item 8\n",
       "\\item 2\n",
       "\\item 5\n",
       "\\item 14\n",
       "\\item 15\n",
       "\\item 11\n",
       "\\item 12\n",
       "\\item 13\n",
       "\\item 4\n",
       "\\item 9\n",
       "\\item 17\n",
       "\\item 16\n",
       "\\end{enumerate*}\n"
      ],
      "text/markdown": [
       "1. 1\n",
       "2. 3\n",
       "3. 7\n",
       "4. 6\n",
       "5. 10\n",
       "6. 8\n",
       "7. 2\n",
       "8. 5\n",
       "9. 14\n",
       "10. 15\n",
       "11. 11\n",
       "12. 12\n",
       "13. 13\n",
       "14. 4\n",
       "15. 9\n",
       "16. 17\n",
       "17. 16\n",
       "\n",
       "\n"
      ],
      "text/plain": [
       " [1]  1  3  7  6 10  8  2  5 14 15 11 12 13  4  9 17 16"
      ]
     },
     "metadata": {},
     "output_type": "display_data"
    }
   ],
   "source": [
    "order(x)"
   ]
  },
  {
   "cell_type": "code",
   "execution_count": 103,
   "metadata": {},
   "outputs": [
    {
     "data": {
      "text/html": [
       "<ol class=list-inline>\n",
       "\t<li>1</li>\n",
       "\t<li>8</li>\n",
       "\t<li>2.5</li>\n",
       "\t<li>14</li>\n",
       "\t<li>8</li>\n",
       "\t<li>4.5</li>\n",
       "\t<li>2.5</li>\n",
       "\t<li>6</li>\n",
       "\t<li>15</li>\n",
       "\t<li>4.5</li>\n",
       "\t<li>12</li>\n",
       "\t<li>12</li>\n",
       "\t<li>12</li>\n",
       "\t<li>8</li>\n",
       "\t<li>10</li>\n",
       "\t<li>17</li>\n",
       "\t<li>16</li>\n",
       "</ol>\n"
      ],
      "text/latex": [
       "\\begin{enumerate*}\n",
       "\\item 1\n",
       "\\item 8\n",
       "\\item 2.5\n",
       "\\item 14\n",
       "\\item 8\n",
       "\\item 4.5\n",
       "\\item 2.5\n",
       "\\item 6\n",
       "\\item 15\n",
       "\\item 4.5\n",
       "\\item 12\n",
       "\\item 12\n",
       "\\item 12\n",
       "\\item 8\n",
       "\\item 10\n",
       "\\item 17\n",
       "\\item 16\n",
       "\\end{enumerate*}\n"
      ],
      "text/markdown": [
       "1. 1\n",
       "2. 8\n",
       "3. 2.5\n",
       "4. 14\n",
       "5. 8\n",
       "6. 4.5\n",
       "7. 2.5\n",
       "8. 6\n",
       "9. 15\n",
       "10. 4.5\n",
       "11. 12\n",
       "12. 12\n",
       "13. 12\n",
       "14. 8\n",
       "15. 10\n",
       "16. 17\n",
       "17. 16\n",
       "\n",
       "\n"
      ],
      "text/plain": [
       " [1]  1.0  8.0  2.5 14.0  8.0  4.5  2.5  6.0 15.0  4.5 12.0 12.0 12.0  8.0 10.0\n",
       "[16] 17.0 16.0"
      ]
     },
     "metadata": {},
     "output_type": "display_data"
    }
   ],
   "source": [
    "rank(x)"
   ]
  },
  {
   "cell_type": "markdown",
   "metadata": {},
   "source": [
    "## Matrix "
   ]
  },
  {
   "cell_type": "markdown",
   "metadata": {},
   "source": [
    "Matrix has the arguments, default value, rows, and columns"
   ]
  },
  {
   "cell_type": "code",
   "execution_count": 106,
   "metadata": {},
   "outputs": [
    {
     "data": {
      "text/html": [
       "<table>\n",
       "<tbody>\n",
       "\t<tr><td>7</td><td>7</td></tr>\n",
       "\t<tr><td>7</td><td>7</td></tr>\n",
       "\t<tr><td>7</td><td>7</td></tr>\n",
       "</tbody>\n",
       "</table>\n"
      ],
      "text/latex": [
       "\\begin{tabular}{ll}\n",
       "\t 7 & 7\\\\\n",
       "\t 7 & 7\\\\\n",
       "\t 7 & 7\\\\\n",
       "\\end{tabular}\n"
      ],
      "text/markdown": [
       "\n",
       "| 7 | 7 | \n",
       "| 7 | 7 | \n",
       "| 7 | 7 | \n",
       "\n",
       "\n"
      ],
      "text/plain": [
       "     [,1] [,2]\n",
       "[1,] 7    7   \n",
       "[2,] 7    7   \n",
       "[3,] 7    7   "
      ]
     },
     "metadata": {},
     "output_type": "display_data"
    }
   ],
   "source": [
    "matrix(7,3,2)"
   ]
  },
  {
   "cell_type": "code",
   "execution_count": 107,
   "metadata": {},
   "outputs": [
    {
     "data": {
      "text/html": [
       "<table>\n",
       "<tbody>\n",
       "\t<tr><td>0</td><td>0</td></tr>\n",
       "\t<tr><td>0</td><td>0</td></tr>\n",
       "\t<tr><td>0</td><td>0</td></tr>\n",
       "</tbody>\n",
       "</table>\n"
      ],
      "text/latex": [
       "\\begin{tabular}{ll}\n",
       "\t 0 & 0\\\\\n",
       "\t 0 & 0\\\\\n",
       "\t 0 & 0\\\\\n",
       "\\end{tabular}\n"
      ],
      "text/markdown": [
       "\n",
       "| 0 | 0 | \n",
       "| 0 | 0 | \n",
       "| 0 | 0 | \n",
       "\n",
       "\n"
      ],
      "text/plain": [
       "     [,1] [,2]\n",
       "[1,] 0    0   \n",
       "[2,] 0    0   \n",
       "[3,] 0    0   "
      ]
     },
     "metadata": {},
     "output_type": "display_data"
    }
   ],
   "source": [
    "m <- matrix(0, 3, 2)\n",
    "m"
   ]
  },
  {
   "cell_type": "markdown",
   "metadata": {},
   "source": [
    "Regular fill"
   ]
  },
  {
   "cell_type": "code",
   "execution_count": 108,
   "metadata": {},
   "outputs": [
    {
     "data": {
      "text/html": [
       "<table>\n",
       "<tbody>\n",
       "\t<tr><td>1</td><td>4</td></tr>\n",
       "\t<tr><td>2</td><td>5</td></tr>\n",
       "\t<tr><td>3</td><td>6</td></tr>\n",
       "</tbody>\n",
       "</table>\n"
      ],
      "text/latex": [
       "\\begin{tabular}{ll}\n",
       "\t 1 & 4\\\\\n",
       "\t 2 & 5\\\\\n",
       "\t 3 & 6\\\\\n",
       "\\end{tabular}\n"
      ],
      "text/markdown": [
       "\n",
       "| 1 | 4 | \n",
       "| 2 | 5 | \n",
       "| 3 | 6 | \n",
       "\n",
       "\n"
      ],
      "text/plain": [
       "     [,1] [,2]\n",
       "[1,] 1    4   \n",
       "[2,] 2    5   \n",
       "[3,] 3    6   "
      ]
     },
     "metadata": {},
     "output_type": "display_data"
    }
   ],
   "source": [
    "matrix(1:6, 3, 2)"
   ]
  },
  {
   "cell_type": "markdown",
   "metadata": {},
   "source": [
    "By row fill"
   ]
  },
  {
   "cell_type": "code",
   "execution_count": 109,
   "metadata": {},
   "outputs": [
    {
     "data": {
      "text/html": [
       "<table>\n",
       "<tbody>\n",
       "\t<tr><td>1</td><td>2</td></tr>\n",
       "\t<tr><td>3</td><td>4</td></tr>\n",
       "\t<tr><td>5</td><td>6</td></tr>\n",
       "</tbody>\n",
       "</table>\n"
      ],
      "text/latex": [
       "\\begin{tabular}{ll}\n",
       "\t 1 & 2\\\\\n",
       "\t 3 & 4\\\\\n",
       "\t 5 & 6\\\\\n",
       "\\end{tabular}\n"
      ],
      "text/markdown": [
       "\n",
       "| 1 | 2 | \n",
       "| 3 | 4 | \n",
       "| 5 | 6 | \n",
       "\n",
       "\n"
      ],
      "text/plain": [
       "     [,1] [,2]\n",
       "[1,] 1    2   \n",
       "[2,] 3    4   \n",
       "[3,] 5    6   "
      ]
     },
     "metadata": {},
     "output_type": "display_data"
    }
   ],
   "source": [
    "matrix(1:6, 3, 2, byrow=TRUE)"
   ]
  },
  {
   "cell_type": "code",
   "execution_count": 110,
   "metadata": {},
   "outputs": [
    {
     "data": {
      "text/html": [
       "<table>\n",
       "<tbody>\n",
       "\t<tr><td>1</td><td>4</td></tr>\n",
       "\t<tr><td>2</td><td>5</td></tr>\n",
       "\t<tr><td>3</td><td>6</td></tr>\n",
       "</tbody>\n",
       "</table>\n"
      ],
      "text/latex": [
       "\\begin{tabular}{ll}\n",
       "\t 1 & 4\\\\\n",
       "\t 2 & 5\\\\\n",
       "\t 3 & 6\\\\\n",
       "\\end{tabular}\n"
      ],
      "text/markdown": [
       "\n",
       "| 1 | 4 | \n",
       "| 2 | 5 | \n",
       "| 3 | 6 | \n",
       "\n",
       "\n"
      ],
      "text/plain": [
       "     [,1] [,2]\n",
       "[1,] 1    4   \n",
       "[2,] 2    5   \n",
       "[3,] 3    6   "
      ]
     },
     "metadata": {},
     "output_type": "display_data"
    }
   ],
   "source": [
    "m <- matrix(1:6, 3, 2)\n",
    "m"
   ]
  },
  {
   "cell_type": "markdown",
   "metadata": {},
   "source": [
    "First row as a vector"
   ]
  },
  {
   "cell_type": "code",
   "execution_count": 111,
   "metadata": {},
   "outputs": [
    {
     "data": {
      "text/html": [
       "<ol class=list-inline>\n",
       "\t<li>1</li>\n",
       "\t<li>4</li>\n",
       "</ol>\n"
      ],
      "text/latex": [
       "\\begin{enumerate*}\n",
       "\\item 1\n",
       "\\item 4\n",
       "\\end{enumerate*}\n"
      ],
      "text/markdown": [
       "1. 1\n",
       "2. 4\n",
       "\n",
       "\n"
      ],
      "text/plain": [
       "[1] 1 4"
      ]
     },
     "metadata": {},
     "output_type": "display_data"
    }
   ],
   "source": [
    "m[1,]"
   ]
  },
  {
   "cell_type": "markdown",
   "metadata": {},
   "source": [
    "First column as a vector"
   ]
  },
  {
   "cell_type": "code",
   "execution_count": 113,
   "metadata": {},
   "outputs": [
    {
     "data": {
      "text/html": [
       "<ol class=list-inline>\n",
       "\t<li>1</li>\n",
       "\t<li>2</li>\n",
       "\t<li>3</li>\n",
       "</ol>\n"
      ],
      "text/latex": [
       "\\begin{enumerate*}\n",
       "\\item 1\n",
       "\\item 2\n",
       "\\item 3\n",
       "\\end{enumerate*}\n"
      ],
      "text/markdown": [
       "1. 1\n",
       "2. 2\n",
       "3. 3\n",
       "\n",
       "\n"
      ],
      "text/plain": [
       "[1] 1 2 3"
      ]
     },
     "metadata": {},
     "output_type": "display_data"
    }
   ],
   "source": [
    "m[,1]"
   ]
  },
  {
   "cell_type": "markdown",
   "metadata": {},
   "source": [
    "cbind is a way to combine vectors"
   ]
  },
  {
   "cell_type": "code",
   "execution_count": 115,
   "metadata": {},
   "outputs": [
    {
     "data": {
      "text/html": [
       "<table>\n",
       "<tbody>\n",
       "\t<tr><td>1</td><td>4</td></tr>\n",
       "\t<tr><td>2</td><td>5</td></tr>\n",
       "\t<tr><td>3</td><td>6</td></tr>\n",
       "</tbody>\n",
       "</table>\n"
      ],
      "text/latex": [
       "\\begin{tabular}{ll}\n",
       "\t 1 & 4\\\\\n",
       "\t 2 & 5\\\\\n",
       "\t 3 & 6\\\\\n",
       "\\end{tabular}\n"
      ],
      "text/markdown": [
       "\n",
       "| 1 | 4 | \n",
       "| 2 | 5 | \n",
       "| 3 | 6 | \n",
       "\n",
       "\n"
      ],
      "text/plain": [
       "     [,1] [,2]\n",
       "[1,] 1    4   \n",
       "[2,] 2    5   \n",
       "[3,] 3    6   "
      ]
     },
     "metadata": {},
     "output_type": "display_data"
    }
   ],
   "source": [
    "cbind(c(1,2,3),c(4,5,6))"
   ]
  },
  {
   "cell_type": "code",
   "execution_count": 116,
   "metadata": {
    "collapsed": true
   },
   "outputs": [],
   "source": [
    "m1 <- cbind(c(1,2,3),c(4,5,6))\n",
    "m2 <- cbind(c(7,8,9),c(10,11,12))"
   ]
  },
  {
   "cell_type": "markdown",
   "metadata": {},
   "source": [
    "cbind also works with matrices"
   ]
  },
  {
   "cell_type": "code",
   "execution_count": 117,
   "metadata": {},
   "outputs": [
    {
     "data": {
      "text/html": [
       "<table>\n",
       "<tbody>\n",
       "\t<tr><td>1 </td><td>4 </td><td>7 </td><td>10</td></tr>\n",
       "\t<tr><td>2 </td><td>5 </td><td>8 </td><td>11</td></tr>\n",
       "\t<tr><td>3 </td><td>6 </td><td>9 </td><td>12</td></tr>\n",
       "</tbody>\n",
       "</table>\n"
      ],
      "text/latex": [
       "\\begin{tabular}{llll}\n",
       "\t 1  & 4  & 7  & 10\\\\\n",
       "\t 2  & 5  & 8  & 11\\\\\n",
       "\t 3  & 6  & 9  & 12\\\\\n",
       "\\end{tabular}\n"
      ],
      "text/markdown": [
       "\n",
       "| 1  | 4  | 7  | 10 | \n",
       "| 2  | 5  | 8  | 11 | \n",
       "| 3  | 6  | 9  | 12 | \n",
       "\n",
       "\n"
      ],
      "text/plain": [
       "     [,1] [,2] [,3] [,4]\n",
       "[1,] 1    4    7    10  \n",
       "[2,] 2    5    8    11  \n",
       "[3,] 3    6    9    12  "
      ]
     },
     "metadata": {},
     "output_type": "display_data"
    }
   ],
   "source": [
    "cbind(m1,m2)"
   ]
  },
  {
   "cell_type": "markdown",
   "metadata": {},
   "source": [
    "nrow for number of rows"
   ]
  },
  {
   "cell_type": "code",
   "execution_count": 120,
   "metadata": {},
   "outputs": [
    {
     "data": {
      "text/html": [
       "3"
      ],
      "text/latex": [
       "3"
      ],
      "text/markdown": [
       "3"
      ],
      "text/plain": [
       "[1] 3"
      ]
     },
     "metadata": {},
     "output_type": "display_data"
    }
   ],
   "source": [
    "nrow(m1)"
   ]
  },
  {
   "cell_type": "markdown",
   "metadata": {},
   "source": [
    "ncol for number of columns"
   ]
  },
  {
   "cell_type": "code",
   "execution_count": 121,
   "metadata": {},
   "outputs": [
    {
     "data": {
      "text/html": [
       "2"
      ],
      "text/latex": [
       "2"
      ],
      "text/markdown": [
       "2"
      ],
      "text/plain": [
       "[1] 2"
      ]
     },
     "metadata": {},
     "output_type": "display_data"
    }
   ],
   "source": [
    "ncol(m1)"
   ]
  },
  {
   "cell_type": "markdown",
   "metadata": {},
   "source": [
    "dim stands for dimension that gives you rows and columns"
   ]
  },
  {
   "cell_type": "code",
   "execution_count": 118,
   "metadata": {},
   "outputs": [
    {
     "data": {
      "text/html": [
       "<ol class=list-inline>\n",
       "\t<li>3</li>\n",
       "\t<li>2</li>\n",
       "</ol>\n"
      ],
      "text/latex": [
       "\\begin{enumerate*}\n",
       "\\item 3\n",
       "\\item 2\n",
       "\\end{enumerate*}\n"
      ],
      "text/markdown": [
       "1. 3\n",
       "2. 2\n",
       "\n",
       "\n"
      ],
      "text/plain": [
       "[1] 3 2"
      ]
     },
     "metadata": {},
     "output_type": "display_data"
    }
   ],
   "source": [
    "dim(m1)"
   ]
  },
  {
   "cell_type": "markdown",
   "metadata": {},
   "source": [
    "transpose a matrix with t()"
   ]
  },
  {
   "cell_type": "code",
   "execution_count": 125,
   "metadata": {},
   "outputs": [
    {
     "data": {
      "text/html": [
       "<table>\n",
       "<tbody>\n",
       "\t<tr><td>1</td><td>2</td><td>3</td></tr>\n",
       "\t<tr><td>4</td><td>5</td><td>6</td></tr>\n",
       "</tbody>\n",
       "</table>\n"
      ],
      "text/latex": [
       "\\begin{tabular}{lll}\n",
       "\t 1 & 2 & 3\\\\\n",
       "\t 4 & 5 & 6\\\\\n",
       "\\end{tabular}\n"
      ],
      "text/markdown": [
       "\n",
       "| 1 | 2 | 3 | \n",
       "| 4 | 5 | 6 | \n",
       "\n",
       "\n"
      ],
      "text/plain": [
       "     [,1] [,2] [,3]\n",
       "[1,] 1    2    3   \n",
       "[2,] 4    5    6   "
      ]
     },
     "metadata": {},
     "output_type": "display_data"
    }
   ],
   "source": [
    "t(m1)"
   ]
  },
  {
   "cell_type": "markdown",
   "metadata": {},
   "source": [
    "matrix multiplication"
   ]
  },
  {
   "cell_type": "code",
   "execution_count": 126,
   "metadata": {},
   "outputs": [
    {
     "data": {
      "text/html": [
       "<table>\n",
       "<tbody>\n",
       "\t<tr><td> 7</td><td>40</td></tr>\n",
       "\t<tr><td>16</td><td>55</td></tr>\n",
       "\t<tr><td>27</td><td>72</td></tr>\n",
       "</tbody>\n",
       "</table>\n"
      ],
      "text/latex": [
       "\\begin{tabular}{ll}\n",
       "\t  7 & 40\\\\\n",
       "\t 16 & 55\\\\\n",
       "\t 27 & 72\\\\\n",
       "\\end{tabular}\n"
      ],
      "text/markdown": [
       "\n",
       "|  7 | 40 | \n",
       "| 16 | 55 | \n",
       "| 27 | 72 | \n",
       "\n",
       "\n"
      ],
      "text/plain": [
       "     [,1] [,2]\n",
       "[1,]  7   40  \n",
       "[2,] 16   55  \n",
       "[3,] 27   72  "
      ]
     },
     "metadata": {},
     "output_type": "display_data"
    }
   ],
   "source": [
    "m1 * m2"
   ]
  },
  {
   "cell_type": "markdown",
   "metadata": {},
   "source": [
    "Matrices need to be compatible, or you will get an error"
   ]
  },
  {
   "cell_type": "code",
   "execution_count": 127,
   "metadata": {},
   "outputs": [
    {
     "ename": "ERROR",
     "evalue": "Error in m1 * t(m2): non-conformable arrays\n",
     "output_type": "error",
     "traceback": [
      "Error in m1 * t(m2): non-conformable arrays\nTraceback:\n"
     ]
    }
   ],
   "source": [
    "m1 * t(m2)"
   ]
  },
  {
   "cell_type": "markdown",
   "metadata": {},
   "source": [
    "## List\n",
    "a list is like a vector, but it can have different types. Lists are normally an internal structure that you should not be generating yourself but know how it works. Lists are used in dataframes, which we will get to later"
   ]
  },
  {
   "cell_type": "code",
   "execution_count": 142,
   "metadata": {},
   "outputs": [
    {
     "data": {
      "text/html": [
       "<ol>\n",
       "\t<li>TRUE</li>\n",
       "\t<li>FALSE</li>\n",
       "\t<li>'HELLO'</li>\n",
       "\t<li>NULL</li>\n",
       "\t<li>76</li>\n",
       "</ol>\n"
      ],
      "text/latex": [
       "\\begin{enumerate}\n",
       "\\item TRUE\n",
       "\\item FALSE\n",
       "\\item 'HELLO'\n",
       "\\item NULL\n",
       "\\item 76\n",
       "\\end{enumerate}\n"
      ],
      "text/markdown": [
       "1. TRUE\n",
       "2. FALSE\n",
       "3. 'HELLO'\n",
       "4. NULL\n",
       "5. 76\n",
       "\n",
       "\n"
      ],
      "text/plain": [
       "[[1]]\n",
       "[1] TRUE\n",
       "\n",
       "[[2]]\n",
       "[1] FALSE\n",
       "\n",
       "[[3]]\n",
       "[1] \"HELLO\"\n",
       "\n",
       "[[4]]\n",
       "NULL\n",
       "\n",
       "[[5]]\n",
       "[1] 76\n"
      ]
     },
     "metadata": {},
     "output_type": "display_data"
    }
   ],
   "source": [
    "my_list <- list(TRUE, FALSE, 'HELLO', NULL, 76)\n",
    "my_list"
   ]
  },
  {
   "cell_type": "markdown",
   "metadata": {},
   "source": [
    "Indexing returns a list"
   ]
  },
  {
   "cell_type": "code",
   "execution_count": 141,
   "metadata": {},
   "outputs": [
    {
     "data": {
      "text/html": [
       "<ol>\n",
       "\t<li>'HELLO'</li>\n",
       "</ol>\n"
      ],
      "text/latex": [
       "\\begin{enumerate}\n",
       "\\item 'HELLO'\n",
       "\\end{enumerate}\n"
      ],
      "text/markdown": [
       "1. 'HELLO'\n",
       "\n",
       "\n"
      ],
      "text/plain": [
       "[[1]]\n",
       "[1] \"HELLO\"\n"
      ]
     },
     "metadata": {},
     "output_type": "display_data"
    }
   ],
   "source": [
    "my_list[3]"
   ]
  },
  {
   "cell_type": "markdown",
   "metadata": {},
   "source": [
    "You can nest lists and vectors"
   ]
  },
  {
   "cell_type": "code",
   "execution_count": 144,
   "metadata": {},
   "outputs": [
    {
     "data": {
      "text/html": [
       "<ol>\n",
       "\t<li>1</li>\n",
       "\t<li>2</li>\n",
       "\t<li>3</li>\n",
       "\t<li><ol>\n",
       "\t<li>4</li>\n",
       "\t<li>5</li>\n",
       "\t<li>6</li>\n",
       "</ol>\n",
       "</li>\n",
       "\t<li><ol class=list-inline>\n",
       "\t<li>7</li>\n",
       "\t<li>8</li>\n",
       "\t<li>9</li>\n",
       "</ol>\n",
       "</li>\n",
       "</ol>\n"
      ],
      "text/latex": [
       "\\begin{enumerate}\n",
       "\\item 1\n",
       "\\item 2\n",
       "\\item 3\n",
       "\\item \\begin{enumerate}\n",
       "\\item 4\n",
       "\\item 5\n",
       "\\item 6\n",
       "\\end{enumerate}\n",
       "\n",
       "\\item \\begin{enumerate*}\n",
       "\\item 7\n",
       "\\item 8\n",
       "\\item 9\n",
       "\\end{enumerate*}\n",
       "\n",
       "\\end{enumerate}\n"
      ],
      "text/markdown": [
       "1. 1\n",
       "2. 2\n",
       "3. 3\n",
       "4. 1. 4\n",
       "2. 5\n",
       "3. 6\n",
       "\n",
       "\n",
       "\n",
       "5. 1. 7\n",
       "2. 8\n",
       "3. 9\n",
       "\n",
       "\n",
       "\n",
       "\n",
       "\n"
      ],
      "text/plain": [
       "[[1]]\n",
       "[1] 1\n",
       "\n",
       "[[2]]\n",
       "[1] 2\n",
       "\n",
       "[[3]]\n",
       "[1] 3\n",
       "\n",
       "[[4]]\n",
       "[[4]][[1]]\n",
       "[1] 4\n",
       "\n",
       "[[4]][[2]]\n",
       "[1] 5\n",
       "\n",
       "[[4]][[3]]\n",
       "[1] 6\n",
       "\n",
       "\n",
       "[[5]]\n",
       "[1] 7 8 9\n"
      ]
     },
     "metadata": {},
     "output_type": "display_data"
    }
   ],
   "source": [
    "list(1, 2, 3, list(4, 5, 6), c(7, 8, 9))"
   ]
  },
  {
   "cell_type": "markdown",
   "metadata": {},
   "source": [
    "Make a list with a named referal"
   ]
  },
  {
   "cell_type": "code",
   "execution_count": 156,
   "metadata": {},
   "outputs": [
    {
     "data": {
      "text/html": [
       "<dl>\n",
       "\t<dt>$title</dt>\n",
       "\t\t<dd>'Gladiator'</dd>\n",
       "\t<dt>$year</dt>\n",
       "\t\t<dd>2000</dd>\n",
       "</dl>\n"
      ],
      "text/latex": [
       "\\begin{description}\n",
       "\\item[\\$title] 'Gladiator'\n",
       "\\item[\\$year] 2000\n",
       "\\end{description}\n"
      ],
      "text/markdown": [
       "$title\n",
       ":   'Gladiator'\n",
       "$year\n",
       ":   2000\n",
       "\n",
       "\n"
      ],
      "text/plain": [
       "$title\n",
       "[1] \"Gladiator\"\n",
       "\n",
       "$year\n",
       "[1] 2000\n"
      ]
     },
     "metadata": {},
     "output_type": "display_data"
    }
   ],
   "source": [
    "movie <- list(title='Gladiator', year=2000)\n",
    "movie"
   ]
  },
  {
   "cell_type": "markdown",
   "metadata": {},
   "source": [
    "Can refer to it as a name now"
   ]
  },
  {
   "cell_type": "code",
   "execution_count": 157,
   "metadata": {},
   "outputs": [
    {
     "data": {
      "text/html": [
       "<strong>$title</strong> = 'Gladiator'"
      ],
      "text/latex": [
       "\\textbf{\\$title} = 'Gladiator'"
      ],
      "text/markdown": [
       "**$title** = 'Gladiator'"
      ],
      "text/plain": [
       "$title\n",
       "[1] \"Gladiator\"\n"
      ]
     },
     "metadata": {},
     "output_type": "display_data"
    }
   ],
   "source": [
    "movie['title']"
   ]
  },
  {
   "cell_type": "markdown",
   "metadata": {},
   "source": [
    "Get just the string with [[]]"
   ]
  },
  {
   "cell_type": "code",
   "execution_count": 158,
   "metadata": {},
   "outputs": [
    {
     "data": {
      "text/html": [
       "'Gladiator'"
      ],
      "text/latex": [
       "'Gladiator'"
      ],
      "text/markdown": [
       "'Gladiator'"
      ],
      "text/plain": [
       "[1] \"Gladiator\""
      ]
     },
     "metadata": {},
     "output_type": "display_data"
    }
   ],
   "source": [
    "movie[['title']]"
   ]
  },
  {
   "cell_type": "markdown",
   "metadata": {},
   "source": [
    "Can also refer to it by index"
   ]
  },
  {
   "cell_type": "code",
   "execution_count": 162,
   "metadata": {},
   "outputs": [
    {
     "data": {
      "text/html": [
       "<strong>$title</strong> = 'Gladiator'"
      ],
      "text/latex": [
       "\\textbf{\\$title} = 'Gladiator'"
      ],
      "text/markdown": [
       "**$title** = 'Gladiator'"
      ],
      "text/plain": [
       "$title\n",
       "[1] \"Gladiator\"\n"
      ]
     },
     "metadata": {},
     "output_type": "display_data"
    }
   ],
   "source": [
    "movie[1]"
   ]
  },
  {
   "cell_type": "code",
   "execution_count": 161,
   "metadata": {},
   "outputs": [
    {
     "data": {
      "text/html": [
       "'Gladiator'"
      ],
      "text/latex": [
       "'Gladiator'"
      ],
      "text/markdown": [
       "'Gladiator'"
      ],
      "text/plain": [
       "[1] \"Gladiator\""
      ]
     },
     "metadata": {},
     "output_type": "display_data"
    }
   ],
   "source": [
    "movie[[1]]"
   ]
  },
  {
   "cell_type": "markdown",
   "metadata": {},
   "source": [
    "Need to use double brackets to manipulate the list if you wanted to add 10 to the year for whatever reason"
   ]
  },
  {
   "cell_type": "code",
   "execution_count": 164,
   "metadata": {},
   "outputs": [
    {
     "data": {
      "text/html": [
       "2010"
      ],
      "text/latex": [
       "2010"
      ],
      "text/markdown": [
       "2010"
      ],
      "text/plain": [
       "[1] 2010"
      ]
     },
     "metadata": {},
     "output_type": "display_data"
    }
   ],
   "source": [
    "movie[['year']] + 10"
   ]
  },
  {
   "cell_type": "markdown",
   "metadata": {},
   "source": [
    "Can get just the year and avoid double brackets with the $"
   ]
  },
  {
   "cell_type": "code",
   "execution_count": 165,
   "metadata": {},
   "outputs": [
    {
     "data": {
      "text/html": [
       "2000"
      ],
      "text/latex": [
       "2000"
      ],
      "text/markdown": [
       "2000"
      ],
      "text/plain": [
       "[1] 2000"
      ]
     },
     "metadata": {},
     "output_type": "display_data"
    }
   ],
   "source": [
    "movie$year"
   ]
  },
  {
   "cell_type": "code",
   "execution_count": 166,
   "metadata": {},
   "outputs": [
    {
     "data": {
      "text/html": [
       "2010"
      ],
      "text/latex": [
       "2010"
      ],
      "text/markdown": [
       "2010"
      ],
      "text/plain": [
       "[1] 2010"
      ]
     },
     "metadata": {},
     "output_type": "display_data"
    }
   ],
   "source": [
    "movie$year+10"
   ]
  },
  {
   "cell_type": "markdown",
   "metadata": {},
   "source": [
    "You can name vectors too"
   ]
  },
  {
   "cell_type": "code",
   "execution_count": 160,
   "metadata": {},
   "outputs": [
    {
     "data": {
      "text/html": [
       "<strong>a:</strong> 1"
      ],
      "text/latex": [
       "\\textbf{a:} 1"
      ],
      "text/markdown": [
       "**a:** 1"
      ],
      "text/plain": [
       "a \n",
       "1 "
      ]
     },
     "metadata": {},
     "output_type": "display_data"
    }
   ],
   "source": [
    "c(a=1,b=2)['a']"
   ]
  },
  {
   "cell_type": "markdown",
   "metadata": {},
   "source": [
    "append to the end of a list with append()"
   ]
  },
  {
   "cell_type": "code",
   "execution_count": 167,
   "metadata": {},
   "outputs": [
    {
     "data": {
      "text/html": [
       "<ol>\n",
       "\t<li>1</li>\n",
       "\t<li>2</li>\n",
       "</ol>\n"
      ],
      "text/latex": [
       "\\begin{enumerate}\n",
       "\\item 1\n",
       "\\item 2\n",
       "\\end{enumerate}\n"
      ],
      "text/markdown": [
       "1. 1\n",
       "2. 2\n",
       "\n",
       "\n"
      ],
      "text/plain": [
       "[[1]]\n",
       "[1] 1\n",
       "\n",
       "[[2]]\n",
       "[1] 2\n"
      ]
     },
     "metadata": {},
     "output_type": "display_data"
    }
   ],
   "source": [
    "append(list(1), 2)"
   ]
  },
  {
   "cell_type": "markdown",
   "metadata": {},
   "source": [
    "Generally if you are using something with different types, use a list, otherwise, use vectors."
   ]
  },
  {
   "cell_type": "markdown",
   "metadata": {},
   "source": [
    "## Reading Data\n",
    "\n",
    "To read a csv file"
   ]
  },
  {
   "cell_type": "code",
   "execution_count": 236,
   "metadata": {
    "collapsed": true
   },
   "outputs": [],
   "source": [
    "?read.csv"
   ]
  },
  {
   "cell_type": "markdown",
   "metadata": {},
   "source": [
    "To read some lines, you can use nrows to choose the number of rows to read and skip to choose how many rows at the start to skip"
   ]
  },
  {
   "cell_type": "code",
   "execution_count": 258,
   "metadata": {
    "scrolled": false
   },
   "outputs": [
    {
     "data": {
      "text/html": [
       "<table>\n",
       "<thead><tr><th scope=col>V1</th><th scope=col>V2</th><th scope=col>V3</th><th scope=col>V4</th><th scope=col>V5</th><th scope=col>V6</th><th scope=col>V7</th><th scope=col>V8</th><th scope=col>V9</th><th scope=col>V10</th><th scope=col>V11</th></tr></thead>\n",
       "<tbody>\n",
       "\t<tr><td>Buick LeSabre    </td><td>No               </td><td>Front            </td><td>205              </td><td>Regular          </td><td>20               </td><td>200              </td><td>74               </td><td>3640             </td><td>18               </td><td>42               </td></tr>\n",
       "\t<tr><td>Buick Park Avenue</td><td>No               </td><td>Front            </td><td>205              </td><td>Premium          </td><td>21               </td><td>207              </td><td>75               </td><td>3880             </td><td>19               </td><td>43               </td></tr>\n",
       "\t<tr><td>Buick Rendezvous </td><td>Yes              </td><td>Front            </td><td>185              </td><td>Regular          </td><td>16               </td><td>187              </td><td>74               </td><td>4230             </td><td>45               </td><td>40               </td></tr>\n",
       "</tbody>\n",
       "</table>\n"
      ],
      "text/latex": [
       "\\begin{tabular}{r|lllllllllll}\n",
       " V1 & V2 & V3 & V4 & V5 & V6 & V7 & V8 & V9 & V10 & V11\\\\\n",
       "\\hline\n",
       "\t Buick LeSabre     & No                & Front             & 205               & Regular           & 20                & 200               & 74                & 3640              & 18                & 42               \\\\\n",
       "\t Buick Park Avenue & No                & Front             & 205               & Premium           & 21                & 207               & 75                & 3880              & 19                & 43               \\\\\n",
       "\t Buick Rendezvous  & Yes               & Front             & 185               & Regular           & 16                & 187               & 74                & 4230              & 45                & 40               \\\\\n",
       "\\end{tabular}\n"
      ],
      "text/markdown": [
       "\n",
       "V1 | V2 | V3 | V4 | V5 | V6 | V7 | V8 | V9 | V10 | V11 | \n",
       "|---|---|---|\n",
       "| Buick LeSabre     | No                | Front             | 205               | Regular           | 20                | 200               | 74                | 3640              | 18                | 42                | \n",
       "| Buick Park Avenue | No                | Front             | 205               | Premium           | 21                | 207               | 75                | 3880              | 19                | 43                | \n",
       "| Buick Rendezvous  | Yes               | Front             | 185               | Regular           | 16                | 187               | 74                | 4230              | 45                | 40                | \n",
       "\n",
       "\n"
      ],
      "text/plain": [
       "  V1                V2  V3    V4  V5      V6 V7  V8 V9   V10 V11\n",
       "1 Buick LeSabre     No  Front 205 Regular 20 200 74 3640 18  42 \n",
       "2 Buick Park Avenue No  Front 205 Premium 21 207 75 3880 19  43 \n",
       "3 Buick Rendezvous  Yes Front 185 Regular 16 187 74 4230 45  40 "
      ]
     },
     "metadata": {},
     "output_type": "display_data"
    }
   ],
   "source": [
    "read.csv('car.csv', nrows=3, skip=10, header=FALSE)"
   ]
  },
  {
   "cell_type": "code",
   "execution_count": 178,
   "metadata": {},
   "outputs": [],
   "source": [
    "car <- read.csv('car.csv', header=TRUE) # Header is TRUE by default"
   ]
  },
  {
   "cell_type": "markdown",
   "metadata": {},
   "source": [
    "Show dimensions, number of rows, and columns"
   ]
  },
  {
   "cell_type": "code",
   "execution_count": 208,
   "metadata": {},
   "outputs": [
    {
     "data": {
      "text/html": [
       "<ol>\n",
       "\t<li><ol class=list-inline>\n",
       "\t<li>121</li>\n",
       "\t<li>11</li>\n",
       "</ol>\n",
       "</li>\n",
       "\t<li>121</li>\n",
       "\t<li>11</li>\n",
       "</ol>\n"
      ],
      "text/latex": [
       "\\begin{enumerate}\n",
       "\\item \\begin{enumerate*}\n",
       "\\item 121\n",
       "\\item 11\n",
       "\\end{enumerate*}\n",
       "\n",
       "\\item 121\n",
       "\\item 11\n",
       "\\end{enumerate}\n"
      ],
      "text/markdown": [
       "1. 1. 121\n",
       "2. 11\n",
       "\n",
       "\n",
       "\n",
       "2. 121\n",
       "3. 11\n",
       "\n",
       "\n"
      ],
      "text/plain": [
       "[[1]]\n",
       "[1] 121  11\n",
       "\n",
       "[[2]]\n",
       "[1] 121\n",
       "\n",
       "[[3]]\n",
       "[1] 11\n"
      ]
     },
     "metadata": {},
     "output_type": "display_data"
    }
   ],
   "source": [
    "list(dim(car), nrow(car), ncol(car))"
   ]
  },
  {
   "cell_type": "markdown",
   "metadata": {},
   "source": [
    "## DataFrame\n",
    "\n",
    "read.csv reads in the file as a dataframe. Dataframes are lists of vectors."
   ]
  },
  {
   "cell_type": "markdown",
   "metadata": {},
   "source": [
    "To look at the beginning of the data"
   ]
  },
  {
   "cell_type": "code",
   "execution_count": 179,
   "metadata": {},
   "outputs": [
    {
     "data": {
      "text/html": [
       "<table>\n",
       "<thead><tr><th scope=col>Name</th><th scope=col>SUV</th><th scope=col>Drive.Type</th><th scope=col>Horsepower</th><th scope=col>Fuel.Type</th><th scope=col>MPG</th><th scope=col>Length</th><th scope=col>Width</th><th scope=col>Weight</th><th scope=col>Cargo.Volume</th><th scope=col>Turning.Circle</th></tr></thead>\n",
       "<tbody>\n",
       "\t<tr><td>Acura MDX</td><td>Yes      </td><td>AWD      </td><td>240      </td><td>Premium  </td><td>18       </td><td>189      </td><td>76       </td><td>4485     </td><td>42       </td><td>38       </td></tr>\n",
       "\t<tr><td>Acura RL </td><td>No       </td><td>Front    </td><td>225      </td><td>Premium  </td><td>21       </td><td>197      </td><td>72       </td><td>3860     </td><td>15       </td><td>39       </td></tr>\n",
       "\t<tr><td>Acura RSX</td><td>No       </td><td>Front    </td><td>160      </td><td>Premium  </td><td>26       </td><td>172      </td><td>68       </td><td>2780     </td><td>18       </td><td>40       </td></tr>\n",
       "\t<tr><td>Acura TL </td><td>No       </td><td>Front    </td><td>225      </td><td>Premium  </td><td>22       </td><td>193      </td><td>71       </td><td>3520     </td><td>14       </td><td>42       </td></tr>\n",
       "\t<tr><td>Audi A4  </td><td>No       </td><td>Front    </td><td>170      </td><td>Premium  </td><td>20       </td><td>179      </td><td>70       </td><td>3745     </td><td>13       </td><td>37       </td></tr>\n",
       "\t<tr><td>Audi A6  </td><td>No       </td><td>Front    </td><td>220      </td><td>Premium  </td><td>18       </td><td>192      </td><td>76       </td><td>3915     </td><td>15       </td><td>39       </td></tr>\n",
       "</tbody>\n",
       "</table>\n"
      ],
      "text/latex": [
       "\\begin{tabular}{r|lllllllllll}\n",
       " Name & SUV & Drive.Type & Horsepower & Fuel.Type & MPG & Length & Width & Weight & Cargo.Volume & Turning.Circle\\\\\n",
       "\\hline\n",
       "\t Acura MDX & Yes       & AWD       & 240       & Premium   & 18        & 189       & 76        & 4485      & 42        & 38       \\\\\n",
       "\t Acura RL  & No        & Front     & 225       & Premium   & 21        & 197       & 72        & 3860      & 15        & 39       \\\\\n",
       "\t Acura RSX & No        & Front     & 160       & Premium   & 26        & 172       & 68        & 2780      & 18        & 40       \\\\\n",
       "\t Acura TL  & No        & Front     & 225       & Premium   & 22        & 193       & 71        & 3520      & 14        & 42       \\\\\n",
       "\t Audi A4   & No        & Front     & 170       & Premium   & 20        & 179       & 70        & 3745      & 13        & 37       \\\\\n",
       "\t Audi A6   & No        & Front     & 220       & Premium   & 18        & 192       & 76        & 3915      & 15        & 39       \\\\\n",
       "\\end{tabular}\n"
      ],
      "text/markdown": [
       "\n",
       "Name | SUV | Drive.Type | Horsepower | Fuel.Type | MPG | Length | Width | Weight | Cargo.Volume | Turning.Circle | \n",
       "|---|---|---|---|---|---|\n",
       "| Acura MDX | Yes       | AWD       | 240       | Premium   | 18        | 189       | 76        | 4485      | 42        | 38        | \n",
       "| Acura RL  | No        | Front     | 225       | Premium   | 21        | 197       | 72        | 3860      | 15        | 39        | \n",
       "| Acura RSX | No        | Front     | 160       | Premium   | 26        | 172       | 68        | 2780      | 18        | 40        | \n",
       "| Acura TL  | No        | Front     | 225       | Premium   | 22        | 193       | 71        | 3520      | 14        | 42        | \n",
       "| Audi A4   | No        | Front     | 170       | Premium   | 20        | 179       | 70        | 3745      | 13        | 37        | \n",
       "| Audi A6   | No        | Front     | 220       | Premium   | 18        | 192       | 76        | 3915      | 15        | 39        | \n",
       "\n",
       "\n"
      ],
      "text/plain": [
       "  Name      SUV Drive.Type Horsepower Fuel.Type MPG Length Width Weight\n",
       "1 Acura MDX Yes AWD        240        Premium   18  189    76    4485  \n",
       "2 Acura RL  No  Front      225        Premium   21  197    72    3860  \n",
       "3 Acura RSX No  Front      160        Premium   26  172    68    2780  \n",
       "4 Acura TL  No  Front      225        Premium   22  193    71    3520  \n",
       "5 Audi A4   No  Front      170        Premium   20  179    70    3745  \n",
       "6 Audi A6   No  Front      220        Premium   18  192    76    3915  \n",
       "  Cargo.Volume Turning.Circle\n",
       "1 42           38            \n",
       "2 15           39            \n",
       "3 18           40            \n",
       "4 14           42            \n",
       "5 13           37            \n",
       "6 15           39            "
      ]
     },
     "metadata": {},
     "output_type": "display_data"
    }
   ],
   "source": [
    "head(car)"
   ]
  },
  {
   "cell_type": "markdown",
   "metadata": {},
   "source": [
    "To look at the end of the data"
   ]
  },
  {
   "cell_type": "code",
   "execution_count": 173,
   "metadata": {},
   "outputs": [
    {
     "data": {
      "text/html": [
       "<table>\n",
       "<thead><tr><th></th><th scope=col>Name</th><th scope=col>SUV</th><th scope=col>Drive.Type</th><th scope=col>Horsepower</th><th scope=col>Fuel.Type</th><th scope=col>MPG</th><th scope=col>Length</th><th scope=col>Width</th><th scope=col>Weight</th><th scope=col>Cargo.Volume</th><th scope=col>Turning.Circle</th></tr></thead>\n",
       "<tbody>\n",
       "\t<tr><th scope=row>116</th><td>Volkswagon New Beetle  </td><td>No                     </td><td>Front                  </td><td> 90                    </td><td>Regular                </td><td>29                     </td><td>161                    </td><td>68                     </td><td>2780                   </td><td>12.0                   </td><td>36                     </td></tr>\n",
       "\t<tr><th scope=row>117</th><td>Volkswagon Passat      </td><td>No                     </td><td>Front                  </td><td>170                    </td><td>Premium                </td><td>23                     </td><td>185                    </td><td>69                     </td><td>3335                   </td><td>38.5                   </td><td>37                     </td></tr>\n",
       "\t<tr><th scope=row>118</th><td>Volvo S40/V40          </td><td>No                     </td><td>Front                  </td><td>160                    </td><td>Regular                </td><td>22                     </td><td>176                    </td><td>68                     </td><td>2960                   </td><td>13.0                   </td><td>38                     </td></tr>\n",
       "\t<tr><th scope=row>119</th><td>Volvo S60              </td><td>No                     </td><td>Front                  </td><td>168                    </td><td>Regular                </td><td>21                     </td><td>180                    </td><td>71                     </td><td>3425                   </td><td>13.0                   </td><td>40                     </td></tr>\n",
       "\t<tr><th scope=row>120</th><td>Volvo S80              </td><td>No                     </td><td>Front                  </td><td>194                    </td><td>Regular                </td><td>21                     </td><td>190                    </td><td>72                     </td><td>3630                   </td><td>14.0                   </td><td>40                     </td></tr>\n",
       "\t<tr><th scope=row>121</th><td>Volvo V70/Cross Country</td><td>No                     </td><td>Front                  </td><td>197                    </td><td>Regular                </td><td>18                     </td><td>186                    </td><td>73                     </td><td>3815                   </td><td>35.5                   </td><td>40                     </td></tr>\n",
       "</tbody>\n",
       "</table>\n"
      ],
      "text/latex": [
       "\\begin{tabular}{r|lllllllllll}\n",
       "  & Name & SUV & Drive.Type & Horsepower & Fuel.Type & MPG & Length & Width & Weight & Cargo.Volume & Turning.Circle\\\\\n",
       "\\hline\n",
       "\t116 & Volkswagon New Beetle   & No                      & Front                   &  90                     & Regular                 & 29                      & 161                     & 68                      & 2780                    & 12.0                    & 36                     \\\\\n",
       "\t117 & Volkswagon Passat       & No                      & Front                   & 170                     & Premium                 & 23                      & 185                     & 69                      & 3335                    & 38.5                    & 37                     \\\\\n",
       "\t118 & Volvo S40/V40           & No                      & Front                   & 160                     & Regular                 & 22                      & 176                     & 68                      & 2960                    & 13.0                    & 38                     \\\\\n",
       "\t119 & Volvo S60               & No                      & Front                   & 168                     & Regular                 & 21                      & 180                     & 71                      & 3425                    & 13.0                    & 40                     \\\\\n",
       "\t120 & Volvo S80               & No                      & Front                   & 194                     & Regular                 & 21                      & 190                     & 72                      & 3630                    & 14.0                    & 40                     \\\\\n",
       "\t121 & Volvo V70/Cross Country & No                      & Front                   & 197                     & Regular                 & 18                      & 186                     & 73                      & 3815                    & 35.5                    & 40                     \\\\\n",
       "\\end{tabular}\n"
      ],
      "text/markdown": [
       "\n",
       "| <!--/--> | Name | SUV | Drive.Type | Horsepower | Fuel.Type | MPG | Length | Width | Weight | Cargo.Volume | Turning.Circle | \n",
       "|---|---|---|---|---|---|\n",
       "| 116 | Volkswagon New Beetle   | No                      | Front                   |  90                     | Regular                 | 29                      | 161                     | 68                      | 2780                    | 12.0                    | 36                      | \n",
       "| 117 | Volkswagon Passat       | No                      | Front                   | 170                     | Premium                 | 23                      | 185                     | 69                      | 3335                    | 38.5                    | 37                      | \n",
       "| 118 | Volvo S40/V40           | No                      | Front                   | 160                     | Regular                 | 22                      | 176                     | 68                      | 2960                    | 13.0                    | 38                      | \n",
       "| 119 | Volvo S60               | No                      | Front                   | 168                     | Regular                 | 21                      | 180                     | 71                      | 3425                    | 13.0                    | 40                      | \n",
       "| 120 | Volvo S80               | No                      | Front                   | 194                     | Regular                 | 21                      | 190                     | 72                      | 3630                    | 14.0                    | 40                      | \n",
       "| 121 | Volvo V70/Cross Country | No                      | Front                   | 197                     | Regular                 | 18                      | 186                     | 73                      | 3815                    | 35.5                    | 40                      | \n",
       "\n",
       "\n"
      ],
      "text/plain": [
       "    Name                    SUV Drive.Type Horsepower Fuel.Type MPG Length\n",
       "116 Volkswagon New Beetle   No  Front       90        Regular   29  161   \n",
       "117 Volkswagon Passat       No  Front      170        Premium   23  185   \n",
       "118 Volvo S40/V40           No  Front      160        Regular   22  176   \n",
       "119 Volvo S60               No  Front      168        Regular   21  180   \n",
       "120 Volvo S80               No  Front      194        Regular   21  190   \n",
       "121 Volvo V70/Cross Country No  Front      197        Regular   18  186   \n",
       "    Width Weight Cargo.Volume Turning.Circle\n",
       "116 68    2780   12.0         36            \n",
       "117 69    3335   38.5         37            \n",
       "118 68    2960   13.0         38            \n",
       "119 71    3425   13.0         40            \n",
       "120 72    3630   14.0         40            \n",
       "121 73    3815   35.5         40            "
      ]
     },
     "metadata": {},
     "output_type": "display_data"
    }
   ],
   "source": [
    "tail(car)"
   ]
  },
  {
   "cell_type": "markdown",
   "metadata": {},
   "source": [
    "To select slice(s) based on boolean indexing"
   ]
  },
  {
   "cell_type": "code",
   "execution_count": 171,
   "metadata": {
    "scrolled": true
   },
   "outputs": [
    {
     "data": {
      "text/html": [
       "<ol class=list-inline>\n",
       "\t<li>'Audi A4'</li>\n",
       "\t<li>'No'</li>\n",
       "\t<li>'Front'</li>\n",
       "\t<li>'170'</li>\n",
       "\t<li>'Premium'</li>\n",
       "\t<li>'20'</li>\n",
       "\t<li>'179'</li>\n",
       "\t<li>'70'</li>\n",
       "\t<li>'3745'</li>\n",
       "\t<li>'13.0'</li>\n",
       "\t<li>'37'</li>\n",
       "</ol>\n"
      ],
      "text/latex": [
       "\\begin{enumerate*}\n",
       "\\item 'Audi A4'\n",
       "\\item 'No'\n",
       "\\item 'Front'\n",
       "\\item '170'\n",
       "\\item 'Premium'\n",
       "\\item '20'\n",
       "\\item '179'\n",
       "\\item '70'\n",
       "\\item '3745'\n",
       "\\item '13.0'\n",
       "\\item '37'\n",
       "\\end{enumerate*}\n"
      ],
      "text/markdown": [
       "1. 'Audi A4'\n",
       "2. 'No'\n",
       "3. 'Front'\n",
       "4. '170'\n",
       "5. 'Premium'\n",
       "6. '20'\n",
       "7. '179'\n",
       "8. '70'\n",
       "9. '3745'\n",
       "10. '13.0'\n",
       "11. '37'\n",
       "\n",
       "\n"
      ],
      "text/plain": [
       " [1] \"Audi A4\" \"No\"      \"Front\"   \"170\"     \"Premium\" \"20\"      \"179\"    \n",
       " [8] \"70\"      \"3745\"    \"13.0\"    \"37\"     "
      ]
     },
     "metadata": {},
     "output_type": "display_data"
    }
   ],
   "source": [
    "car[car['Name']=='Audi A4']"
   ]
  },
  {
   "cell_type": "code",
   "execution_count": 204,
   "metadata": {},
   "outputs": [
    {
     "data": {
      "text/html": [
       "<table>\n",
       "<thead><tr><th scope=col>Name</th><th scope=col>SUV</th><th scope=col>Drive.Type</th><th scope=col>Horsepower</th><th scope=col>Fuel.Type</th><th scope=col>MPG</th><th scope=col>Length</th><th scope=col>Width</th><th scope=col>Weight</th><th scope=col>Cargo.Volume</th><th scope=col>Turning.Circle</th></tr></thead>\n",
       "<tbody>\n",
       "\t<tr><td>Acura MDX    </td><td>Yes          </td><td>AWD          </td><td>240          </td><td>Premium      </td><td>18           </td><td>189          </td><td>76           </td><td>4485         </td><td>42.0         </td><td>38           </td></tr>\n",
       "\t<tr><td>Acura RL     </td><td>No           </td><td>Front        </td><td>225          </td><td>Premium      </td><td>21           </td><td>197          </td><td>72           </td><td>3860         </td><td>15.0         </td><td>39           </td></tr>\n",
       "\t<tr><td>Acura RSX    </td><td>No           </td><td>Front        </td><td>160          </td><td>Premium      </td><td>26           </td><td>172          </td><td>68           </td><td>2780         </td><td>18.0         </td><td>40           </td></tr>\n",
       "\t<tr><td>Acura TL     </td><td>No           </td><td>Front        </td><td>225          </td><td>Premium      </td><td>22           </td><td>193          </td><td>71           </td><td>3520         </td><td>14.0         </td><td>42           </td></tr>\n",
       "\t<tr><td>Audi A4      </td><td>No           </td><td>Front        </td><td>170          </td><td>Premium      </td><td>20           </td><td>179          </td><td>70           </td><td>3745         </td><td>13.0         </td><td>37           </td></tr>\n",
       "\t<tr><td>Audi A6      </td><td>No           </td><td>Front        </td><td>220          </td><td>Premium      </td><td>18           </td><td>192          </td><td>76           </td><td>3915         </td><td>15.0         </td><td>39           </td></tr>\n",
       "\t<tr><td>BMW 3-Series </td><td>No           </td><td>Rear         </td><td>184          </td><td>Premium      </td><td>22           </td><td>176          </td><td>69           </td><td>3390         </td><td>11.0         </td><td>35           </td></tr>\n",
       "\t<tr><td>BMW 5-Series </td><td>No           </td><td>Rear         </td><td>184          </td><td>Premium      </td><td>19           </td><td>188          </td><td>71           </td><td>3575         </td><td>11.0         </td><td>38           </td></tr>\n",
       "\t<tr><td>BMW X5       </td><td>Yes          </td><td>AWD          </td><td>225          </td><td>Premium      </td><td>15           </td><td>184          </td><td>74           </td><td>4715         </td><td>35.5         </td><td>40           </td></tr>\n",
       "\t<tr><td>Buick LeSabre</td><td>No           </td><td>Front        </td><td>205          </td><td>Regular      </td><td>20           </td><td>200          </td><td>74           </td><td>3640         </td><td>18.0         </td><td>42           </td></tr>\n",
       "</tbody>\n",
       "</table>\n"
      ],
      "text/latex": [
       "\\begin{tabular}{r|lllllllllll}\n",
       " Name & SUV & Drive.Type & Horsepower & Fuel.Type & MPG & Length & Width & Weight & Cargo.Volume & Turning.Circle\\\\\n",
       "\\hline\n",
       "\t Acura MDX     & Yes           & AWD           & 240           & Premium       & 18            & 189           & 76            & 4485          & 42.0          & 38           \\\\\n",
       "\t Acura RL      & No            & Front         & 225           & Premium       & 21            & 197           & 72            & 3860          & 15.0          & 39           \\\\\n",
       "\t Acura RSX     & No            & Front         & 160           & Premium       & 26            & 172           & 68            & 2780          & 18.0          & 40           \\\\\n",
       "\t Acura TL      & No            & Front         & 225           & Premium       & 22            & 193           & 71            & 3520          & 14.0          & 42           \\\\\n",
       "\t Audi A4       & No            & Front         & 170           & Premium       & 20            & 179           & 70            & 3745          & 13.0          & 37           \\\\\n",
       "\t Audi A6       & No            & Front         & 220           & Premium       & 18            & 192           & 76            & 3915          & 15.0          & 39           \\\\\n",
       "\t BMW 3-Series  & No            & Rear          & 184           & Premium       & 22            & 176           & 69            & 3390          & 11.0          & 35           \\\\\n",
       "\t BMW 5-Series  & No            & Rear          & 184           & Premium       & 19            & 188           & 71            & 3575          & 11.0          & 38           \\\\\n",
       "\t BMW X5        & Yes           & AWD           & 225           & Premium       & 15            & 184           & 74            & 4715          & 35.5          & 40           \\\\\n",
       "\t Buick LeSabre & No            & Front         & 205           & Regular       & 20            & 200           & 74            & 3640          & 18.0          & 42           \\\\\n",
       "\\end{tabular}\n"
      ],
      "text/markdown": [
       "\n",
       "Name | SUV | Drive.Type | Horsepower | Fuel.Type | MPG | Length | Width | Weight | Cargo.Volume | Turning.Circle | \n",
       "|---|---|---|---|---|---|---|---|---|---|\n",
       "| Acura MDX     | Yes           | AWD           | 240           | Premium       | 18            | 189           | 76            | 4485          | 42.0          | 38            | \n",
       "| Acura RL      | No            | Front         | 225           | Premium       | 21            | 197           | 72            | 3860          | 15.0          | 39            | \n",
       "| Acura RSX     | No            | Front         | 160           | Premium       | 26            | 172           | 68            | 2780          | 18.0          | 40            | \n",
       "| Acura TL      | No            | Front         | 225           | Premium       | 22            | 193           | 71            | 3520          | 14.0          | 42            | \n",
       "| Audi A4       | No            | Front         | 170           | Premium       | 20            | 179           | 70            | 3745          | 13.0          | 37            | \n",
       "| Audi A6       | No            | Front         | 220           | Premium       | 18            | 192           | 76            | 3915          | 15.0          | 39            | \n",
       "| BMW 3-Series  | No            | Rear          | 184           | Premium       | 22            | 176           | 69            | 3390          | 11.0          | 35            | \n",
       "| BMW 5-Series  | No            | Rear          | 184           | Premium       | 19            | 188           | 71            | 3575          | 11.0          | 38            | \n",
       "| BMW X5        | Yes           | AWD           | 225           | Premium       | 15            | 184           | 74            | 4715          | 35.5          | 40            | \n",
       "| Buick LeSabre | No            | Front         | 205           | Regular       | 20            | 200           | 74            | 3640          | 18.0          | 42            | \n",
       "\n",
       "\n"
      ],
      "text/plain": [
       "   Name          SUV Drive.Type Horsepower Fuel.Type MPG Length Width Weight\n",
       "1  Acura MDX     Yes AWD        240        Premium   18  189    76    4485  \n",
       "2  Acura RL      No  Front      225        Premium   21  197    72    3860  \n",
       "3  Acura RSX     No  Front      160        Premium   26  172    68    2780  \n",
       "4  Acura TL      No  Front      225        Premium   22  193    71    3520  \n",
       "5  Audi A4       No  Front      170        Premium   20  179    70    3745  \n",
       "6  Audi A6       No  Front      220        Premium   18  192    76    3915  \n",
       "7  BMW 3-Series  No  Rear       184        Premium   22  176    69    3390  \n",
       "8  BMW 5-Series  No  Rear       184        Premium   19  188    71    3575  \n",
       "9  BMW X5        Yes AWD        225        Premium   15  184    74    4715  \n",
       "10 Buick LeSabre No  Front      205        Regular   20  200    74    3640  \n",
       "   Cargo.Volume Turning.Circle\n",
       "1  42.0         38            \n",
       "2  15.0         39            \n",
       "3  18.0         40            \n",
       "4  14.0         42            \n",
       "5  13.0         37            \n",
       "6  15.0         39            \n",
       "7  11.0         35            \n",
       "8  11.0         38            \n",
       "9  35.5         40            \n",
       "10 18.0         42            "
      ]
     },
     "metadata": {},
     "output_type": "display_data"
    }
   ],
   "source": [
    "head(car, n=10) # n is to show how many"
   ]
  },
  {
   "cell_type": "markdown",
   "metadata": {},
   "source": [
    "Subset a dataframe based on partial strings"
   ]
  },
  {
   "cell_type": "code",
   "execution_count": 202,
   "metadata": {},
   "outputs": [
    {
     "name": "stderr",
     "output_type": "stream",
     "text": [
      "Warning message in grep(\"Audi\", car$Name):\n",
      "“input string 69 is invalid in this locale”"
     ]
    },
    {
     "data": {
      "text/html": [
       "<table>\n",
       "<thead><tr><th></th><th scope=col>Name</th><th scope=col>SUV</th><th scope=col>Drive.Type</th><th scope=col>Horsepower</th><th scope=col>Fuel.Type</th><th scope=col>MPG</th><th scope=col>Length</th><th scope=col>Width</th><th scope=col>Weight</th><th scope=col>Cargo.Volume</th><th scope=col>Turning.Circle</th></tr></thead>\n",
       "<tbody>\n",
       "\t<tr><th scope=row>5</th><td>Audi A4</td><td>No     </td><td>Front  </td><td>170    </td><td>Premium</td><td>20     </td><td>179    </td><td>70     </td><td>3745   </td><td>13     </td><td>37     </td></tr>\n",
       "\t<tr><th scope=row>6</th><td>Audi A6</td><td>No     </td><td>Front  </td><td>220    </td><td>Premium</td><td>18     </td><td>192    </td><td>76     </td><td>3915   </td><td>15     </td><td>39     </td></tr>\n",
       "</tbody>\n",
       "</table>\n"
      ],
      "text/latex": [
       "\\begin{tabular}{r|lllllllllll}\n",
       "  & Name & SUV & Drive.Type & Horsepower & Fuel.Type & MPG & Length & Width & Weight & Cargo.Volume & Turning.Circle\\\\\n",
       "\\hline\n",
       "\t5 & Audi A4 & No      & Front   & 170     & Premium & 20      & 179     & 70      & 3745    & 13      & 37     \\\\\n",
       "\t6 & Audi A6 & No      & Front   & 220     & Premium & 18      & 192     & 76      & 3915    & 15      & 39     \\\\\n",
       "\\end{tabular}\n"
      ],
      "text/markdown": [
       "\n",
       "| <!--/--> | Name | SUV | Drive.Type | Horsepower | Fuel.Type | MPG | Length | Width | Weight | Cargo.Volume | Turning.Circle | \n",
       "|---|---|\n",
       "| 5 | Audi A4 | No      | Front   | 170     | Premium | 20      | 179     | 70      | 3745    | 13      | 37      | \n",
       "| 6 | Audi A6 | No      | Front   | 220     | Premium | 18      | 192     | 76      | 3915    | 15      | 39      | \n",
       "\n",
       "\n"
      ],
      "text/plain": [
       "  Name    SUV Drive.Type Horsepower Fuel.Type MPG Length Width Weight\n",
       "5 Audi A4 No  Front      170        Premium   20  179    70    3745  \n",
       "6 Audi A6 No  Front      220        Premium   18  192    76    3915  \n",
       "  Cargo.Volume Turning.Circle\n",
       "5 13           37            \n",
       "6 15           39            "
      ]
     },
     "metadata": {},
     "output_type": "display_data"
    }
   ],
   "source": [
    "car[grep('Audi', car$Name),]"
   ]
  },
  {
   "cell_type": "markdown",
   "metadata": {},
   "source": [
    "To get just one column"
   ]
  },
  {
   "cell_type": "code",
   "execution_count": 174,
   "metadata": {
    "scrolled": true
   },
   "outputs": [
    {
     "data": {
      "text/html": [
       "<table>\n",
       "<thead><tr><th scope=col>Name</th></tr></thead>\n",
       "<tbody>\n",
       "\t<tr><td>Acura MDX</td></tr>\n",
       "\t<tr><td>Acura RL </td></tr>\n",
       "\t<tr><td>Acura RSX</td></tr>\n",
       "\t<tr><td>Acura TL </td></tr>\n",
       "\t<tr><td>Audi A4  </td></tr>\n",
       "\t<tr><td>Audi A6  </td></tr>\n",
       "</tbody>\n",
       "</table>\n"
      ],
      "text/latex": [
       "\\begin{tabular}{r|l}\n",
       " Name\\\\\n",
       "\\hline\n",
       "\t Acura MDX\\\\\n",
       "\t Acura RL \\\\\n",
       "\t Acura RSX\\\\\n",
       "\t Acura TL \\\\\n",
       "\t Audi A4  \\\\\n",
       "\t Audi A6  \\\\\n",
       "\\end{tabular}\n"
      ],
      "text/markdown": [
       "\n",
       "Name | \n",
       "|---|---|---|---|---|---|\n",
       "| Acura MDX | \n",
       "| Acura RL  | \n",
       "| Acura RSX | \n",
       "| Acura TL  | \n",
       "| Audi A4   | \n",
       "| Audi A6   | \n",
       "\n",
       "\n"
      ],
      "text/plain": [
       "  Name     \n",
       "1 Acura MDX\n",
       "2 Acura RL \n",
       "3 Acura RSX\n",
       "4 Acura TL \n",
       "5 Audi A4  \n",
       "6 Audi A6  "
      ]
     },
     "metadata": {},
     "output_type": "display_data"
    }
   ],
   "source": [
    "head(car['Name'])"
   ]
  },
  {
   "cell_type": "markdown",
   "metadata": {},
   "source": [
    "Access individual elements"
   ]
  },
  {
   "cell_type": "code",
   "execution_count": 212,
   "metadata": {},
   "outputs": [
    {
     "data": {
      "text/html": [
       "240"
      ],
      "text/latex": [
       "240"
      ],
      "text/markdown": [
       "240"
      ],
      "text/plain": [
       "[1] 240"
      ]
     },
     "metadata": {},
     "output_type": "display_data"
    }
   ],
   "source": [
    "car[1, 4]"
   ]
  },
  {
   "cell_type": "code",
   "execution_count": 219,
   "metadata": {
    "scrolled": true
   },
   "outputs": [
    {
     "data": {
      "text/html": [
       "<table>\n",
       "<thead><tr><th scope=col>Name</th></tr></thead>\n",
       "<tbody>\n",
       "\t<tr><td>Acura MDX</td></tr>\n",
       "\t<tr><td>Acura RL </td></tr>\n",
       "\t<tr><td>Acura RSX</td></tr>\n",
       "\t<tr><td>Acura TL </td></tr>\n",
       "\t<tr><td>Audi A4  </td></tr>\n",
       "\t<tr><td>Audi A6  </td></tr>\n",
       "</tbody>\n",
       "</table>\n"
      ],
      "text/latex": [
       "\\begin{tabular}{r|l}\n",
       " Name\\\\\n",
       "\\hline\n",
       "\t Acura MDX\\\\\n",
       "\t Acura RL \\\\\n",
       "\t Acura RSX\\\\\n",
       "\t Acura TL \\\\\n",
       "\t Audi A4  \\\\\n",
       "\t Audi A6  \\\\\n",
       "\\end{tabular}\n"
      ],
      "text/markdown": [
       "\n",
       "Name | \n",
       "|---|---|---|---|---|---|\n",
       "| Acura MDX | \n",
       "| Acura RL  | \n",
       "| Acura RSX | \n",
       "| Acura TL  | \n",
       "| Audi A4   | \n",
       "| Audi A6   | \n",
       "\n",
       "\n"
      ],
      "text/plain": [
       "  Name     \n",
       "1 Acura MDX\n",
       "2 Acura RL \n",
       "3 Acura RSX\n",
       "4 Acura TL \n",
       "5 Audi A4  \n",
       "6 Audi A6  "
      ]
     },
     "metadata": {},
     "output_type": "display_data"
    }
   ],
   "source": [
    "head(car[1]) # This is using list notation to access the column"
   ]
  },
  {
   "cell_type": "markdown",
   "metadata": {},
   "source": [
    "Show an entire row by index"
   ]
  },
  {
   "cell_type": "code",
   "execution_count": 213,
   "metadata": {},
   "outputs": [
    {
     "data": {
      "text/html": [
       "<table>\n",
       "<thead><tr><th scope=col>Name</th><th scope=col>SUV</th><th scope=col>Drive.Type</th><th scope=col>Horsepower</th><th scope=col>Fuel.Type</th><th scope=col>MPG</th><th scope=col>Length</th><th scope=col>Width</th><th scope=col>Weight</th><th scope=col>Cargo.Volume</th><th scope=col>Turning.Circle</th></tr></thead>\n",
       "<tbody>\n",
       "\t<tr><td>Acura MDX</td><td>Yes      </td><td>AWD      </td><td>240      </td><td>Premium  </td><td>18       </td><td>189      </td><td>76       </td><td>4485     </td><td>42       </td><td>38       </td></tr>\n",
       "</tbody>\n",
       "</table>\n"
      ],
      "text/latex": [
       "\\begin{tabular}{r|lllllllllll}\n",
       " Name & SUV & Drive.Type & Horsepower & Fuel.Type & MPG & Length & Width & Weight & Cargo.Volume & Turning.Circle\\\\\n",
       "\\hline\n",
       "\t Acura MDX & Yes       & AWD       & 240       & Premium   & 18        & 189       & 76        & 4485      & 42        & 38       \\\\\n",
       "\\end{tabular}\n"
      ],
      "text/markdown": [
       "\n",
       "Name | SUV | Drive.Type | Horsepower | Fuel.Type | MPG | Length | Width | Weight | Cargo.Volume | Turning.Circle | \n",
       "|---|\n",
       "| Acura MDX | Yes       | AWD       | 240       | Premium   | 18        | 189       | 76        | 4485      | 42        | 38        | \n",
       "\n",
       "\n"
      ],
      "text/plain": [
       "  Name      SUV Drive.Type Horsepower Fuel.Type MPG Length Width Weight\n",
       "1 Acura MDX Yes AWD        240        Premium   18  189    76    4485  \n",
       "  Cargo.Volume Turning.Circle\n",
       "1 42           38            "
      ]
     },
     "metadata": {},
     "output_type": "display_data"
    }
   ],
   "source": [
    "car[1,] # this is using matrix notation to access"
   ]
  },
  {
   "cell_type": "markdown",
   "metadata": {},
   "source": [
    "Show all elements in a column using an index"
   ]
  },
  {
   "cell_type": "code",
   "execution_count": 228,
   "metadata": {},
   "outputs": [
    {
     "data": {
      "text/html": [
       "<ol class=list-inline>\n",
       "\t<li>Acura MDX</li>\n",
       "\t<li>Acura RL</li>\n",
       "\t<li>Acura RSX</li>\n",
       "\t<li>Acura TL</li>\n",
       "\t<li>Audi A4</li>\n",
       "\t<li>Audi A6</li>\n",
       "\t<li>BMW 3-Series</li>\n",
       "\t<li>BMW 5-Series</li>\n",
       "\t<li>BMW X5</li>\n",
       "\t<li>Buick LeSabre</li>\n",
       "\t<li>Buick Park Avenue</li>\n",
       "\t<li>Buick Rendezvous</li>\n",
       "\t<li>Cadillac DeVille</li>\n",
       "\t<li>Chevrolet Impala</li>\n",
       "\t<li>Chevrolet Malibu</li>\n",
       "\t<li>Chevrolet Suburban </li>\n",
       "\t<li>Chevrolet Tracker</li>\n",
       "\t<li>Chevrolet TrailBlazer</li>\n",
       "\t<li>Chevrolet Venture</li>\n",
       "\t<li>Chrysler 300M</li>\n",
       "\t<li>Chrysler Concorde</li>\n",
       "\t<li>Chrysler PT Cruiser</li>\n",
       "\t<li>Chrysler Sebring</li>\n",
       "\t<li>Chrysler Town &amp; Country</li>\n",
       "\t<li>Daewoo Leganza</li>\n",
       "\t<li>Daewoo Nubira</li>\n",
       "\t<li>Dodge Caravan/Grand Caravan</li>\n",
       "\t<li>Dodge Durango</li>\n",
       "\t<li>Dodge Intrepid</li>\n",
       "\t<li>Dodge Neon</li>\n",
       "\t<li>Dodge Stratus</li>\n",
       "\t<li>Ford Crown Victoria</li>\n",
       "\t<li>Ford Escape</li>\n",
       "\t<li>Ford Excursion</li>\n",
       "\t<li>Ford Explorer</li>\n",
       "\t<li>Ford Focus</li>\n",
       "\t<li>Ford Taurus</li>\n",
       "\t<li>Ford Windstar</li>\n",
       "\t<li>GMC Envoy</li>\n",
       "\t<li>GMC Yukon XL</li>\n",
       "\t<li>Honda Accord</li>\n",
       "\t<li>Honda Civic</li>\n",
       "\t<li>Honda CR-V</li>\n",
       "\t<li>Honda Odyssey</li>\n",
       "\t<li>Honda S2000</li>\n",
       "\t<li>Hyundai Elantra</li>\n",
       "\t<li>Hyundai Santa Fe</li>\n",
       "\t<li>Hyundai Sonata</li>\n",
       "\t<li>Infiniti G20</li>\n",
       "\t<li>Infiniti I35</li>\n",
       "\t<li>Jaguar S-Type</li>\n",
       "\t<li>Jaguar X-Type</li>\n",
       "\t<li>Jeep Grand Cherokee</li>\n",
       "\t<li>Jeep Liberty</li>\n",
       "\t<li>Kia Spectra</li>\n",
       "\t<li>Kia Sportage</li>\n",
       "\t<li>Land Rover Discovery</li>\n",
       "\t<li>Land Rover Freelander</li>\n",
       "\t<li>Lexus ES300</li>\n",
       "\t<li>Lexus GS300/GS430</li>\n",
       "\t<li>Lexus IS300</li>\n",
       "\t<li>Lexus RX300</li>\n",
       "\t<li>Lincoln Continental</li>\n",
       "\t<li>Lincoln LS0</li>\n",
       "\t<li>Lincoln Town Car</li>\n",
       "\t<li>Mazda 626</li>\n",
       "\t<li>Mazda MPV</li>\n",
       "\t<li>Mazda MX-5 Miata</li>\n",
       "\t<li>Mazda Prot\\xe9g\\xe9</li>\n",
       "\t<li>Mazda Tribute</li>\n",
       "\t<li>Mercedes-Benz C-Class</li>\n",
       "\t<li>Mercedes-Benz E-Class</li>\n",
       "\t<li>Mercedes-Benz M-Class</li>\n",
       "\t<li>Mercury Cougar</li>\n",
       "\t<li>Mercury Grand Marquis</li>\n",
       "\t<li>Mercury Sable</li>\n",
       "\t<li>Mercury Villager</li>\n",
       "\t<li>Mitsubishi Diamante</li>\n",
       "\t<li>Mitsubishi Eclipse</li>\n",
       "\t<li>Mitsubishi Galant</li>\n",
       "\t<li>Nissan Altima</li>\n",
       "\t<li>Nissan Maxima</li>\n",
       "\t<li>Nissan Pathfinder</li>\n",
       "\t<li>Nissan Quest</li>\n",
       "\t<li>Nissan Sentra</li>\n",
       "\t<li>Nissan Xterra</li>\n",
       "\t<li>Oldsmobile Alero</li>\n",
       "\t<li>Oldsmobile Aurora</li>\n",
       "\t<li>Oldsmobile Intrigue</li>\n",
       "\t<li>Oldsmobile Silhouette</li>\n",
       "\t<li>Pontiac Bonneville</li>\n",
       "\t<li>Pontiac Grand Am</li>\n",
       "\t<li>Pontiac Grand Prix</li>\n",
       "\t<li>Pontiac Montana</li>\n",
       "\t<li>Saab 9-5</li>\n",
       "\t<li>Saturn L-Series</li>\n",
       "\t<li>Saturn S-Series</li>\n",
       "\t<li>Saturn VUE</li>\n",
       "\t<li>Subaru Forester</li>\n",
       "\t<li>Subaru Impreza</li>\n",
       "\t<li>Subaru Legacy/Outback</li>\n",
       "\t<li>Suzuki Vitara/XL-7</li>\n",
       "\t<li>Toyota 4Runner</li>\n",
       "\t<li>Toyota Avalon</li>\n",
       "\t<li>Toyota Camry</li>\n",
       "\t<li>Toyota Camry Solara</li>\n",
       "\t<li>Toyota Celica</li>\n",
       "\t<li>Toyota Echo</li>\n",
       "\t<li>Toyota Highlander</li>\n",
       "\t<li>Toyota Land Cruiser</li>\n",
       "\t<li>Toyota Prius</li>\n",
       "\t<li>Toyota RAV4</li>\n",
       "\t<li>Toyota Sienna</li>\n",
       "\t<li>Volkswagon Golf</li>\n",
       "\t<li>Volkswagon Jetta</li>\n",
       "\t<li>Volkswagon New Beetle</li>\n",
       "\t<li>Volkswagon Passat</li>\n",
       "\t<li>Volvo S40/V40</li>\n",
       "\t<li>Volvo S60</li>\n",
       "\t<li>Volvo S80</li>\n",
       "\t<li>Volvo V70/Cross Country</li>\n",
       "</ol>\n"
      ],
      "text/latex": [
       "\\begin{enumerate*}\n",
       "\\item Acura MDX\n",
       "\\item Acura RL\n",
       "\\item Acura RSX\n",
       "\\item Acura TL\n",
       "\\item Audi A4\n",
       "\\item Audi A6\n",
       "\\item BMW 3-Series\n",
       "\\item BMW 5-Series\n",
       "\\item BMW X5\n",
       "\\item Buick LeSabre\n",
       "\\item Buick Park Avenue\n",
       "\\item Buick Rendezvous\n",
       "\\item Cadillac DeVille\n",
       "\\item Chevrolet Impala\n",
       "\\item Chevrolet Malibu\n",
       "\\item Chevrolet Suburban \n",
       "\\item Chevrolet Tracker\n",
       "\\item Chevrolet TrailBlazer\n",
       "\\item Chevrolet Venture\n",
       "\\item Chrysler 300M\n",
       "\\item Chrysler Concorde\n",
       "\\item Chrysler PT Cruiser\n",
       "\\item Chrysler Sebring\n",
       "\\item Chrysler Town \\& Country\n",
       "\\item Daewoo Leganza\n",
       "\\item Daewoo Nubira\n",
       "\\item Dodge Caravan/Grand Caravan\n",
       "\\item Dodge Durango\n",
       "\\item Dodge Intrepid\n",
       "\\item Dodge Neon\n",
       "\\item Dodge Stratus\n",
       "\\item Ford Crown Victoria\n",
       "\\item Ford Escape\n",
       "\\item Ford Excursion\n",
       "\\item Ford Explorer\n",
       "\\item Ford Focus\n",
       "\\item Ford Taurus\n",
       "\\item Ford Windstar\n",
       "\\item GMC Envoy\n",
       "\\item GMC Yukon XL\n",
       "\\item Honda Accord\n",
       "\\item Honda Civic\n",
       "\\item Honda CR-V\n",
       "\\item Honda Odyssey\n",
       "\\item Honda S2000\n",
       "\\item Hyundai Elantra\n",
       "\\item Hyundai Santa Fe\n",
       "\\item Hyundai Sonata\n",
       "\\item Infiniti G20\n",
       "\\item Infiniti I35\n",
       "\\item Jaguar S-Type\n",
       "\\item Jaguar X-Type\n",
       "\\item Jeep Grand Cherokee\n",
       "\\item Jeep Liberty\n",
       "\\item Kia Spectra\n",
       "\\item Kia Sportage\n",
       "\\item Land Rover Discovery\n",
       "\\item Land Rover Freelander\n",
       "\\item Lexus ES300\n",
       "\\item Lexus GS300/GS430\n",
       "\\item Lexus IS300\n",
       "\\item Lexus RX300\n",
       "\\item Lincoln Continental\n",
       "\\item Lincoln LS0\n",
       "\\item Lincoln Town Car\n",
       "\\item Mazda 626\n",
       "\\item Mazda MPV\n",
       "\\item Mazda MX-5 Miata\n",
       "\\item Mazda Prot\\textbackslash{}xe9g\\textbackslash{}xe9\n",
       "\\item Mazda Tribute\n",
       "\\item Mercedes-Benz C-Class\n",
       "\\item Mercedes-Benz E-Class\n",
       "\\item Mercedes-Benz M-Class\n",
       "\\item Mercury Cougar\n",
       "\\item Mercury Grand Marquis\n",
       "\\item Mercury Sable\n",
       "\\item Mercury Villager\n",
       "\\item Mitsubishi Diamante\n",
       "\\item Mitsubishi Eclipse\n",
       "\\item Mitsubishi Galant\n",
       "\\item Nissan Altima\n",
       "\\item Nissan Maxima\n",
       "\\item Nissan Pathfinder\n",
       "\\item Nissan Quest\n",
       "\\item Nissan Sentra\n",
       "\\item Nissan Xterra\n",
       "\\item Oldsmobile Alero\n",
       "\\item Oldsmobile Aurora\n",
       "\\item Oldsmobile Intrigue\n",
       "\\item Oldsmobile Silhouette\n",
       "\\item Pontiac Bonneville\n",
       "\\item Pontiac Grand Am\n",
       "\\item Pontiac Grand Prix\n",
       "\\item Pontiac Montana\n",
       "\\item Saab 9-5\n",
       "\\item Saturn L-Series\n",
       "\\item Saturn S-Series\n",
       "\\item Saturn VUE\n",
       "\\item Subaru Forester\n",
       "\\item Subaru Impreza\n",
       "\\item Subaru Legacy/Outback\n",
       "\\item Suzuki Vitara/XL-7\n",
       "\\item Toyota 4Runner\n",
       "\\item Toyota Avalon\n",
       "\\item Toyota Camry\n",
       "\\item Toyota Camry Solara\n",
       "\\item Toyota Celica\n",
       "\\item Toyota Echo\n",
       "\\item Toyota Highlander\n",
       "\\item Toyota Land Cruiser\n",
       "\\item Toyota Prius\n",
       "\\item Toyota RAV4\n",
       "\\item Toyota Sienna\n",
       "\\item Volkswagon Golf\n",
       "\\item Volkswagon Jetta\n",
       "\\item Volkswagon New Beetle\n",
       "\\item Volkswagon Passat\n",
       "\\item Volvo S40/V40\n",
       "\\item Volvo S60\n",
       "\\item Volvo S80\n",
       "\\item Volvo V70/Cross Country\n",
       "\\end{enumerate*}\n"
      ],
      "text/markdown": [
       "1. Acura MDX\n",
       "2. Acura RL\n",
       "3. Acura RSX\n",
       "4. Acura TL\n",
       "5. Audi A4\n",
       "6. Audi A6\n",
       "7. BMW 3-Series\n",
       "8. BMW 5-Series\n",
       "9. BMW X5\n",
       "10. Buick LeSabre\n",
       "11. Buick Park Avenue\n",
       "12. Buick Rendezvous\n",
       "13. Cadillac DeVille\n",
       "14. Chevrolet Impala\n",
       "15. Chevrolet Malibu\n",
       "16. Chevrolet Suburban \n",
       "17. Chevrolet Tracker\n",
       "18. Chevrolet TrailBlazer\n",
       "19. Chevrolet Venture\n",
       "20. Chrysler 300M\n",
       "21. Chrysler Concorde\n",
       "22. Chrysler PT Cruiser\n",
       "23. Chrysler Sebring\n",
       "24. Chrysler Town &amp; Country\n",
       "25. Daewoo Leganza\n",
       "26. Daewoo Nubira\n",
       "27. Dodge Caravan/Grand Caravan\n",
       "28. Dodge Durango\n",
       "29. Dodge Intrepid\n",
       "30. Dodge Neon\n",
       "31. Dodge Stratus\n",
       "32. Ford Crown Victoria\n",
       "33. Ford Escape\n",
       "34. Ford Excursion\n",
       "35. Ford Explorer\n",
       "36. Ford Focus\n",
       "37. Ford Taurus\n",
       "38. Ford Windstar\n",
       "39. GMC Envoy\n",
       "40. GMC Yukon XL\n",
       "41. Honda Accord\n",
       "42. Honda Civic\n",
       "43. Honda CR-V\n",
       "44. Honda Odyssey\n",
       "45. Honda S2000\n",
       "46. Hyundai Elantra\n",
       "47. Hyundai Santa Fe\n",
       "48. Hyundai Sonata\n",
       "49. Infiniti G20\n",
       "50. Infiniti I35\n",
       "51. Jaguar S-Type\n",
       "52. Jaguar X-Type\n",
       "53. Jeep Grand Cherokee\n",
       "54. Jeep Liberty\n",
       "55. Kia Spectra\n",
       "56. Kia Sportage\n",
       "57. Land Rover Discovery\n",
       "58. Land Rover Freelander\n",
       "59. Lexus ES300\n",
       "60. Lexus GS300/GS430\n",
       "61. Lexus IS300\n",
       "62. Lexus RX300\n",
       "63. Lincoln Continental\n",
       "64. Lincoln LS0\n",
       "65. Lincoln Town Car\n",
       "66. Mazda 626\n",
       "67. Mazda MPV\n",
       "68. Mazda MX-5 Miata\n",
       "69. Mazda Prot\\xe9g\\xe9\n",
       "70. Mazda Tribute\n",
       "71. Mercedes-Benz C-Class\n",
       "72. Mercedes-Benz E-Class\n",
       "73. Mercedes-Benz M-Class\n",
       "74. Mercury Cougar\n",
       "75. Mercury Grand Marquis\n",
       "76. Mercury Sable\n",
       "77. Mercury Villager\n",
       "78. Mitsubishi Diamante\n",
       "79. Mitsubishi Eclipse\n",
       "80. Mitsubishi Galant\n",
       "81. Nissan Altima\n",
       "82. Nissan Maxima\n",
       "83. Nissan Pathfinder\n",
       "84. Nissan Quest\n",
       "85. Nissan Sentra\n",
       "86. Nissan Xterra\n",
       "87. Oldsmobile Alero\n",
       "88. Oldsmobile Aurora\n",
       "89. Oldsmobile Intrigue\n",
       "90. Oldsmobile Silhouette\n",
       "91. Pontiac Bonneville\n",
       "92. Pontiac Grand Am\n",
       "93. Pontiac Grand Prix\n",
       "94. Pontiac Montana\n",
       "95. Saab 9-5\n",
       "96. Saturn L-Series\n",
       "97. Saturn S-Series\n",
       "98. Saturn VUE\n",
       "99. Subaru Forester\n",
       "100. Subaru Impreza\n",
       "101. Subaru Legacy/Outback\n",
       "102. Suzuki Vitara/XL-7\n",
       "103. Toyota 4Runner\n",
       "104. Toyota Avalon\n",
       "105. Toyota Camry\n",
       "106. Toyota Camry Solara\n",
       "107. Toyota Celica\n",
       "108. Toyota Echo\n",
       "109. Toyota Highlander\n",
       "110. Toyota Land Cruiser\n",
       "111. Toyota Prius\n",
       "112. Toyota RAV4\n",
       "113. Toyota Sienna\n",
       "114. Volkswagon Golf\n",
       "115. Volkswagon Jetta\n",
       "116. Volkswagon New Beetle\n",
       "117. Volkswagon Passat\n",
       "118. Volvo S40/V40\n",
       "119. Volvo S60\n",
       "120. Volvo S80\n",
       "121. Volvo V70/Cross Country\n",
       "\n",
       "\n"
      ],
      "text/plain": [
       "  [1] Acura MDX                   Acura RL                   \n",
       "  [3] Acura RSX                   Acura TL                   \n",
       "  [5] Audi A4                     Audi A6                    \n",
       "  [7] BMW 3-Series                BMW 5-Series               \n",
       "  [9] BMW X5                      Buick LeSabre              \n",
       " [11] Buick Park Avenue           Buick Rendezvous           \n",
       " [13] Cadillac DeVille            Chevrolet Impala           \n",
       " [15] Chevrolet Malibu            Chevrolet Suburban         \n",
       " [17] Chevrolet Tracker           Chevrolet TrailBlazer      \n",
       " [19] Chevrolet Venture           Chrysler 300M              \n",
       " [21] Chrysler Concorde           Chrysler PT Cruiser        \n",
       " [23] Chrysler Sebring            Chrysler Town & Country    \n",
       " [25] Daewoo Leganza              Daewoo Nubira              \n",
       " [27] Dodge Caravan/Grand Caravan Dodge Durango              \n",
       " [29] Dodge Intrepid              Dodge Neon                 \n",
       " [31] Dodge Stratus               Ford Crown Victoria        \n",
       " [33] Ford Escape                 Ford Excursion             \n",
       " [35] Ford Explorer               Ford Focus                 \n",
       " [37] Ford Taurus                 Ford Windstar              \n",
       " [39] GMC Envoy                   GMC Yukon XL               \n",
       " [41] Honda Accord                Honda Civic                \n",
       " [43] Honda CR-V                  Honda Odyssey              \n",
       " [45] Honda S2000                 Hyundai Elantra            \n",
       " [47] Hyundai Santa Fe            Hyundai Sonata             \n",
       " [49] Infiniti G20                Infiniti I35               \n",
       " [51] Jaguar S-Type               Jaguar X-Type              \n",
       " [53] Jeep Grand Cherokee         Jeep Liberty               \n",
       " [55] Kia Spectra                 Kia Sportage               \n",
       " [57] Land Rover Discovery        Land Rover Freelander      \n",
       " [59] Lexus ES300                 Lexus GS300/GS430          \n",
       " [61] Lexus IS300                 Lexus RX300                \n",
       " [63] Lincoln Continental         Lincoln LS0                \n",
       " [65] Lincoln Town Car            Mazda 626                  \n",
       " [67] Mazda MPV                   Mazda MX-5 Miata           \n",
       " [69] Mazda Prot\\xe9g\\xe9         Mazda Tribute              \n",
       " [71] Mercedes-Benz C-Class       Mercedes-Benz E-Class      \n",
       " [73] Mercedes-Benz M-Class       Mercury Cougar             \n",
       " [75] Mercury Grand Marquis       Mercury Sable              \n",
       " [77] Mercury Villager            Mitsubishi Diamante        \n",
       " [79] Mitsubishi Eclipse          Mitsubishi Galant          \n",
       " [81] Nissan Altima               Nissan Maxima              \n",
       " [83] Nissan Pathfinder           Nissan Quest               \n",
       " [85] Nissan Sentra               Nissan Xterra              \n",
       " [87] Oldsmobile Alero            Oldsmobile Aurora          \n",
       " [89] Oldsmobile Intrigue         Oldsmobile Silhouette      \n",
       " [91] Pontiac Bonneville          Pontiac Grand Am           \n",
       " [93] Pontiac Grand Prix          Pontiac Montana            \n",
       " [95] Saab 9-5                    Saturn L-Series            \n",
       " [97] Saturn S-Series             Saturn VUE                 \n",
       " [99] Subaru Forester             Subaru Impreza             \n",
       "[101] Subaru Legacy/Outback       Suzuki Vitara/XL-7         \n",
       "[103] Toyota 4Runner              Toyota Avalon              \n",
       "[105] Toyota Camry                Toyota Camry Solara        \n",
       "[107] Toyota Celica               Toyota Echo                \n",
       "[109] Toyota Highlander           Toyota Land Cruiser        \n",
       "[111] Toyota Prius                Toyota RAV4                \n",
       "[113] Toyota Sienna               Volkswagon Golf            \n",
       "[115] Volkswagon Jetta            Volkswagon New Beetle      \n",
       "[117] Volkswagon Passat           Volvo S40/V40              \n",
       "[119] Volvo S60                   Volvo S80                  \n",
       "[121] Volvo V70/Cross Country    \n",
       "121 Levels: Acura MDX Acura RL Acura RSX Acura TL Audi A4 ... Volvo V70/Cross Country"
      ]
     },
     "metadata": {},
     "output_type": "display_data"
    }
   ],
   "source": [
    "car[,1] # this is using matrix notation to access"
   ]
  },
  {
   "cell_type": "code",
   "execution_count": 229,
   "metadata": {},
   "outputs": [
    {
     "data": {
      "text/html": [
       "<ol class=list-inline>\n",
       "\t<li>Acura MDX</li>\n",
       "\t<li>Acura RL</li>\n",
       "\t<li>Acura RSX</li>\n",
       "\t<li>Acura TL</li>\n",
       "\t<li>Audi A4</li>\n",
       "\t<li>Audi A6</li>\n",
       "\t<li>BMW 3-Series</li>\n",
       "\t<li>BMW 5-Series</li>\n",
       "\t<li>BMW X5</li>\n",
       "\t<li>Buick LeSabre</li>\n",
       "\t<li>Buick Park Avenue</li>\n",
       "\t<li>Buick Rendezvous</li>\n",
       "\t<li>Cadillac DeVille</li>\n",
       "\t<li>Chevrolet Impala</li>\n",
       "\t<li>Chevrolet Malibu</li>\n",
       "\t<li>Chevrolet Suburban </li>\n",
       "\t<li>Chevrolet Tracker</li>\n",
       "\t<li>Chevrolet TrailBlazer</li>\n",
       "\t<li>Chevrolet Venture</li>\n",
       "\t<li>Chrysler 300M</li>\n",
       "\t<li>Chrysler Concorde</li>\n",
       "\t<li>Chrysler PT Cruiser</li>\n",
       "\t<li>Chrysler Sebring</li>\n",
       "\t<li>Chrysler Town &amp; Country</li>\n",
       "\t<li>Daewoo Leganza</li>\n",
       "\t<li>Daewoo Nubira</li>\n",
       "\t<li>Dodge Caravan/Grand Caravan</li>\n",
       "\t<li>Dodge Durango</li>\n",
       "\t<li>Dodge Intrepid</li>\n",
       "\t<li>Dodge Neon</li>\n",
       "\t<li>Dodge Stratus</li>\n",
       "\t<li>Ford Crown Victoria</li>\n",
       "\t<li>Ford Escape</li>\n",
       "\t<li>Ford Excursion</li>\n",
       "\t<li>Ford Explorer</li>\n",
       "\t<li>Ford Focus</li>\n",
       "\t<li>Ford Taurus</li>\n",
       "\t<li>Ford Windstar</li>\n",
       "\t<li>GMC Envoy</li>\n",
       "\t<li>GMC Yukon XL</li>\n",
       "\t<li>Honda Accord</li>\n",
       "\t<li>Honda Civic</li>\n",
       "\t<li>Honda CR-V</li>\n",
       "\t<li>Honda Odyssey</li>\n",
       "\t<li>Honda S2000</li>\n",
       "\t<li>Hyundai Elantra</li>\n",
       "\t<li>Hyundai Santa Fe</li>\n",
       "\t<li>Hyundai Sonata</li>\n",
       "\t<li>Infiniti G20</li>\n",
       "\t<li>Infiniti I35</li>\n",
       "\t<li>Jaguar S-Type</li>\n",
       "\t<li>Jaguar X-Type</li>\n",
       "\t<li>Jeep Grand Cherokee</li>\n",
       "\t<li>Jeep Liberty</li>\n",
       "\t<li>Kia Spectra</li>\n",
       "\t<li>Kia Sportage</li>\n",
       "\t<li>Land Rover Discovery</li>\n",
       "\t<li>Land Rover Freelander</li>\n",
       "\t<li>Lexus ES300</li>\n",
       "\t<li>Lexus GS300/GS430</li>\n",
       "\t<li>Lexus IS300</li>\n",
       "\t<li>Lexus RX300</li>\n",
       "\t<li>Lincoln Continental</li>\n",
       "\t<li>Lincoln LS0</li>\n",
       "\t<li>Lincoln Town Car</li>\n",
       "\t<li>Mazda 626</li>\n",
       "\t<li>Mazda MPV</li>\n",
       "\t<li>Mazda MX-5 Miata</li>\n",
       "\t<li>Mazda Prot\\xe9g\\xe9</li>\n",
       "\t<li>Mazda Tribute</li>\n",
       "\t<li>Mercedes-Benz C-Class</li>\n",
       "\t<li>Mercedes-Benz E-Class</li>\n",
       "\t<li>Mercedes-Benz M-Class</li>\n",
       "\t<li>Mercury Cougar</li>\n",
       "\t<li>Mercury Grand Marquis</li>\n",
       "\t<li>Mercury Sable</li>\n",
       "\t<li>Mercury Villager</li>\n",
       "\t<li>Mitsubishi Diamante</li>\n",
       "\t<li>Mitsubishi Eclipse</li>\n",
       "\t<li>Mitsubishi Galant</li>\n",
       "\t<li>Nissan Altima</li>\n",
       "\t<li>Nissan Maxima</li>\n",
       "\t<li>Nissan Pathfinder</li>\n",
       "\t<li>Nissan Quest</li>\n",
       "\t<li>Nissan Sentra</li>\n",
       "\t<li>Nissan Xterra</li>\n",
       "\t<li>Oldsmobile Alero</li>\n",
       "\t<li>Oldsmobile Aurora</li>\n",
       "\t<li>Oldsmobile Intrigue</li>\n",
       "\t<li>Oldsmobile Silhouette</li>\n",
       "\t<li>Pontiac Bonneville</li>\n",
       "\t<li>Pontiac Grand Am</li>\n",
       "\t<li>Pontiac Grand Prix</li>\n",
       "\t<li>Pontiac Montana</li>\n",
       "\t<li>Saab 9-5</li>\n",
       "\t<li>Saturn L-Series</li>\n",
       "\t<li>Saturn S-Series</li>\n",
       "\t<li>Saturn VUE</li>\n",
       "\t<li>Subaru Forester</li>\n",
       "\t<li>Subaru Impreza</li>\n",
       "\t<li>Subaru Legacy/Outback</li>\n",
       "\t<li>Suzuki Vitara/XL-7</li>\n",
       "\t<li>Toyota 4Runner</li>\n",
       "\t<li>Toyota Avalon</li>\n",
       "\t<li>Toyota Camry</li>\n",
       "\t<li>Toyota Camry Solara</li>\n",
       "\t<li>Toyota Celica</li>\n",
       "\t<li>Toyota Echo</li>\n",
       "\t<li>Toyota Highlander</li>\n",
       "\t<li>Toyota Land Cruiser</li>\n",
       "\t<li>Toyota Prius</li>\n",
       "\t<li>Toyota RAV4</li>\n",
       "\t<li>Toyota Sienna</li>\n",
       "\t<li>Volkswagon Golf</li>\n",
       "\t<li>Volkswagon Jetta</li>\n",
       "\t<li>Volkswagon New Beetle</li>\n",
       "\t<li>Volkswagon Passat</li>\n",
       "\t<li>Volvo S40/V40</li>\n",
       "\t<li>Volvo S60</li>\n",
       "\t<li>Volvo S80</li>\n",
       "\t<li>Volvo V70/Cross Country</li>\n",
       "</ol>\n"
      ],
      "text/latex": [
       "\\begin{enumerate*}\n",
       "\\item Acura MDX\n",
       "\\item Acura RL\n",
       "\\item Acura RSX\n",
       "\\item Acura TL\n",
       "\\item Audi A4\n",
       "\\item Audi A6\n",
       "\\item BMW 3-Series\n",
       "\\item BMW 5-Series\n",
       "\\item BMW X5\n",
       "\\item Buick LeSabre\n",
       "\\item Buick Park Avenue\n",
       "\\item Buick Rendezvous\n",
       "\\item Cadillac DeVille\n",
       "\\item Chevrolet Impala\n",
       "\\item Chevrolet Malibu\n",
       "\\item Chevrolet Suburban \n",
       "\\item Chevrolet Tracker\n",
       "\\item Chevrolet TrailBlazer\n",
       "\\item Chevrolet Venture\n",
       "\\item Chrysler 300M\n",
       "\\item Chrysler Concorde\n",
       "\\item Chrysler PT Cruiser\n",
       "\\item Chrysler Sebring\n",
       "\\item Chrysler Town \\& Country\n",
       "\\item Daewoo Leganza\n",
       "\\item Daewoo Nubira\n",
       "\\item Dodge Caravan/Grand Caravan\n",
       "\\item Dodge Durango\n",
       "\\item Dodge Intrepid\n",
       "\\item Dodge Neon\n",
       "\\item Dodge Stratus\n",
       "\\item Ford Crown Victoria\n",
       "\\item Ford Escape\n",
       "\\item Ford Excursion\n",
       "\\item Ford Explorer\n",
       "\\item Ford Focus\n",
       "\\item Ford Taurus\n",
       "\\item Ford Windstar\n",
       "\\item GMC Envoy\n",
       "\\item GMC Yukon XL\n",
       "\\item Honda Accord\n",
       "\\item Honda Civic\n",
       "\\item Honda CR-V\n",
       "\\item Honda Odyssey\n",
       "\\item Honda S2000\n",
       "\\item Hyundai Elantra\n",
       "\\item Hyundai Santa Fe\n",
       "\\item Hyundai Sonata\n",
       "\\item Infiniti G20\n",
       "\\item Infiniti I35\n",
       "\\item Jaguar S-Type\n",
       "\\item Jaguar X-Type\n",
       "\\item Jeep Grand Cherokee\n",
       "\\item Jeep Liberty\n",
       "\\item Kia Spectra\n",
       "\\item Kia Sportage\n",
       "\\item Land Rover Discovery\n",
       "\\item Land Rover Freelander\n",
       "\\item Lexus ES300\n",
       "\\item Lexus GS300/GS430\n",
       "\\item Lexus IS300\n",
       "\\item Lexus RX300\n",
       "\\item Lincoln Continental\n",
       "\\item Lincoln LS0\n",
       "\\item Lincoln Town Car\n",
       "\\item Mazda 626\n",
       "\\item Mazda MPV\n",
       "\\item Mazda MX-5 Miata\n",
       "\\item Mazda Prot\\textbackslash{}xe9g\\textbackslash{}xe9\n",
       "\\item Mazda Tribute\n",
       "\\item Mercedes-Benz C-Class\n",
       "\\item Mercedes-Benz E-Class\n",
       "\\item Mercedes-Benz M-Class\n",
       "\\item Mercury Cougar\n",
       "\\item Mercury Grand Marquis\n",
       "\\item Mercury Sable\n",
       "\\item Mercury Villager\n",
       "\\item Mitsubishi Diamante\n",
       "\\item Mitsubishi Eclipse\n",
       "\\item Mitsubishi Galant\n",
       "\\item Nissan Altima\n",
       "\\item Nissan Maxima\n",
       "\\item Nissan Pathfinder\n",
       "\\item Nissan Quest\n",
       "\\item Nissan Sentra\n",
       "\\item Nissan Xterra\n",
       "\\item Oldsmobile Alero\n",
       "\\item Oldsmobile Aurora\n",
       "\\item Oldsmobile Intrigue\n",
       "\\item Oldsmobile Silhouette\n",
       "\\item Pontiac Bonneville\n",
       "\\item Pontiac Grand Am\n",
       "\\item Pontiac Grand Prix\n",
       "\\item Pontiac Montana\n",
       "\\item Saab 9-5\n",
       "\\item Saturn L-Series\n",
       "\\item Saturn S-Series\n",
       "\\item Saturn VUE\n",
       "\\item Subaru Forester\n",
       "\\item Subaru Impreza\n",
       "\\item Subaru Legacy/Outback\n",
       "\\item Suzuki Vitara/XL-7\n",
       "\\item Toyota 4Runner\n",
       "\\item Toyota Avalon\n",
       "\\item Toyota Camry\n",
       "\\item Toyota Camry Solara\n",
       "\\item Toyota Celica\n",
       "\\item Toyota Echo\n",
       "\\item Toyota Highlander\n",
       "\\item Toyota Land Cruiser\n",
       "\\item Toyota Prius\n",
       "\\item Toyota RAV4\n",
       "\\item Toyota Sienna\n",
       "\\item Volkswagon Golf\n",
       "\\item Volkswagon Jetta\n",
       "\\item Volkswagon New Beetle\n",
       "\\item Volkswagon Passat\n",
       "\\item Volvo S40/V40\n",
       "\\item Volvo S60\n",
       "\\item Volvo S80\n",
       "\\item Volvo V70/Cross Country\n",
       "\\end{enumerate*}\n"
      ],
      "text/markdown": [
       "1. Acura MDX\n",
       "2. Acura RL\n",
       "3. Acura RSX\n",
       "4. Acura TL\n",
       "5. Audi A4\n",
       "6. Audi A6\n",
       "7. BMW 3-Series\n",
       "8. BMW 5-Series\n",
       "9. BMW X5\n",
       "10. Buick LeSabre\n",
       "11. Buick Park Avenue\n",
       "12. Buick Rendezvous\n",
       "13. Cadillac DeVille\n",
       "14. Chevrolet Impala\n",
       "15. Chevrolet Malibu\n",
       "16. Chevrolet Suburban \n",
       "17. Chevrolet Tracker\n",
       "18. Chevrolet TrailBlazer\n",
       "19. Chevrolet Venture\n",
       "20. Chrysler 300M\n",
       "21. Chrysler Concorde\n",
       "22. Chrysler PT Cruiser\n",
       "23. Chrysler Sebring\n",
       "24. Chrysler Town &amp; Country\n",
       "25. Daewoo Leganza\n",
       "26. Daewoo Nubira\n",
       "27. Dodge Caravan/Grand Caravan\n",
       "28. Dodge Durango\n",
       "29. Dodge Intrepid\n",
       "30. Dodge Neon\n",
       "31. Dodge Stratus\n",
       "32. Ford Crown Victoria\n",
       "33. Ford Escape\n",
       "34. Ford Excursion\n",
       "35. Ford Explorer\n",
       "36. Ford Focus\n",
       "37. Ford Taurus\n",
       "38. Ford Windstar\n",
       "39. GMC Envoy\n",
       "40. GMC Yukon XL\n",
       "41. Honda Accord\n",
       "42. Honda Civic\n",
       "43. Honda CR-V\n",
       "44. Honda Odyssey\n",
       "45. Honda S2000\n",
       "46. Hyundai Elantra\n",
       "47. Hyundai Santa Fe\n",
       "48. Hyundai Sonata\n",
       "49. Infiniti G20\n",
       "50. Infiniti I35\n",
       "51. Jaguar S-Type\n",
       "52. Jaguar X-Type\n",
       "53. Jeep Grand Cherokee\n",
       "54. Jeep Liberty\n",
       "55. Kia Spectra\n",
       "56. Kia Sportage\n",
       "57. Land Rover Discovery\n",
       "58. Land Rover Freelander\n",
       "59. Lexus ES300\n",
       "60. Lexus GS300/GS430\n",
       "61. Lexus IS300\n",
       "62. Lexus RX300\n",
       "63. Lincoln Continental\n",
       "64. Lincoln LS0\n",
       "65. Lincoln Town Car\n",
       "66. Mazda 626\n",
       "67. Mazda MPV\n",
       "68. Mazda MX-5 Miata\n",
       "69. Mazda Prot\\xe9g\\xe9\n",
       "70. Mazda Tribute\n",
       "71. Mercedes-Benz C-Class\n",
       "72. Mercedes-Benz E-Class\n",
       "73. Mercedes-Benz M-Class\n",
       "74. Mercury Cougar\n",
       "75. Mercury Grand Marquis\n",
       "76. Mercury Sable\n",
       "77. Mercury Villager\n",
       "78. Mitsubishi Diamante\n",
       "79. Mitsubishi Eclipse\n",
       "80. Mitsubishi Galant\n",
       "81. Nissan Altima\n",
       "82. Nissan Maxima\n",
       "83. Nissan Pathfinder\n",
       "84. Nissan Quest\n",
       "85. Nissan Sentra\n",
       "86. Nissan Xterra\n",
       "87. Oldsmobile Alero\n",
       "88. Oldsmobile Aurora\n",
       "89. Oldsmobile Intrigue\n",
       "90. Oldsmobile Silhouette\n",
       "91. Pontiac Bonneville\n",
       "92. Pontiac Grand Am\n",
       "93. Pontiac Grand Prix\n",
       "94. Pontiac Montana\n",
       "95. Saab 9-5\n",
       "96. Saturn L-Series\n",
       "97. Saturn S-Series\n",
       "98. Saturn VUE\n",
       "99. Subaru Forester\n",
       "100. Subaru Impreza\n",
       "101. Subaru Legacy/Outback\n",
       "102. Suzuki Vitara/XL-7\n",
       "103. Toyota 4Runner\n",
       "104. Toyota Avalon\n",
       "105. Toyota Camry\n",
       "106. Toyota Camry Solara\n",
       "107. Toyota Celica\n",
       "108. Toyota Echo\n",
       "109. Toyota Highlander\n",
       "110. Toyota Land Cruiser\n",
       "111. Toyota Prius\n",
       "112. Toyota RAV4\n",
       "113. Toyota Sienna\n",
       "114. Volkswagon Golf\n",
       "115. Volkswagon Jetta\n",
       "116. Volkswagon New Beetle\n",
       "117. Volkswagon Passat\n",
       "118. Volvo S40/V40\n",
       "119. Volvo S60\n",
       "120. Volvo S80\n",
       "121. Volvo V70/Cross Country\n",
       "\n",
       "\n"
      ],
      "text/plain": [
       "  [1] Acura MDX                   Acura RL                   \n",
       "  [3] Acura RSX                   Acura TL                   \n",
       "  [5] Audi A4                     Audi A6                    \n",
       "  [7] BMW 3-Series                BMW 5-Series               \n",
       "  [9] BMW X5                      Buick LeSabre              \n",
       " [11] Buick Park Avenue           Buick Rendezvous           \n",
       " [13] Cadillac DeVille            Chevrolet Impala           \n",
       " [15] Chevrolet Malibu            Chevrolet Suburban         \n",
       " [17] Chevrolet Tracker           Chevrolet TrailBlazer      \n",
       " [19] Chevrolet Venture           Chrysler 300M              \n",
       " [21] Chrysler Concorde           Chrysler PT Cruiser        \n",
       " [23] Chrysler Sebring            Chrysler Town & Country    \n",
       " [25] Daewoo Leganza              Daewoo Nubira              \n",
       " [27] Dodge Caravan/Grand Caravan Dodge Durango              \n",
       " [29] Dodge Intrepid              Dodge Neon                 \n",
       " [31] Dodge Stratus               Ford Crown Victoria        \n",
       " [33] Ford Escape                 Ford Excursion             \n",
       " [35] Ford Explorer               Ford Focus                 \n",
       " [37] Ford Taurus                 Ford Windstar              \n",
       " [39] GMC Envoy                   GMC Yukon XL               \n",
       " [41] Honda Accord                Honda Civic                \n",
       " [43] Honda CR-V                  Honda Odyssey              \n",
       " [45] Honda S2000                 Hyundai Elantra            \n",
       " [47] Hyundai Santa Fe            Hyundai Sonata             \n",
       " [49] Infiniti G20                Infiniti I35               \n",
       " [51] Jaguar S-Type               Jaguar X-Type              \n",
       " [53] Jeep Grand Cherokee         Jeep Liberty               \n",
       " [55] Kia Spectra                 Kia Sportage               \n",
       " [57] Land Rover Discovery        Land Rover Freelander      \n",
       " [59] Lexus ES300                 Lexus GS300/GS430          \n",
       " [61] Lexus IS300                 Lexus RX300                \n",
       " [63] Lincoln Continental         Lincoln LS0                \n",
       " [65] Lincoln Town Car            Mazda 626                  \n",
       " [67] Mazda MPV                   Mazda MX-5 Miata           \n",
       " [69] Mazda Prot\\xe9g\\xe9         Mazda Tribute              \n",
       " [71] Mercedes-Benz C-Class       Mercedes-Benz E-Class      \n",
       " [73] Mercedes-Benz M-Class       Mercury Cougar             \n",
       " [75] Mercury Grand Marquis       Mercury Sable              \n",
       " [77] Mercury Villager            Mitsubishi Diamante        \n",
       " [79] Mitsubishi Eclipse          Mitsubishi Galant          \n",
       " [81] Nissan Altima               Nissan Maxima              \n",
       " [83] Nissan Pathfinder           Nissan Quest               \n",
       " [85] Nissan Sentra               Nissan Xterra              \n",
       " [87] Oldsmobile Alero            Oldsmobile Aurora          \n",
       " [89] Oldsmobile Intrigue         Oldsmobile Silhouette      \n",
       " [91] Pontiac Bonneville          Pontiac Grand Am           \n",
       " [93] Pontiac Grand Prix          Pontiac Montana            \n",
       " [95] Saab 9-5                    Saturn L-Series            \n",
       " [97] Saturn S-Series             Saturn VUE                 \n",
       " [99] Subaru Forester             Subaru Impreza             \n",
       "[101] Subaru Legacy/Outback       Suzuki Vitara/XL-7         \n",
       "[103] Toyota 4Runner              Toyota Avalon              \n",
       "[105] Toyota Camry                Toyota Camry Solara        \n",
       "[107] Toyota Celica               Toyota Echo                \n",
       "[109] Toyota Highlander           Toyota Land Cruiser        \n",
       "[111] Toyota Prius                Toyota RAV4                \n",
       "[113] Toyota Sienna               Volkswagon Golf            \n",
       "[115] Volkswagon Jetta            Volkswagon New Beetle      \n",
       "[117] Volkswagon Passat           Volvo S40/V40              \n",
       "[119] Volvo S60                   Volvo S80                  \n",
       "[121] Volvo V70/Cross Country    \n",
       "121 Levels: Acura MDX Acura RL Acura RSX Acura TL Audi A4 ... Volvo V70/Cross Country"
      ]
     },
     "metadata": {},
     "output_type": "display_data"
    }
   ],
   "source": [
    "car$Name # using list notation"
   ]
  },
  {
   "cell_type": "code",
   "execution_count": 230,
   "metadata": {},
   "outputs": [
    {
     "data": {
      "text/html": [
       "<ol class=list-inline>\n",
       "\t<li>Acura MDX</li>\n",
       "\t<li>Acura RL</li>\n",
       "\t<li>Acura RSX</li>\n",
       "\t<li>Acura TL</li>\n",
       "\t<li>Audi A4</li>\n",
       "\t<li>Audi A6</li>\n",
       "\t<li>BMW 3-Series</li>\n",
       "\t<li>BMW 5-Series</li>\n",
       "\t<li>BMW X5</li>\n",
       "\t<li>Buick LeSabre</li>\n",
       "\t<li>Buick Park Avenue</li>\n",
       "\t<li>Buick Rendezvous</li>\n",
       "\t<li>Cadillac DeVille</li>\n",
       "\t<li>Chevrolet Impala</li>\n",
       "\t<li>Chevrolet Malibu</li>\n",
       "\t<li>Chevrolet Suburban </li>\n",
       "\t<li>Chevrolet Tracker</li>\n",
       "\t<li>Chevrolet TrailBlazer</li>\n",
       "\t<li>Chevrolet Venture</li>\n",
       "\t<li>Chrysler 300M</li>\n",
       "\t<li>Chrysler Concorde</li>\n",
       "\t<li>Chrysler PT Cruiser</li>\n",
       "\t<li>Chrysler Sebring</li>\n",
       "\t<li>Chrysler Town &amp; Country</li>\n",
       "\t<li>Daewoo Leganza</li>\n",
       "\t<li>Daewoo Nubira</li>\n",
       "\t<li>Dodge Caravan/Grand Caravan</li>\n",
       "\t<li>Dodge Durango</li>\n",
       "\t<li>Dodge Intrepid</li>\n",
       "\t<li>Dodge Neon</li>\n",
       "\t<li>Dodge Stratus</li>\n",
       "\t<li>Ford Crown Victoria</li>\n",
       "\t<li>Ford Escape</li>\n",
       "\t<li>Ford Excursion</li>\n",
       "\t<li>Ford Explorer</li>\n",
       "\t<li>Ford Focus</li>\n",
       "\t<li>Ford Taurus</li>\n",
       "\t<li>Ford Windstar</li>\n",
       "\t<li>GMC Envoy</li>\n",
       "\t<li>GMC Yukon XL</li>\n",
       "\t<li>Honda Accord</li>\n",
       "\t<li>Honda Civic</li>\n",
       "\t<li>Honda CR-V</li>\n",
       "\t<li>Honda Odyssey</li>\n",
       "\t<li>Honda S2000</li>\n",
       "\t<li>Hyundai Elantra</li>\n",
       "\t<li>Hyundai Santa Fe</li>\n",
       "\t<li>Hyundai Sonata</li>\n",
       "\t<li>Infiniti G20</li>\n",
       "\t<li>Infiniti I35</li>\n",
       "\t<li>Jaguar S-Type</li>\n",
       "\t<li>Jaguar X-Type</li>\n",
       "\t<li>Jeep Grand Cherokee</li>\n",
       "\t<li>Jeep Liberty</li>\n",
       "\t<li>Kia Spectra</li>\n",
       "\t<li>Kia Sportage</li>\n",
       "\t<li>Land Rover Discovery</li>\n",
       "\t<li>Land Rover Freelander</li>\n",
       "\t<li>Lexus ES300</li>\n",
       "\t<li>Lexus GS300/GS430</li>\n",
       "\t<li>Lexus IS300</li>\n",
       "\t<li>Lexus RX300</li>\n",
       "\t<li>Lincoln Continental</li>\n",
       "\t<li>Lincoln LS0</li>\n",
       "\t<li>Lincoln Town Car</li>\n",
       "\t<li>Mazda 626</li>\n",
       "\t<li>Mazda MPV</li>\n",
       "\t<li>Mazda MX-5 Miata</li>\n",
       "\t<li>Mazda Prot\\xe9g\\xe9</li>\n",
       "\t<li>Mazda Tribute</li>\n",
       "\t<li>Mercedes-Benz C-Class</li>\n",
       "\t<li>Mercedes-Benz E-Class</li>\n",
       "\t<li>Mercedes-Benz M-Class</li>\n",
       "\t<li>Mercury Cougar</li>\n",
       "\t<li>Mercury Grand Marquis</li>\n",
       "\t<li>Mercury Sable</li>\n",
       "\t<li>Mercury Villager</li>\n",
       "\t<li>Mitsubishi Diamante</li>\n",
       "\t<li>Mitsubishi Eclipse</li>\n",
       "\t<li>Mitsubishi Galant</li>\n",
       "\t<li>Nissan Altima</li>\n",
       "\t<li>Nissan Maxima</li>\n",
       "\t<li>Nissan Pathfinder</li>\n",
       "\t<li>Nissan Quest</li>\n",
       "\t<li>Nissan Sentra</li>\n",
       "\t<li>Nissan Xterra</li>\n",
       "\t<li>Oldsmobile Alero</li>\n",
       "\t<li>Oldsmobile Aurora</li>\n",
       "\t<li>Oldsmobile Intrigue</li>\n",
       "\t<li>Oldsmobile Silhouette</li>\n",
       "\t<li>Pontiac Bonneville</li>\n",
       "\t<li>Pontiac Grand Am</li>\n",
       "\t<li>Pontiac Grand Prix</li>\n",
       "\t<li>Pontiac Montana</li>\n",
       "\t<li>Saab 9-5</li>\n",
       "\t<li>Saturn L-Series</li>\n",
       "\t<li>Saturn S-Series</li>\n",
       "\t<li>Saturn VUE</li>\n",
       "\t<li>Subaru Forester</li>\n",
       "\t<li>Subaru Impreza</li>\n",
       "\t<li>Subaru Legacy/Outback</li>\n",
       "\t<li>Suzuki Vitara/XL-7</li>\n",
       "\t<li>Toyota 4Runner</li>\n",
       "\t<li>Toyota Avalon</li>\n",
       "\t<li>Toyota Camry</li>\n",
       "\t<li>Toyota Camry Solara</li>\n",
       "\t<li>Toyota Celica</li>\n",
       "\t<li>Toyota Echo</li>\n",
       "\t<li>Toyota Highlander</li>\n",
       "\t<li>Toyota Land Cruiser</li>\n",
       "\t<li>Toyota Prius</li>\n",
       "\t<li>Toyota RAV4</li>\n",
       "\t<li>Toyota Sienna</li>\n",
       "\t<li>Volkswagon Golf</li>\n",
       "\t<li>Volkswagon Jetta</li>\n",
       "\t<li>Volkswagon New Beetle</li>\n",
       "\t<li>Volkswagon Passat</li>\n",
       "\t<li>Volvo S40/V40</li>\n",
       "\t<li>Volvo S60</li>\n",
       "\t<li>Volvo S80</li>\n",
       "\t<li>Volvo V70/Cross Country</li>\n",
       "</ol>\n"
      ],
      "text/latex": [
       "\\begin{enumerate*}\n",
       "\\item Acura MDX\n",
       "\\item Acura RL\n",
       "\\item Acura RSX\n",
       "\\item Acura TL\n",
       "\\item Audi A4\n",
       "\\item Audi A6\n",
       "\\item BMW 3-Series\n",
       "\\item BMW 5-Series\n",
       "\\item BMW X5\n",
       "\\item Buick LeSabre\n",
       "\\item Buick Park Avenue\n",
       "\\item Buick Rendezvous\n",
       "\\item Cadillac DeVille\n",
       "\\item Chevrolet Impala\n",
       "\\item Chevrolet Malibu\n",
       "\\item Chevrolet Suburban \n",
       "\\item Chevrolet Tracker\n",
       "\\item Chevrolet TrailBlazer\n",
       "\\item Chevrolet Venture\n",
       "\\item Chrysler 300M\n",
       "\\item Chrysler Concorde\n",
       "\\item Chrysler PT Cruiser\n",
       "\\item Chrysler Sebring\n",
       "\\item Chrysler Town \\& Country\n",
       "\\item Daewoo Leganza\n",
       "\\item Daewoo Nubira\n",
       "\\item Dodge Caravan/Grand Caravan\n",
       "\\item Dodge Durango\n",
       "\\item Dodge Intrepid\n",
       "\\item Dodge Neon\n",
       "\\item Dodge Stratus\n",
       "\\item Ford Crown Victoria\n",
       "\\item Ford Escape\n",
       "\\item Ford Excursion\n",
       "\\item Ford Explorer\n",
       "\\item Ford Focus\n",
       "\\item Ford Taurus\n",
       "\\item Ford Windstar\n",
       "\\item GMC Envoy\n",
       "\\item GMC Yukon XL\n",
       "\\item Honda Accord\n",
       "\\item Honda Civic\n",
       "\\item Honda CR-V\n",
       "\\item Honda Odyssey\n",
       "\\item Honda S2000\n",
       "\\item Hyundai Elantra\n",
       "\\item Hyundai Santa Fe\n",
       "\\item Hyundai Sonata\n",
       "\\item Infiniti G20\n",
       "\\item Infiniti I35\n",
       "\\item Jaguar S-Type\n",
       "\\item Jaguar X-Type\n",
       "\\item Jeep Grand Cherokee\n",
       "\\item Jeep Liberty\n",
       "\\item Kia Spectra\n",
       "\\item Kia Sportage\n",
       "\\item Land Rover Discovery\n",
       "\\item Land Rover Freelander\n",
       "\\item Lexus ES300\n",
       "\\item Lexus GS300/GS430\n",
       "\\item Lexus IS300\n",
       "\\item Lexus RX300\n",
       "\\item Lincoln Continental\n",
       "\\item Lincoln LS0\n",
       "\\item Lincoln Town Car\n",
       "\\item Mazda 626\n",
       "\\item Mazda MPV\n",
       "\\item Mazda MX-5 Miata\n",
       "\\item Mazda Prot\\textbackslash{}xe9g\\textbackslash{}xe9\n",
       "\\item Mazda Tribute\n",
       "\\item Mercedes-Benz C-Class\n",
       "\\item Mercedes-Benz E-Class\n",
       "\\item Mercedes-Benz M-Class\n",
       "\\item Mercury Cougar\n",
       "\\item Mercury Grand Marquis\n",
       "\\item Mercury Sable\n",
       "\\item Mercury Villager\n",
       "\\item Mitsubishi Diamante\n",
       "\\item Mitsubishi Eclipse\n",
       "\\item Mitsubishi Galant\n",
       "\\item Nissan Altima\n",
       "\\item Nissan Maxima\n",
       "\\item Nissan Pathfinder\n",
       "\\item Nissan Quest\n",
       "\\item Nissan Sentra\n",
       "\\item Nissan Xterra\n",
       "\\item Oldsmobile Alero\n",
       "\\item Oldsmobile Aurora\n",
       "\\item Oldsmobile Intrigue\n",
       "\\item Oldsmobile Silhouette\n",
       "\\item Pontiac Bonneville\n",
       "\\item Pontiac Grand Am\n",
       "\\item Pontiac Grand Prix\n",
       "\\item Pontiac Montana\n",
       "\\item Saab 9-5\n",
       "\\item Saturn L-Series\n",
       "\\item Saturn S-Series\n",
       "\\item Saturn VUE\n",
       "\\item Subaru Forester\n",
       "\\item Subaru Impreza\n",
       "\\item Subaru Legacy/Outback\n",
       "\\item Suzuki Vitara/XL-7\n",
       "\\item Toyota 4Runner\n",
       "\\item Toyota Avalon\n",
       "\\item Toyota Camry\n",
       "\\item Toyota Camry Solara\n",
       "\\item Toyota Celica\n",
       "\\item Toyota Echo\n",
       "\\item Toyota Highlander\n",
       "\\item Toyota Land Cruiser\n",
       "\\item Toyota Prius\n",
       "\\item Toyota RAV4\n",
       "\\item Toyota Sienna\n",
       "\\item Volkswagon Golf\n",
       "\\item Volkswagon Jetta\n",
       "\\item Volkswagon New Beetle\n",
       "\\item Volkswagon Passat\n",
       "\\item Volvo S40/V40\n",
       "\\item Volvo S60\n",
       "\\item Volvo S80\n",
       "\\item Volvo V70/Cross Country\n",
       "\\end{enumerate*}\n"
      ],
      "text/markdown": [
       "1. Acura MDX\n",
       "2. Acura RL\n",
       "3. Acura RSX\n",
       "4. Acura TL\n",
       "5. Audi A4\n",
       "6. Audi A6\n",
       "7. BMW 3-Series\n",
       "8. BMW 5-Series\n",
       "9. BMW X5\n",
       "10. Buick LeSabre\n",
       "11. Buick Park Avenue\n",
       "12. Buick Rendezvous\n",
       "13. Cadillac DeVille\n",
       "14. Chevrolet Impala\n",
       "15. Chevrolet Malibu\n",
       "16. Chevrolet Suburban \n",
       "17. Chevrolet Tracker\n",
       "18. Chevrolet TrailBlazer\n",
       "19. Chevrolet Venture\n",
       "20. Chrysler 300M\n",
       "21. Chrysler Concorde\n",
       "22. Chrysler PT Cruiser\n",
       "23. Chrysler Sebring\n",
       "24. Chrysler Town &amp; Country\n",
       "25. Daewoo Leganza\n",
       "26. Daewoo Nubira\n",
       "27. Dodge Caravan/Grand Caravan\n",
       "28. Dodge Durango\n",
       "29. Dodge Intrepid\n",
       "30. Dodge Neon\n",
       "31. Dodge Stratus\n",
       "32. Ford Crown Victoria\n",
       "33. Ford Escape\n",
       "34. Ford Excursion\n",
       "35. Ford Explorer\n",
       "36. Ford Focus\n",
       "37. Ford Taurus\n",
       "38. Ford Windstar\n",
       "39. GMC Envoy\n",
       "40. GMC Yukon XL\n",
       "41. Honda Accord\n",
       "42. Honda Civic\n",
       "43. Honda CR-V\n",
       "44. Honda Odyssey\n",
       "45. Honda S2000\n",
       "46. Hyundai Elantra\n",
       "47. Hyundai Santa Fe\n",
       "48. Hyundai Sonata\n",
       "49. Infiniti G20\n",
       "50. Infiniti I35\n",
       "51. Jaguar S-Type\n",
       "52. Jaguar X-Type\n",
       "53. Jeep Grand Cherokee\n",
       "54. Jeep Liberty\n",
       "55. Kia Spectra\n",
       "56. Kia Sportage\n",
       "57. Land Rover Discovery\n",
       "58. Land Rover Freelander\n",
       "59. Lexus ES300\n",
       "60. Lexus GS300/GS430\n",
       "61. Lexus IS300\n",
       "62. Lexus RX300\n",
       "63. Lincoln Continental\n",
       "64. Lincoln LS0\n",
       "65. Lincoln Town Car\n",
       "66. Mazda 626\n",
       "67. Mazda MPV\n",
       "68. Mazda MX-5 Miata\n",
       "69. Mazda Prot\\xe9g\\xe9\n",
       "70. Mazda Tribute\n",
       "71. Mercedes-Benz C-Class\n",
       "72. Mercedes-Benz E-Class\n",
       "73. Mercedes-Benz M-Class\n",
       "74. Mercury Cougar\n",
       "75. Mercury Grand Marquis\n",
       "76. Mercury Sable\n",
       "77. Mercury Villager\n",
       "78. Mitsubishi Diamante\n",
       "79. Mitsubishi Eclipse\n",
       "80. Mitsubishi Galant\n",
       "81. Nissan Altima\n",
       "82. Nissan Maxima\n",
       "83. Nissan Pathfinder\n",
       "84. Nissan Quest\n",
       "85. Nissan Sentra\n",
       "86. Nissan Xterra\n",
       "87. Oldsmobile Alero\n",
       "88. Oldsmobile Aurora\n",
       "89. Oldsmobile Intrigue\n",
       "90. Oldsmobile Silhouette\n",
       "91. Pontiac Bonneville\n",
       "92. Pontiac Grand Am\n",
       "93. Pontiac Grand Prix\n",
       "94. Pontiac Montana\n",
       "95. Saab 9-5\n",
       "96. Saturn L-Series\n",
       "97. Saturn S-Series\n",
       "98. Saturn VUE\n",
       "99. Subaru Forester\n",
       "100. Subaru Impreza\n",
       "101. Subaru Legacy/Outback\n",
       "102. Suzuki Vitara/XL-7\n",
       "103. Toyota 4Runner\n",
       "104. Toyota Avalon\n",
       "105. Toyota Camry\n",
       "106. Toyota Camry Solara\n",
       "107. Toyota Celica\n",
       "108. Toyota Echo\n",
       "109. Toyota Highlander\n",
       "110. Toyota Land Cruiser\n",
       "111. Toyota Prius\n",
       "112. Toyota RAV4\n",
       "113. Toyota Sienna\n",
       "114. Volkswagon Golf\n",
       "115. Volkswagon Jetta\n",
       "116. Volkswagon New Beetle\n",
       "117. Volkswagon Passat\n",
       "118. Volvo S40/V40\n",
       "119. Volvo S60\n",
       "120. Volvo S80\n",
       "121. Volvo V70/Cross Country\n",
       "\n",
       "\n"
      ],
      "text/plain": [
       "  [1] Acura MDX                   Acura RL                   \n",
       "  [3] Acura RSX                   Acura TL                   \n",
       "  [5] Audi A4                     Audi A6                    \n",
       "  [7] BMW 3-Series                BMW 5-Series               \n",
       "  [9] BMW X5                      Buick LeSabre              \n",
       " [11] Buick Park Avenue           Buick Rendezvous           \n",
       " [13] Cadillac DeVille            Chevrolet Impala           \n",
       " [15] Chevrolet Malibu            Chevrolet Suburban         \n",
       " [17] Chevrolet Tracker           Chevrolet TrailBlazer      \n",
       " [19] Chevrolet Venture           Chrysler 300M              \n",
       " [21] Chrysler Concorde           Chrysler PT Cruiser        \n",
       " [23] Chrysler Sebring            Chrysler Town & Country    \n",
       " [25] Daewoo Leganza              Daewoo Nubira              \n",
       " [27] Dodge Caravan/Grand Caravan Dodge Durango              \n",
       " [29] Dodge Intrepid              Dodge Neon                 \n",
       " [31] Dodge Stratus               Ford Crown Victoria        \n",
       " [33] Ford Escape                 Ford Excursion             \n",
       " [35] Ford Explorer               Ford Focus                 \n",
       " [37] Ford Taurus                 Ford Windstar              \n",
       " [39] GMC Envoy                   GMC Yukon XL               \n",
       " [41] Honda Accord                Honda Civic                \n",
       " [43] Honda CR-V                  Honda Odyssey              \n",
       " [45] Honda S2000                 Hyundai Elantra            \n",
       " [47] Hyundai Santa Fe            Hyundai Sonata             \n",
       " [49] Infiniti G20                Infiniti I35               \n",
       " [51] Jaguar S-Type               Jaguar X-Type              \n",
       " [53] Jeep Grand Cherokee         Jeep Liberty               \n",
       " [55] Kia Spectra                 Kia Sportage               \n",
       " [57] Land Rover Discovery        Land Rover Freelander      \n",
       " [59] Lexus ES300                 Lexus GS300/GS430          \n",
       " [61] Lexus IS300                 Lexus RX300                \n",
       " [63] Lincoln Continental         Lincoln LS0                \n",
       " [65] Lincoln Town Car            Mazda 626                  \n",
       " [67] Mazda MPV                   Mazda MX-5 Miata           \n",
       " [69] Mazda Prot\\xe9g\\xe9         Mazda Tribute              \n",
       " [71] Mercedes-Benz C-Class       Mercedes-Benz E-Class      \n",
       " [73] Mercedes-Benz M-Class       Mercury Cougar             \n",
       " [75] Mercury Grand Marquis       Mercury Sable              \n",
       " [77] Mercury Villager            Mitsubishi Diamante        \n",
       " [79] Mitsubishi Eclipse          Mitsubishi Galant          \n",
       " [81] Nissan Altima               Nissan Maxima              \n",
       " [83] Nissan Pathfinder           Nissan Quest               \n",
       " [85] Nissan Sentra               Nissan Xterra              \n",
       " [87] Oldsmobile Alero            Oldsmobile Aurora          \n",
       " [89] Oldsmobile Intrigue         Oldsmobile Silhouette      \n",
       " [91] Pontiac Bonneville          Pontiac Grand Am           \n",
       " [93] Pontiac Grand Prix          Pontiac Montana            \n",
       " [95] Saab 9-5                    Saturn L-Series            \n",
       " [97] Saturn S-Series             Saturn VUE                 \n",
       " [99] Subaru Forester             Subaru Impreza             \n",
       "[101] Subaru Legacy/Outback       Suzuki Vitara/XL-7         \n",
       "[103] Toyota 4Runner              Toyota Avalon              \n",
       "[105] Toyota Camry                Toyota Camry Solara        \n",
       "[107] Toyota Celica               Toyota Echo                \n",
       "[109] Toyota Highlander           Toyota Land Cruiser        \n",
       "[111] Toyota Prius                Toyota RAV4                \n",
       "[113] Toyota Sienna               Volkswagon Golf            \n",
       "[115] Volkswagon Jetta            Volkswagon New Beetle      \n",
       "[117] Volkswagon Passat           Volvo S40/V40              \n",
       "[119] Volvo S60                   Volvo S80                  \n",
       "[121] Volvo V70/Cross Country    \n",
       "121 Levels: Acura MDX Acura RL Acura RSX Acura TL Audi A4 ... Volvo V70/Cross Country"
      ]
     },
     "metadata": {},
     "output_type": "display_data"
    }
   ],
   "source": [
    "car[[1]] # using list notation"
   ]
  },
  {
   "cell_type": "markdown",
   "metadata": {},
   "source": [
    "To index elements and only look at one column, you can do it many different ways, but this is the fastest"
   ]
  },
  {
   "cell_type": "code",
   "execution_count": 231,
   "metadata": {},
   "outputs": [
    {
     "data": {
      "text/html": [
       "<ol class=list-inline>\n",
       "\t<li>Acura MDX</li>\n",
       "\t<li>Acura RL</li>\n",
       "\t<li>Acura RSX</li>\n",
       "\t<li>Acura TL</li>\n",
       "\t<li>Audi A4</li>\n",
       "\t<li>Audi A6</li>\n",
       "\t<li>BMW 3-Series</li>\n",
       "\t<li>BMW 5-Series</li>\n",
       "\t<li>BMW X5</li>\n",
       "\t<li>Buick LeSabre</li>\n",
       "</ol>\n"
      ],
      "text/latex": [
       "\\begin{enumerate*}\n",
       "\\item Acura MDX\n",
       "\\item Acura RL\n",
       "\\item Acura RSX\n",
       "\\item Acura TL\n",
       "\\item Audi A4\n",
       "\\item Audi A6\n",
       "\\item BMW 3-Series\n",
       "\\item BMW 5-Series\n",
       "\\item BMW X5\n",
       "\\item Buick LeSabre\n",
       "\\end{enumerate*}\n"
      ],
      "text/markdown": [
       "1. Acura MDX\n",
       "2. Acura RL\n",
       "3. Acura RSX\n",
       "4. Acura TL\n",
       "5. Audi A4\n",
       "6. Audi A6\n",
       "7. BMW 3-Series\n",
       "8. BMW 5-Series\n",
       "9. BMW X5\n",
       "10. Buick LeSabre\n",
       "\n",
       "\n"
      ],
      "text/plain": [
       " [1] Acura MDX     Acura RL      Acura RSX     Acura TL      Audi A4      \n",
       " [6] Audi A6       BMW 3-Series  BMW 5-Series  BMW X5        Buick LeSabre\n",
       "121 Levels: Acura MDX Acura RL Acura RSX Acura TL Audi A4 ... Volvo V70/Cross Country"
      ]
     },
     "metadata": {},
     "output_type": "display_data"
    }
   ],
   "source": [
    "car$Name[1:10]"
   ]
  },
  {
   "cell_type": "markdown",
   "metadata": {},
   "source": [
    "## Save Work"
   ]
  },
  {
   "cell_type": "code",
   "execution_count": 260,
   "metadata": {
    "collapsed": true
   },
   "outputs": [],
   "source": [
    "result <- car"
   ]
  },
  {
   "cell_type": "markdown",
   "metadata": {},
   "source": [
    "Save as a csv"
   ]
  },
  {
   "cell_type": "code",
   "execution_count": 271,
   "metadata": {
    "collapsed": true
   },
   "outputs": [],
   "source": [
    "write.csv(result, file='result.csv', row.names=FALSE)"
   ]
  },
  {
   "cell_type": "markdown",
   "metadata": {},
   "source": [
    "Load the csv back"
   ]
  },
  {
   "cell_type": "code",
   "execution_count": 272,
   "metadata": {
    "collapsed": true
   },
   "outputs": [],
   "source": [
    "loaded_csv <- read.csv('result.csv')"
   ]
  },
  {
   "cell_type": "markdown",
   "metadata": {},
   "source": [
    "Display the results of the loaded file"
   ]
  },
  {
   "cell_type": "code",
   "execution_count": 273,
   "metadata": {},
   "outputs": [
    {
     "data": {
      "text/html": [
       "<table>\n",
       "<thead><tr><th scope=col>Name</th><th scope=col>SUV</th><th scope=col>Drive.Type</th><th scope=col>Horsepower</th><th scope=col>Fuel.Type</th><th scope=col>MPG</th><th scope=col>Length</th><th scope=col>Width</th><th scope=col>Weight</th><th scope=col>Cargo.Volume</th><th scope=col>Turning.Circle</th></tr></thead>\n",
       "<tbody>\n",
       "\t<tr><td>Acura MDX</td><td>Yes      </td><td>AWD      </td><td>240      </td><td>Premium  </td><td>18       </td><td>189      </td><td>76       </td><td>4485     </td><td>42       </td><td>38       </td></tr>\n",
       "\t<tr><td>Acura RL </td><td>No       </td><td>Front    </td><td>225      </td><td>Premium  </td><td>21       </td><td>197      </td><td>72       </td><td>3860     </td><td>15       </td><td>39       </td></tr>\n",
       "\t<tr><td>Acura RSX</td><td>No       </td><td>Front    </td><td>160      </td><td>Premium  </td><td>26       </td><td>172      </td><td>68       </td><td>2780     </td><td>18       </td><td>40       </td></tr>\n",
       "\t<tr><td>Acura TL </td><td>No       </td><td>Front    </td><td>225      </td><td>Premium  </td><td>22       </td><td>193      </td><td>71       </td><td>3520     </td><td>14       </td><td>42       </td></tr>\n",
       "\t<tr><td>Audi A4  </td><td>No       </td><td>Front    </td><td>170      </td><td>Premium  </td><td>20       </td><td>179      </td><td>70       </td><td>3745     </td><td>13       </td><td>37       </td></tr>\n",
       "\t<tr><td>Audi A6  </td><td>No       </td><td>Front    </td><td>220      </td><td>Premium  </td><td>18       </td><td>192      </td><td>76       </td><td>3915     </td><td>15       </td><td>39       </td></tr>\n",
       "</tbody>\n",
       "</table>\n"
      ],
      "text/latex": [
       "\\begin{tabular}{r|lllllllllll}\n",
       " Name & SUV & Drive.Type & Horsepower & Fuel.Type & MPG & Length & Width & Weight & Cargo.Volume & Turning.Circle\\\\\n",
       "\\hline\n",
       "\t Acura MDX & Yes       & AWD       & 240       & Premium   & 18        & 189       & 76        & 4485      & 42        & 38       \\\\\n",
       "\t Acura RL  & No        & Front     & 225       & Premium   & 21        & 197       & 72        & 3860      & 15        & 39       \\\\\n",
       "\t Acura RSX & No        & Front     & 160       & Premium   & 26        & 172       & 68        & 2780      & 18        & 40       \\\\\n",
       "\t Acura TL  & No        & Front     & 225       & Premium   & 22        & 193       & 71        & 3520      & 14        & 42       \\\\\n",
       "\t Audi A4   & No        & Front     & 170       & Premium   & 20        & 179       & 70        & 3745      & 13        & 37       \\\\\n",
       "\t Audi A6   & No        & Front     & 220       & Premium   & 18        & 192       & 76        & 3915      & 15        & 39       \\\\\n",
       "\\end{tabular}\n"
      ],
      "text/markdown": [
       "\n",
       "Name | SUV | Drive.Type | Horsepower | Fuel.Type | MPG | Length | Width | Weight | Cargo.Volume | Turning.Circle | \n",
       "|---|---|---|---|---|---|\n",
       "| Acura MDX | Yes       | AWD       | 240       | Premium   | 18        | 189       | 76        | 4485      | 42        | 38        | \n",
       "| Acura RL  | No        | Front     | 225       | Premium   | 21        | 197       | 72        | 3860      | 15        | 39        | \n",
       "| Acura RSX | No        | Front     | 160       | Premium   | 26        | 172       | 68        | 2780      | 18        | 40        | \n",
       "| Acura TL  | No        | Front     | 225       | Premium   | 22        | 193       | 71        | 3520      | 14        | 42        | \n",
       "| Audi A4   | No        | Front     | 170       | Premium   | 20        | 179       | 70        | 3745      | 13        | 37        | \n",
       "| Audi A6   | No        | Front     | 220       | Premium   | 18        | 192       | 76        | 3915      | 15        | 39        | \n",
       "\n",
       "\n"
      ],
      "text/plain": [
       "  Name      SUV Drive.Type Horsepower Fuel.Type MPG Length Width Weight\n",
       "1 Acura MDX Yes AWD        240        Premium   18  189    76    4485  \n",
       "2 Acura RL  No  Front      225        Premium   21  197    72    3860  \n",
       "3 Acura RSX No  Front      160        Premium   26  172    68    2780  \n",
       "4 Acura TL  No  Front      225        Premium   22  193    71    3520  \n",
       "5 Audi A4   No  Front      170        Premium   20  179    70    3745  \n",
       "6 Audi A6   No  Front      220        Premium   18  192    76    3915  \n",
       "  Cargo.Volume Turning.Circle\n",
       "1 42           38            \n",
       "2 15           39            \n",
       "3 18           40            \n",
       "4 14           42            \n",
       "5 13           37            \n",
       "6 15           39            "
      ]
     },
     "metadata": {},
     "output_type": "display_data"
    }
   ],
   "source": [
    "head(loaded_csv)"
   ]
  },
  {
   "cell_type": "markdown",
   "metadata": {},
   "source": [
    "## Graphing "
   ]
  },
  {
   "cell_type": "code",
   "execution_count": 275,
   "metadata": {},
   "outputs": [],
   "source": [
    "options(jupyter.plot_mimetypes = 'image/png')"
   ]
  },
  {
   "cell_type": "code",
   "execution_count": 289,
   "metadata": {},
   "outputs": [
    {
     "data": {
      "image/png": "[encoded data removed]"
     },
     "metadata": {},
     "output_type": "display_data"
    }
   ],
   "source": [
    "barplot(car$Horsepower)"
   ]
  },
  {
   "cell_type": "code",
   "execution_count": 278,
   "metadata": {},
   "outputs": [
    {
     "data": {
      "image/png": "[encoded data removed]"
     },
     "metadata": {},
     "output_type": "display_data"
    }
   ],
   "source": [
    "plot(car$Horsepower, car$MPG)"
   ]
  },
  {
   "cell_type": "code",
   "execution_count": 284,
   "metadata": {},
   "outputs": [
    {
     "data": {
      "image/png": "[encoded data removed]"
     },
     "metadata": {},
     "output_type": "display_data"
    }
   ],
   "source": [
    "hist(car$Length, breaks=8)"
   ]
  },
  {
   "cell_type": "markdown",
   "metadata": {},
   "source": [
    "## Saving a Graph "
   ]
  },
  {
   "cell_type": "markdown",
   "metadata": {},
   "source": [
    "Note: Might need to write all of these at once"
   ]
  },
  {
   "cell_type": "code",
   "execution_count": 302,
   "metadata": {},
   "outputs": [
    {
     "data": {
      "text/html": [
       "<strong>pdf:</strong> 2"
      ],
      "text/latex": [
       "\\textbf{pdf:} 2"
      ],
      "text/markdown": [
       "**pdf:** 2"
      ],
      "text/plain": [
       "pdf \n",
       "  2 "
      ]
     },
     "metadata": {},
     "output_type": "display_data"
    }
   ],
   "source": [
    "pdf('saved_chart.pdf', width=5, height=5) # open and create the file\n",
    "hist(car$Length, breaks=8) # draw the chart on the pdf\n",
    "dev.off() # close the file"
   ]
  },
  {
   "cell_type": "markdown",
   "metadata": {},
   "source": [
    "## Sample"
   ]
  },
  {
   "cell_type": "markdown",
   "metadata": {},
   "source": [
    "Sample some random numbers"
   ]
  },
  {
   "cell_type": "code",
   "execution_count": 327,
   "metadata": {
    "scrolled": true
   },
   "outputs": [
    {
     "data": {
      "text/html": [
       "<ol class=list-inline>\n",
       "\t<li>5140</li>\n",
       "\t<li>3325</li>\n",
       "\t<li>4786</li>\n",
       "\t<li>5370</li>\n",
       "\t<li>117</li>\n",
       "</ol>\n"
      ],
      "text/latex": [
       "\\begin{enumerate*}\n",
       "\\item 5140\n",
       "\\item 3325\n",
       "\\item 4786\n",
       "\\item 5370\n",
       "\\item 117\n",
       "\\end{enumerate*}\n"
      ],
      "text/markdown": [
       "1. 5140\n",
       "2. 3325\n",
       "3. 4786\n",
       "4. 5370\n",
       "5. 117\n",
       "\n",
       "\n"
      ],
      "text/plain": [
       "[1] 5140 3325 4786 5370  117"
      ]
     },
     "metadata": {},
     "output_type": "display_data"
    }
   ],
   "source": [
    "sample(seq(10000), 5)"
   ]
  },
  {
   "cell_type": "markdown",
   "metadata": {},
   "source": [
    "Sample some random letters"
   ]
  },
  {
   "cell_type": "code",
   "execution_count": 322,
   "metadata": {},
   "outputs": [
    {
     "data": {
      "text/html": [
       "<ol class=list-inline>\n",
       "\t<li>'X'</li>\n",
       "\t<li>'G'</li>\n",
       "\t<li>'W'</li>\n",
       "</ol>\n"
      ],
      "text/latex": [
       "\\begin{enumerate*}\n",
       "\\item 'X'\n",
       "\\item 'G'\n",
       "\\item 'W'\n",
       "\\end{enumerate*}\n"
      ],
      "text/markdown": [
       "1. 'X'\n",
       "2. 'G'\n",
       "3. 'W'\n",
       "\n",
       "\n"
      ],
      "text/plain": [
       "[1] \"X\" \"G\" \"W\""
      ]
     },
     "metadata": {},
     "output_type": "display_data"
    }
   ],
   "source": [
    "sample(LETTERS, 3)"
   ]
  },
  {
   "cell_type": "markdown",
   "metadata": {},
   "source": [
    "## If Statements"
   ]
  },
  {
   "cell_type": "markdown",
   "metadata": {},
   "source": [
    "## While Loop"
   ]
  },
  {
   "cell_type": "markdown",
   "metadata": {},
   "source": [
    "## For Loop"
   ]
  },
  {
   "cell_type": "markdown",
   "metadata": {},
   "source": [
    "## Write a function"
   ]
  }
 ],
 "metadata": {
  "kernelspec": {
   "display_name": "R",
   "language": "R",
   "name": "ir"
  },
  "language_info": {
   "codemirror_mode": "r",
   "file_extension": ".r",
   "mimetype": "text/x-r-source",
   "name": "R",
   "pygments_lexer": "r",
   "version": "3.3.3"
  }
 },
 "nbformat": 4,
 "nbformat_minor": 2
}
